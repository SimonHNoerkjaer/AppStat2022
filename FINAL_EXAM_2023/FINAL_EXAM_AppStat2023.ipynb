{
 "cells": [
  {
   "attachments": {},
   "cell_type": "markdown",
   "metadata": {},
   "source": [
    "# App Stat Exam2023    -    **Exam Number: 100**"
   ]
  },
  {
   "attachments": {},
   "cell_type": "markdown",
   "metadata": {},
   "source": [
    "## Importing libraries:"
   ]
  },
  {
   "cell_type": "code",
   "execution_count": 1,
   "metadata": {},
   "outputs": [],
   "source": [
    "#Other good imports                        \n",
    "from numpy.linalg import matrix_power                                                                       \n",
    "from iminuit import Minuit                                                                 \n",
    "from scipy.integrate import quad\n",
    "import sympy as sp\n",
    "from sympy import integrate , print_latex\n",
    "import pandas as pd\n",
    "from IPython.display import display\n",
    "\n",
    "\n",
    "#Packages needed for the external functions\n",
    "import numpy as np\n",
    "import sympy as sp\n",
    "import matplotlib.pyplot as plt\n",
    "import scipy.stats as stats\n",
    "from sklearn.metrics import roc_curve, auc\n",
    "from iminuit.util import make_func_code\n",
    "from iminuit import describe \n",
    "\n",
    "\n",
    "# import sequence of functions from external file\n",
    "import sys \n",
    "# sys.path.append('../External_Functions')\n",
    "from MyExternalFunctionsForExam import *\n",
    "\n",
    "Matplotlib_settings()\n",
    "\n",
    "## plt.savefig('.pdf')                     #Save the figure as pdf command\n",
    "## np.loadtxt('.txt')                      OPTIONAL: skiprows=#, usecols=(#,#,#,#), comments='#', delimiter=',' \n",
    "## - alternative: np.genfromtxt('.txt', skip_header=1, skip_footer=4)"
   ]
  },
  {
   "attachments": {},
   "cell_type": "markdown",
   "metadata": {},
   "source": [
    "## 1) Distributions and probabilities"
   ]
  },
  {
   "attachments": {},
   "cell_type": "markdown",
   "metadata": {},
   "source": [
    "### 1.1) "
   ]
  },
  {
   "cell_type": "code",
   "execution_count": 21,
   "metadata": {},
   "outputs": [
    {
     "name": "stdout",
     "output_type": "stream",
     "text": [
      "0.17466632194020804\n",
      "1.8257418583505538\n",
      "0.3584492644127471\n"
     ]
    }
   ],
   "source": [
    "#Two gaussian distributions with mu=50 and sigma=20\n",
    "mu = 50\n",
    "sigma = 20\n",
    "\n",
    "\n",
    "#1.1.1)\n",
    "Frac_between_55_and_65 = stats.norm.cdf(65,mu,sigma)-stats.norm.cdf(55,mu,sigma)\n",
    "print(Frac_between_55_and_65)\n",
    "\n",
    "#1.1.2) \n",
    "#Here we do get the actual real mu and sigma values, so no loss in ndof for estimating. \n",
    "error_on_mean = sigma/np.sqrt(120)\n",
    "print(error_on_mean)\n",
    "\n",
    "#1.1.3)\n",
    "\n",
    "\n",
    "# Correlation coefficient\n",
    "rho = 0.60\n",
    "\n",
    "# Z-score for a score of 60\n",
    "z = (60 - mu) / sigma\n",
    "\n",
    "new_mu = rho*z\n",
    "new_sigma = np.sqrt(1 - rho**2)\n",
    "\n",
    "# Bivariate normal cumulative distribution function\n",
    "p = stats.norm.cdf(z, new_mu, new_sigma)\n",
    "\n",
    "# Probability of getting a score above 60 in both tests\n",
    "prob = p**2\n",
    "print(prob)\n"
   ]
  },
  {
   "attachments": {},
   "cell_type": "markdown",
   "metadata": {},
   "source": [
    "### 1.2)"
   ]
  },
  {
   "cell_type": "code",
   "execution_count": 27,
   "metadata": {},
   "outputs": [
    {
     "name": "stdout",
     "output_type": "stream",
     "text": [
      "0.12752124614721674\n"
     ]
    }
   ],
   "source": [
    "win_rate = 0.4 \n",
    "min_wins = 11\n",
    "N_games = 20 \n",
    "\n",
    "chance_of_winning = stats.binom.sf(min_wins-1, N_games, win_rate)\n",
    "print(chance_of_winning)"
   ]
  },
  {
   "attachments": {},
   "cell_type": "markdown",
   "metadata": {},
   "source": [
    "## 2) Error Propagation"
   ]
  },
  {
   "attachments": {},
   "cell_type": "markdown",
   "metadata": {},
   "source": [
    "### 2.1) "
   ]
  },
  {
   "cell_type": "code",
   "execution_count": null,
   "metadata": {},
   "outputs": [],
   "source": []
  },
  {
   "attachments": {},
   "cell_type": "markdown",
   "metadata": {},
   "source": [
    "### 2.2) "
   ]
  },
  {
   "cell_type": "code",
   "execution_count": null,
   "metadata": {},
   "outputs": [],
   "source": []
  },
  {
   "attachments": {},
   "cell_type": "markdown",
   "metadata": {},
   "source": [
    "## 3) Simulation / Monte Carlo "
   ]
  },
  {
   "attachments": {},
   "cell_type": "markdown",
   "metadata": {},
   "source": [
    "### 3.1)"
   ]
  },
  {
   "cell_type": "code",
   "execution_count": null,
   "metadata": {},
   "outputs": [],
   "source": []
  },
  {
   "attachments": {},
   "cell_type": "markdown",
   "metadata": {},
   "source": [
    "## 4) Statistical Tests"
   ]
  },
  {
   "attachments": {},
   "cell_type": "markdown",
   "metadata": {},
   "source": [
    "### 4.1)"
   ]
  },
  {
   "cell_type": "code",
   "execution_count": null,
   "metadata": {},
   "outputs": [],
   "source": []
  },
  {
   "attachments": {},
   "cell_type": "markdown",
   "metadata": {},
   "source": [
    "## 5) Fitting data"
   ]
  },
  {
   "attachments": {},
   "cell_type": "markdown",
   "metadata": {},
   "source": [
    "### 5.1)"
   ]
  },
  {
   "cell_type": "code",
   "execution_count": null,
   "metadata": {},
   "outputs": [],
   "source": []
  },
  {
   "attachments": {},
   "cell_type": "markdown",
   "metadata": {},
   "source": [
    "### 5.2)"
   ]
  },
  {
   "cell_type": "code",
   "execution_count": null,
   "metadata": {},
   "outputs": [],
   "source": []
  }
 ],
 "metadata": {
  "kernelspec": {
   "display_name": "base",
   "language": "python",
   "name": "python3"
  },
  "language_info": {
   "codemirror_mode": {
    "name": "ipython",
    "version": 3
   },
   "file_extension": ".py",
   "mimetype": "text/x-python",
   "name": "python",
   "nbconvert_exporter": "python",
   "pygments_lexer": "ipython3",
   "version": "3.9.12"
  },
  "orig_nbformat": 4,
  "vscode": {
   "interpreter": {
    "hash": "d12e26f72a40d5c48233c54861fca038d6a92135fc0e5e920944e69c69b6b29d"
   }
  }
 },
 "nbformat": 4,
 "nbformat_minor": 2
}
