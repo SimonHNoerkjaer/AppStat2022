{
 "cells": [
  {
   "cell_type": "markdown",
   "metadata": {},
   "source": [
    "# Error Propagation using Random Gaussian Numbers\n",
    "\n",
    "Example calculation of propagating uncertainties, both when adding and multiplying number, and also in the general case. The propagation can be done both analytically (using the error propagation formula) and also using simulation.\n",
    "\n",
    "The example is based on FIRST doing the error propagation **analytically**, and then verifying it by running a so-called Monte-Carlo (MC) program, which uses random numbers for propagating errors.\n",
    "\n",
    "## References:\n",
    "- Barlow: page 48-61\n",
    "- Bevington: page 36-48\n",
    "\n",
    "## Author(s), contact(s), and dates:\n",
    "- Author: Troels C. Petersen (NBI)\n",
    "- Email:  petersen@nbi.dk\n",
    "- Date:   8th of November 2022"
   ]
  },
  {
   "cell_type": "markdown",
   "metadata": {},
   "source": [
    "***\n",
    "\n",
    "DO THE FOLLOWING ANALYTICAL EXERCISE FIRST!!!\n",
    "\n",
    "1. A class of students estimate by eye, that the length of the table in Auditorium A is $L = (3.5\\pm 0.4)$ m, and that the width is $W = (0.8\\pm 0.2)$ m.\n",
    "\n",
    "   Assuming that there is no correlation between these two measurements, calculate ANALYTICALLY what the Perimeter (P), area (A), and diagonal (D) length is including (propagated) uncertainties. Repeat the calculation, given that the correlation between length and width is $\\rho(L,W) = 0.5$ - not an unreasonable number, given that they are estimated by the same (uncertain) scale.\n",
    "   \n",
    "NOTE: This is a complete standard problem, that you will be asked to solve again and again in the course. For this reason, make sure that you understand how to do it, and become good at doing it reasonably fast.\n"
   ]
  },
  {
   "cell_type": "code",
   "execution_count": 131,
   "metadata": {},
   "outputs": [
    {
     "name": "stdout",
     "output_type": "stream",
     "text": [
      "Results for rho = 0 :\n",
      "P =  8.6  +/-  0.894427190999916\n",
      "A =  2.8000000000000003  +/-  0.769675256195754\n",
      "D =  3.59026461420325  +/-  0.0622814254039606\n",
      "Results for rho = 0.5 :\n",
      "P =  8.6  +/-  1.05830052442584\n",
      "A =  2.8000000000000003  +/-  0.903548559846121\n",
      "D =  3.59026461420325  +/-  0.0835593005633029\n"
     ]
    }
   ],
   "source": [
    "import sympy as sp # import the sympy library\n",
    "\n",
    "# define the variables\n",
    "L , W , P , A , D , rho = sp.symbols('L W P A D rho')\n",
    "\n",
    "L=3.5 # m\n",
    "W=0.8 # m\n",
    "\n",
    "# define the equation\n",
    "P = 2*L + 2*W                  # perimeter\n",
    "A = L*W                        # area\n",
    "D = sp.sqrt(L**2 + W**2)       # diagonal\n",
    "\n",
    "\n",
    "# define uncertainty\n",
    "dL = 0.4\n",
    "dW = 0.2\n",
    "\n",
    "#calculate the uncertainty\n",
    "dP = sp.sqrt((2*dL)**2 + (2*dW)**2)\n",
    "dA = sp.sqrt((dL*W)**2 + (L*dW)**2)\n",
    "dD = sp.sqrt((dL/(2*D))**2 + (dW/(2*D))**2)\n",
    "\n",
    "\n",
    "# print the results\n",
    "print('Results for rho = 0 :')\n",
    "print('P = ', P, ' +/- ', dP)   # perimeter\n",
    "print('A = ', A, ' +/- ', dA)   # area\n",
    "print('D = ', D, ' +/- ', dD)   # diagonal\n",
    "\n",
    "# calculate correlated uncertainty\n",
    "rho = 0.5\n",
    "dP = sp.sqrt((2*dL)**2 + (2*dW)**2 + 2*rho*2*dL*2*dW)                # perimeter\n",
    "dA = sp.sqrt((dL*W)**2 + (L*dW)**2 + 2*rho*dL*W*dW*L)                # area\n",
    "dD = sp.sqrt((dL/(2*D))**2 + (dW/(2*D))**2 + 2*rho*dL*dW/(2*D**2))   # diagonal\n",
    "\n",
    "\n",
    "# print the results\n",
    "print('Results for rho = 0.5 :')\n",
    "print('P = ', P, ' +/- ', dP)   # perimeter\n",
    "print('A = ', A, ' +/- ', dA)   # area\n",
    "print('D = ', D, ' +/- ', dD)   # diagonal\n"
   ]
  },
  {
   "cell_type": "code",
   "execution_count": 132,
   "metadata": {},
   "outputs": [],
   "source": [
    "# Defining the parameters:\n",
    "mu1   =  3.5\n",
    "sig1  =  0.4\n",
    "mu2   =  0.8\n",
    "sig2  =  0.2\n",
    "rho12 =  0.5           # Correlation parameter!"
   ]
  },
  {
   "cell_type": "code",
   "execution_count": 133,
   "metadata": {},
   "outputs": [],
   "source": [
    "if not (-1.0 <= rho12 <= 1.0): \n",
    "    raise ValueError(f\"Correlation factor not in interval [-1,1], as it is {rho12:6.2f}\")"
   ]
  },
  {
   "cell_type": "markdown",
   "metadata": {},
   "source": [
    "### Note on analytic solutions:\n",
    "\n",
    "Python includes symbolic algebra in the package *SymPy*, which is both simple and powerful (and in Python). In addition, printing with Latex can also be included (see below), which (in combination) is very nice.\n",
    "\n",
    "Below is a SymPy and Latex example with the hope that it will wet your appetite."
   ]
  },
  {
   "cell_type": "code",
   "execution_count": 134,
   "metadata": {},
   "outputs": [],
   "source": [
    "from IPython.core.display import Latex\n",
    "\n",
    "def lprint(*args,**kwargs):\n",
    "    \"\"\"Pretty print arguments as LaTeX using IPython display system \n",
    "    \n",
    "    Parameters\n",
    "    ----------\n",
    "    args : tuple \n",
    "        What to print (in LaTeX math mode)\n",
    "    kwargs : dict \n",
    "        optional keywords to pass to `display` \n",
    "    \"\"\"\n",
    "    display(Latex('$$'+' '.join(args)+'$$'),**kwargs)"
   ]
  },
  {
   "cell_type": "code",
   "execution_count": 135,
   "metadata": {},
   "outputs": [
    {
     "data": {
      "text/latex": [
       "$$P = 2 L + 2 W$$"
      ],
      "text/plain": [
       "<IPython.core.display.Latex object>"
      ]
     },
     "metadata": {},
     "output_type": "display_data"
    },
    {
     "data": {
      "text/latex": [
       "$$\\sigma_{P} = \\sqrt{4 \\sigma_{L}^{2} + 4 \\sigma_{W}^{2}}$$"
      ],
      "text/plain": [
       "<IPython.core.display.Latex object>"
      ]
     },
     "metadata": {},
     "output_type": "display_data"
    },
    {
     "data": {
      "text/latex": [
       "$$P = (8.6 \\pm 0.9)\\,\\mathrm{m}$$"
      ],
      "text/plain": [
       "<IPython.core.display.Latex object>"
      ]
     },
     "metadata": {},
     "output_type": "display_data"
    }
   ],
   "source": [
    "# Import SymPy: \n",
    "from sympy import * \n",
    "    \n",
    "# Define variables:\n",
    "L,W,P,A,D = symbols(\"L, W, P, A, D\")\n",
    "dL,dW,dP,dA,dD = symbols(\"sigma_L, sigma_W, sigma_P, sigma_A, sigma_D\")\n",
    "\n",
    "# Perimeter:\n",
    "# Define relation, and print:\n",
    "P = 2*L + 2*W\n",
    "lprint(latex(Eq(symbols('P'),P)))\n",
    "\n",
    "# Calculate uncertainty and print:\n",
    "dP = sqrt((P.diff(L) * dL)**2 + (P.diff(W) * dW)**2)\n",
    "lprint(latex(Eq(symbols('sigma_P'), dP)))\n",
    "\n",
    "# Turn expression into numerical functions \n",
    "fP = lambdify((L,W),P)\n",
    "fdP = lambdify((L,dL,W,dW),dP)\n",
    "\n",
    "# Define values and their errors\n",
    "vL, vdL = mu1,sig1\n",
    "vW, vdW = mu2,sig2\n",
    "\n",
    "# Numerically evaluate expressions and print \n",
    "vP = fP(vL,vW)\n",
    "vdP = fdP(vL,vdL,vW,vdW)\n",
    "lprint(fr'P = ({vP:.1f} \\pm {vdP:.1f})\\,\\mathrm{{m}}')\n",
    "\n",
    "\n",
    "\n",
    "\n",
    "# NOTE: Do the above analytical calculation before you continue below! Possibly use SymPy for the differentiations."
   ]
  },
  {
   "cell_type": "code",
   "execution_count": 136,
   "metadata": {},
   "outputs": [],
   "source": [
    "import numpy as np                                     # Matlab like syntax for linear algebra and functions\n",
    "import matplotlib.pyplot as plt                        # Plots and figures like you know them from Matlab\n",
    "import seaborn as sns                                  # Make the plots nicer to look at\n",
    "from iminuit import Minuit                             # The actual fitting tool, better than scipy's\n",
    "import sys                                             # Modules to see files and folders in directories"
   ]
  },
  {
   "cell_type": "code",
   "execution_count": 137,
   "metadata": {},
   "outputs": [],
   "source": [
    "sys.path.append('../../External_Functions')\n",
    "from ExternalFunctions import Chi2Regression\n",
    "from ExternalFunctions import nice_string_output, add_text_to_ax # useful functions to print fit results on figure"
   ]
  },
  {
   "cell_type": "markdown",
   "metadata": {},
   "source": [
    "## Error propagation - Simulation\n",
    "\n",
    "Now we want to try to see, if we can solve the above error propagation problem using simulation. The method is relatively straight forward: You simply take \"realistic\" values of the input parameters x (here Length (x1) and Width (x2)), calculate the resulting value y (here Perimeter, Area, and Diagonal), and do this many times. The resulting distribution of y should be centered around the value y(x1,x2), and the standard deviation should reflect the uncertainty in y from the uncertainties in the input variables.\n",
    "\n",
    "This is a much more clumsy way of calculating the uncertainty, but comes with the advantage, that if the resulting uncertainty is not Gaussian, then one can actually see this (i.e. it avoids the assumptions used in the usual error propagation formula)."
   ]
  },
  {
   "cell_type": "code",
   "execution_count": 138,
   "metadata": {},
   "outputs": [],
   "source": [
    "# First we set the parameters of the program:\n",
    "N_exp = 100000           # Number of \"experiments\" (i.e. drawing from random distributions)\n",
    "save_plots = False\n",
    "r = np.random\n",
    "r.seed(42)"
   ]
  },
  {
   "cell_type": "markdown",
   "metadata": {},
   "source": [
    "Define parameters for two random numbers (Gaussianly distributed):"
   ]
  },
  {
   "cell_type": "code",
   "execution_count": 139,
   "metadata": {},
   "outputs": [],
   "source": [
    "mu1   =  3.5\n",
    "sig1  =  0.4\n",
    "mu2   =  0.8\n",
    "sig2  =  0.2\n",
    "rho12 =  0.5           # Correlation parameter!"
   ]
  },
  {
   "cell_type": "code",
   "execution_count": 140,
   "metadata": {},
   "outputs": [],
   "source": [
    "if not (-1.0 <= rho12 <= 1.0): \n",
    "    raise ValueError(f\"Correlation factor not in interval [-1,1], as it is {rho12:6.2f}\")"
   ]
  },
  {
   "cell_type": "markdown",
   "metadata": {},
   "source": [
    "Now we calculate numbers that allows the transform from uncorrelated variables `u` and `v` to correlated random numbers `x1` and `x2` below (see Barlow page 42-44 for method).\n",
    "\n",
    "Essentially, the method is to \"rotate\" `u` and `v`, and the formulae simply controls the amount of rotation one needs to get the correlation wanted."
   ]
  },
  {
   "cell_type": "code",
   "execution_count": 141,
   "metadata": {},
   "outputs": [],
   "source": [
    "# Define the parameters needed for the transformation:\n",
    "theta = 0.5 * np.arctan( 2.0 * rho12 * sig1 * sig2 / ( np.square(sig1) - np.square(sig2) ) )\n",
    "sigu = np.sqrt( np.abs( (((sig1*np.cos(theta))**2) - (sig2*np.sin(theta))**2 ) / ( (np.cos(theta))**2 - np.sin(theta)**2) ) )\n",
    "sigv = np.sqrt( np.abs( (((sig2*np.cos(theta))**2) - (sig1*np.sin(theta))**2 ) / ( (np.cos(theta))**2 - np.sin(theta)**2) ) )\n",
    "\n",
    "# Produce random numbers with the (possible) correlation:\n",
    "u = r.normal(0.0, sigu, N_exp)\n",
    "v = r.normal(0.0, sigv, N_exp)\n",
    "x1_all = mu1 + np.cos(theta)*u - np.sin(theta)*v\n",
    "x2_all = mu2 + np.sin(theta)*u + np.cos(theta)*v\n",
    "x12_all = np.array([x1_all, x2_all])\n",
    "\n",
    "y_all = x1_all - 2*x2_all         # Silly formula - you have to put this in yourself!\n",
    "\n",
    "P_all = 2*x1_all + 2*x2_all              # perimeter\n",
    "A_all = x1_all*x2_all                    # area\n",
    "D_all = np.sqrt(x1_all**2 + x2_all**2)   # diagonal"
   ]
  },
  {
   "cell_type": "markdown",
   "metadata": {},
   "source": [
    "Note that the above is nothing more than a matrix multiplication written out! Also note that the absolute value is taken before the square root to avoid `np.sqrt(x)` with `x<0`."
   ]
  },
  {
   "cell_type": "markdown",
   "metadata": {},
   "source": [
    "***\n",
    "Plot both input distribution and resulting 2D-histogram on screen:"
   ]
  },
  {
   "cell_type": "code",
   "execution_count": 142,
   "metadata": {},
   "outputs": [
    {
     "data": {
      "image/png": "[encoded data removed]",
      "text/plain": [
       "<Figure size 1008x576 with 2 Axes>"
      ]
     },
     "metadata": {
      "needs_background": "light"
     },
     "output_type": "display_data"
    }
   ],
   "source": [
    "fig, ax = plt.subplots(figsize=(14, 8))\n",
    "counts, xedges, yedges, im = ax.hist2d(x1_all, x2_all, bins=[120, 80], range=[[0.0, 6.0], [-1.0, 3.0]], cmin=1)\n",
    "ax.plot([0.0, 6.0], [0.0, 0.0], \"--k\")   # NOTE: This draws a line from [x1, x2], [y1, y2] with dashed line (\"--\") and in black (\"k\")\n",
    "fig.colorbar(im) # ticks=[-1, 0, 1]\n",
    "\n",
    "ax.set(title='Histogram of lengths (x) and widths (y)',\n",
    "       xlabel='x', \n",
    "       ylabel='y',\n",
    "       aspect='equal', # NOTE: This forces the x- and y-axis to have the SAME scale!!!\n",
    "      )\n",
    "\n",
    "d = {'Entries': len(x12_all),\n",
    "     'Mean x': x1_all.mean(),\n",
    "     'Mean y': x2_all.mean(),\n",
    "     'Std x': x1_all.std(ddof=1),\n",
    "     'Std y': x2_all.std(ddof=1),\n",
    "    }\n",
    "\n",
    "text = nice_string_output(d, extra_spacing=2, decimals=3)\n",
    "add_text_to_ax(0.02, 0.97, text, ax, fontsize=15);\n",
    "\n",
    "fig.tight_layout()\n",
    "fig\n",
    "\n",
    "if save_plots :\n",
    "    fig.savefig(\"Dist_2Dgauss.pdf\")"
   ]
  },
  {
   "cell_type": "markdown",
   "metadata": {},
   "source": [
    "Now we bin `y_all` and fit it with a Gaussian distribution:"
   ]
  },
  {
   "cell_type": "code",
   "execution_count": 143,
   "metadata": {},
   "outputs": [],
   "source": [
    "def gaussian(x, N, mu, sigma):\n",
    "    return N * binwidth / (sigma*np.sqrt(2*np.pi)) * np.exp(-0.5* (x-mu)**2/sigma**2)"
   ]
  },
  {
   "cell_type": "code",
   "execution_count": 144,
   "metadata": {},
   "outputs": [
    {
     "data": {
      "image/png": "[encoded data removed]",
      "text/plain": [
       "<Figure size 1152x432 with 1 Axes>"
      ]
     },
     "metadata": {
      "needs_background": "light"
     },
     "output_type": "display_data"
    }
   ],
   "source": [
    "nbins = 100\n",
    "xmin, xmax = 0.0, 4.0\n",
    "binwidth = (xmax-xmin)/nbins\n",
    "\n",
    "fig2, ax2 = plt.subplots(figsize=(16, 6));\n",
    "counts, bin_edges, _ = ax2.hist(y_all, nbins, range=(xmin, xmax), histtype='step', linewidth=2)\n",
    "bin_centers = (bin_edges[1:] + bin_edges[:-1])/2\n",
    "s_counts = np.sqrt(counts)"
   ]
  },
  {
   "cell_type": "markdown",
   "metadata": {},
   "source": [
    "This is the distribution of \"whatever you put into it\" (initially x1-2*x2), which shows what output you get and what uncertainty to expect (given by the width - think about this!). We can thus get the result by simply recording the mean and width (SD):"
   ]
  },
  {
   "cell_type": "code",
   "execution_count": 145,
   "metadata": {},
   "outputs": [
    {
     "name": "stdout",
     "output_type": "stream",
     "text": [
      "  Mean = 1.900,    Std = 0.399\n",
      "  P_Mean = 8.601,    P_Std = 1.061\n",
      "  A_Mean = 2.842,    A_Std = 0.911\n",
      "  D_Mean = 3.595,    D_Std = 0.414\n"
     ]
    }
   ],
   "source": [
    "mean = y_all.mean()\n",
    "std = y_all.std(ddof=1)\n",
    "print(f\"  Mean = {mean:5.3f},    Std = {std:5.3f}\")\n",
    "\n",
    "P_mean = P_all.mean()\n",
    "P_std = P_all.std(ddof=1)\n",
    "print(f\"  P_Mean = {P_mean:5.3f},    P_Std = {P_std:5.3f}\")\n",
    "\n",
    "A_mean = A_all.mean()\n",
    "A_std = A_all.std(ddof=1)\n",
    "print(f\"  A_Mean = {A_mean:5.3f},    A_Std = {A_std:5.3f}\")\n",
    "\n",
    "D_mean = D_all.mean()\n",
    "D_std = D_all.std(ddof=1)\n",
    "print(f\"  D_Mean = {D_mean:5.3f},    D_Std = {D_std:5.3f}\")"
   ]
  },
  {
   "cell_type": "markdown",
   "metadata": {},
   "source": [
    "However, we are in principle not even sure, if this distribution is Gaussian, so in order to check this, we draw a Gaussian on top using the above mean and standard deviation values."
   ]
  },
  {
   "cell_type": "code",
   "execution_count": 146,
   "metadata": {},
   "outputs": [
    {
     "data": {
      "image/png": "[encoded data removed]",
      "text/plain": [
       "<Figure size 1152x432 with 1 Axes>"
      ]
     },
     "execution_count": 146,
     "metadata": {},
     "output_type": "execute_result"
    }
   ],
   "source": [
    "xaxis = np.linspace(xmin, xmax, 1000)\n",
    "yaxis = gaussian(xaxis, N_exp, mean, std)\n",
    "ax2.plot(xaxis, yaxis, linewidth=2)\n",
    "fig2.tight_layout()\n",
    "fig2"
   ]
  },
  {
   "cell_type": "code",
   "execution_count": 147,
   "metadata": {
    "lines_to_next_cell": 2,
    "tags": []
   },
   "outputs": [],
   "source": [
    "if save_plots:\n",
    "    fig2.savefig(\"Dist_ErrorProp.pdf\")"
   ]
  },
  {
   "cell_type": "code",
   "execution_count": 148,
   "metadata": {},
   "outputs": [
    {
     "data": {
      "text/latex": [
       "$$y1 = (2.6 \\pm 0.8)\\,\\mathrm{m}$$"
      ],
      "text/plain": [
       "<IPython.core.display.Latex object>"
      ]
     },
     "metadata": {},
     "output_type": "display_data"
    },
    {
     "data": {
      "text/latex": [
       "$$y2 = (1.9 \\pm 5.1)\\,\\mathrm{m}$$"
      ],
      "text/plain": [
       "<IPython.core.display.Latex object>"
      ]
     },
     "metadata": {},
     "output_type": "display_data"
    }
   ],
   "source": [
    "#Question 2.1 - ANALYTICAL SOLUTION\n",
    "\n",
    "y1 , y2 , x1, x2 , dy1 , dy2 , dx1 , dx2 = sp.symbols('y1 y2 x1 x2 dy1 dy2 dx1 dx2')\n",
    "\n",
    "y1 = sp.log((x1*tan(x2))**2+((x1-x2)/(sp.cos(x2)+1.0+x1))**2)  \n",
    "y2 = 1.1+sp.sin(20*x1)\n",
    "\n",
    "#partial derivatives\n",
    "dy1_dx1 = sp.diff(y1,x1)\n",
    "dy1_dx2 = sp.diff(y1,x2)\n",
    "dy2_dx1 = sp.diff(y2,x1)\n",
    "dy2_dx2 = sp.diff(y2,x2)\n",
    "\n",
    "#error propagation\n",
    "\n",
    "dy1 = sp.sqrt((dy1_dx1*dx1)**2+(dy1_dx2*dx2)**2)\n",
    "dy2 = sp.sqrt((dy2_dx1*dx1)**2+(dy2_dx2*dx2)**2)\n",
    "\n",
    "# Turn expression into numerical functions \n",
    "y1 = sp.lambdify((x1,x2), y1, \"numpy\")\n",
    "y2 = sp.lambdify((x1,x2), y2, \"numpy\")\n",
    "dy1 = sp.lambdify((x1,x2,dx1,dx2),dy1)\n",
    "dy2 = sp.lambdify((x1,x2,dx1,dx2),dy2)\n",
    "\n",
    "#Solving equations using given values for x1=L, x2=W and dx1=dL, dx2=dW\n",
    "L=3.5 \n",
    "W=0.8 \n",
    "dL = 0.4\n",
    "dW = 0.2\n",
    "\n",
    "central_y1 = y1(L,W)\n",
    "central_y2 = y2(L,W)\n",
    "sigma_y1 = dy1(x1=L,x2=W,dx1=dL,dx2=dW)\n",
    "sigma_y2 = dy2(x1=L,x2=W,dx1=dL,dx2=dW)\n",
    "\n",
    "lprint(fr'y1 = ({central_y1:.1f} \\pm {sigma_y1:.1f})\\,\\mathrm{{m}}')\n",
    "lprint(fr'y2 = ({central_y2:.1f} \\pm {sigma_y2:.1f})\\,\\mathrm{{m}}')"
   ]
  },
  {
   "cell_type": "code",
   "execution_count": 161,
   "metadata": {},
   "outputs": [
    {
     "data": {
      "text/latex": [
       "$$y1 = (2.6 \\pm 0.9)\\,\\mathrm{m}$$"
      ],
      "text/plain": [
       "<IPython.core.display.Latex object>"
      ]
     },
     "metadata": {},
     "output_type": "display_data"
    },
    {
     "data": {
      "text/latex": [
       "$$y2 = (1.1 \\pm 0.7)\\,\\mathrm{m}$$"
      ],
      "text/plain": [
       "<IPython.core.display.Latex object>"
      ]
     },
     "metadata": {},
     "output_type": "display_data"
    },
    {
     "data": {
      "image/png": "[encoded data removed]",
      "text/plain": [
       "<Figure size 1152x432 with 2 Axes>"
      ]
     },
     "metadata": {
      "needs_background": "light"
     },
     "output_type": "display_data"
    }
   ],
   "source": [
    "#Question 2.2 - MONTE CARLO SIMULATION\n",
    "\n",
    "#Generate random numbers for x1 and x2\n",
    "x1 = np.random.normal(L,dL,N_exp)\n",
    "x2 = np.random.normal(W,dW,N_exp)\n",
    "\n",
    "#Calculate y1 and y2\n",
    "y1_distribution = y1(x1,x2)\n",
    "y2_distribution = y2(x1,x2)\n",
    "\n",
    "#Calculate the mean and standard deviation of y1 and y2\n",
    "y1_mean = np.mean(y1_distribution)\n",
    "y2_mean = np.mean(y2_distribution)\n",
    "y1_std = np.std(y1_distribution,ddof=1)\n",
    "y2_std = np.std(y2_distribution,ddof=1)\n",
    "\n",
    "#Print the results\n",
    "lprint(fr'y1 = ({y1_mean:.1f} \\pm {y1_std:.1f})\\,\\mathrm{{m}}')\n",
    "lprint(fr'y2 = ({y2_mean:.1f} \\pm {y2_std:.1f})\\,\\mathrm{{m}}')\n",
    "\n",
    "# #Question 2.3 - COMPARISON\n",
    "\n",
    "#Plot the results\n",
    "fig3, [ax2,ax3] = plt.subplots(2,1,figsize=(16, 6));\n",
    "ax2.hist(y1_distribution, bins=100, histtype='step', linewidth=2, label='y1')\n",
    "ax3.hist(y2_distribution, bins=100, histtype='step', linewidth=2, label='y2')\n",
    "ax2.axvline(central_y1, color='r', linestyle='--', label='y1 analytical')\n",
    "ax3.axvline(central_y2, color='g', linestyle='--', label='y2 analytical')\n",
    "ax2.axvline(y1_mean, color='r', linestyle=':', label='y1 MC')\n",
    "ax3.axvline(y2_mean, color='g', linestyle=':', label='y2 MC')\n",
    "ax2.axvspan(central_y1-sigma_y1, central_y1+sigma_y1, color='r', alpha=0.1, label='y1 analytical error')\n",
    "ax3.axvspan(central_y2-sigma_y2, central_y2+sigma_y2, color='g', alpha=0.1, label='y2 analytical error')\n",
    "ax2.axvspan(y1_mean-y1_std, y1_mean+y1_std, color='r', alpha=0.1, label='y1 MC error')\n",
    "ax3.axvspan(y2_mean-y2_std, y2_mean+y2_std, color='g', alpha=0.1, label='y2 MC error')\n",
    "ax3.legend(), ax2.legend()\n",
    "fig3.tight_layout() \n",
    "\n",
    "\n"
   ]
  },
  {
   "cell_type": "markdown",
   "metadata": {},
   "source": [
    "---\n",
    "\n",
    "# Questions:\n",
    "\n",
    "0. First solve the problem of obtaining the Perimeter, Area & Diagonal with uncertainty ANALYTICALLY.\n",
    "\n",
    "1. Now look at the program, and assure yourself that you understand what is going on. Put in the correct expression for y in terms of x1=L and x2=W in order to calculate the perimeter, area, and diagonal length, and run the program. Does the output correspond well with the results you expected from your analytical calculations to begin with?\n",
    "\n",
    "2. Imagine that you wanted to know the central value and uncertainty of y1 and y2, given the\n",
    "   same above PDFs for `x1`=$L$ and `x2`=$W$:\n",
    "   \n",
    "     `y1 = log(square(x1*tan(x2))+sqrt((x1-x2)/(cos(x2)+1.0+x1)))`\n",
    "     \n",
    "     `y2 = 1.1+sin(20*x1)`\n",
    "\n",
    "   Get the central value of y, and see if you can quickly differentiate this with\n",
    "   respect to `x1` and `x2`, and thus predict what uncertainty to expect for y using\n",
    "   the error propagation formula. It is (for once) OK to give up on the first expression :-)\n",
    "   Next, try to estimate the central value and uncertainty using random numbers\n",
    "   like above - do you trust this result more? And are the distributions Gaussian?\n",
    "\n",
    "\n",
    "### Advanced questions:\n",
    "\n",
    "3. Try to generate `x1` and `x2` with non-linear correlation, which yields zero linear correlation,\n",
    "   and see that despite not having any linear correlation, the result on perimeter, area, and diagonal\n",
    "   length is still affected.\n"
   ]
  },
  {
   "cell_type": "markdown",
   "metadata": {},
   "source": [
    "# Learning points:\n",
    "\n",
    "Through this exercise, you should understand, that uncertainties (errors in slang) propagation can be in **two ways**:\n",
    "1. **Analytically**, propergating the uncertainties by differentiating the formula/relation in question.\n",
    "2. **Numerically** (i.e. simulation), by using random numbers reflecting the uncertainties on the input parameters, and calculating the final resulting number many times from these, noting the variation.\n",
    "\n",
    "The analytical method is simple and transparent, but not always robust, as it requires that the error propagation formula holds. The numerical method is simple and robust, but not transparent. Using both methods is a great way of cross checking.\n",
    "\n",
    "Finally, you should understand, that error propagation plays an essential role in science, and that it is also used in planning of experiments (to minimise the error on the final quantity of interest)."
   ]
  }
 ],
 "metadata": {
  "executable": "/usr/bin/env python",
  "kernelspec": {
   "display_name": "Python 3.9.12 ('base')",
   "language": "python",
   "name": "python3"
  },
  "language_info": {
   "codemirror_mode": {
    "name": "ipython",
    "version": 3
   },
   "file_extension": ".py",
   "mimetype": "text/x-python",
   "name": "python",
   "nbconvert_exporter": "python",
   "pygments_lexer": "ipython3",
   "version": "3.9.12"
  },
  "vscode": {
   "interpreter": {
    "hash": "d12e26f72a40d5c48233c54861fca038d6a92135fc0e5e920944e69c69b6b29d"
   }
  }
 },
 "nbformat": 4,
 "nbformat_minor": 4
}
