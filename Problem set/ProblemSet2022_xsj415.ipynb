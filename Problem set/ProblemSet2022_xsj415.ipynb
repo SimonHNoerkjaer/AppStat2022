{
 "cells": [
  {
   "attachments": {},
   "cell_type": "markdown",
   "metadata": {},
   "source": [
    "# Problem Set 2022/23 - Simon Hilding-Nørkjær (xsj415)\n"
   ]
  },
  {
   "attachments": {},
   "cell_type": "markdown",
   "metadata": {},
   "source": [
    "### Pre-loading packages and functions: "
   ]
  },
  {
   "cell_type": "code",
   "execution_count": 1,
   "metadata": {},
   "outputs": [],
   "source": [
    "import numpy as np                                     \n",
    "from numpy.linalg import matrix_power                  \n",
    "import matplotlib.pyplot as plt                                                        \n",
    "from iminuit import Minuit                            \n",
    "import sys                                            \n",
    "from scipy import stats\n",
    "import sympy as sp\n",
    "from sympy import integrate\n",
    "\n",
    "plt.style.use('classic')\n",
    "\n",
    "sys.path.append('../External_Functions')\n",
    "from ExternalFunctions import UnbinnedLH, BinnedLH, Chi2Regression\n",
    "from ExternalFunctions import nice_string_output, add_text_to_ax   "
   ]
  },
  {
   "attachments": {},
   "cell_type": "markdown",
   "metadata": {},
   "source": [
    "## I - Distributions and probabilities:"
   ]
  },
  {
   "attachments": {},
   "cell_type": "markdown",
   "metadata": {},
   "source": [
    "### 1.1) Your friend tells you, that a bag contains 3 white, 6 black, and 7 grey marbles."
   ]
  },
  {
   "attachments": {},
   "cell_type": "markdown",
   "metadata": {},
   "source": [
    "#### 1.1.1) If you take two random marbles without putting them back, what is the probability that at least one of them is white?"
   ]
  },
  {
   "cell_type": "code",
   "execution_count": 64,
   "metadata": {},
   "outputs": [
    {
     "name": "stdout",
     "output_type": "stream",
     "text": [
      "Probability of at least one white marble = 0.35\n"
     ]
    }
   ],
   "source": [
    "n_white , n_black , n_grey = 3 , 6 , 7\n",
    "N = n_white + n_black + n_grey\n",
    "\n",
    "#first draw\n",
    "p_white = n_white/N\n",
    "p_other = 1-p_white\n",
    "\n",
    "#second draw\n",
    "p_other_given_other = (n_black+n_grey-1)/(N-1)\n",
    "p_atleast1white = 1 - p_other*p_other_given_other\n",
    "\n",
    "print('Probability of at least one white marble =',p_atleast1white)  "
   ]
  },
  {
   "attachments": {},
   "cell_type": "markdown",
   "metadata": {},
   "source": [
    "#### 1.1.2) If you pick a marble, record its color, and then put it back 25 times independently, what is the probability of getting exactly 18 grey marbles? At least 18 grey marbles?"
   ]
  },
  {
   "cell_type": "code",
   "execution_count": 65,
   "metadata": {},
   "outputs": [
    {
     "name": "stdout",
     "output_type": "stream",
     "text": [
      "Probability of 18 grey marbles out of 25 trials = 0.002953499094615582\n",
      "Probability of at least 18 grey marbles out of 25 trials = 0.004039599792444158\n"
     ]
    }
   ],
   "source": [
    "P_18grey_of_25 = stats.binom.pmf(18,25,p_grey)\n",
    "P_atleast_18grey_of_25 = stats.binom.sf(17,25,p_grey)\n",
    "print('Probability of 18 grey marbles out of 25 trials =',P_18grey_of_25)\n",
    "print('Probability of at least 18 grey marbles out of 25 trials =',P_atleast_18grey_of_25)"
   ]
  },
  {
   "attachments": {},
   "cell_type": "markdown",
   "metadata": {},
   "source": [
    "#### 1.1.3) If you got 18 grey marbles out of 25 picks, would you trust your friend’s information?"
   ]
  },
  {
   "cell_type": "code",
   "execution_count": 66,
   "metadata": {},
   "outputs": [
    {
     "name": "stdout",
     "output_type": "stream",
     "text": [
      "z-score = 2.8473323633361787\n",
      "p-value = 0.0022043653491208926\n",
      "Conclusion: I would not trust the information as the p-value based on the z-score show is really low.\n"
     ]
    }
   ],
   "source": [
    "\n",
    "# expected number of grey marbles\n",
    "Expected_grey = 25*p_grey\n",
    "# binomial standard deviation of grey marbles\n",
    "sigma_grey = np.sqrt(25*p_grey*(1-p_grey))    \n",
    "# z-score\n",
    "z = (18-Expected_grey)/sigma_grey\n",
    "# p-value\n",
    "p = stats.norm.sf(z)\n",
    "\n",
    "\n",
    "print('z-score =',z)\n",
    "print('p-value =',p)\n",
    "print('Conclusion: I would not trust the information as the p-value based on the z-score show is really low.')"
   ]
  },
  {
   "attachments": {},
   "cell_type": "markdown",
   "metadata": {},
   "source": [
    "### 1.2) \n",
    "The lifetime L of a certain component is exponentially distributed: L(t) = 1/τ exp(−t/τ ).\n",
    "If there is a 4% chance of this component lasting more than 500 hours, what is the value of τ ?"
   ]
  },
  {
   "cell_type": "code",
   "execution_count": 91,
   "metadata": {},
   "outputs": [
    {
     "name": "stdout",
     "output_type": "stream",
     "text": [
      "The lifetime of the particle is 155.33, hours\n"
     ]
    }
   ],
   "source": [
    "#solving the intgral of L(t) = 1/τ exp(−t/τ ) from 0 to 500 using sympy \n",
    "\n",
    "t, tau = sp.symbols('t tau', real=True)\n",
    "L = 1/tau*sp.exp(-t/tau)\n",
    "P_L500 = integrate(L,(t,500,sp.oo),conds='none')\n",
    "Tau = sp.solve(P_L500-0.04,tau)   #solving for tau and because the integral is from 500 to infinity\n",
    "\n",
    "print(r'The lifetime of the particle is {:.2f}, hours'.format(Tau[0]))"
   ]
  },
  {
   "attachments": {},
   "cell_type": "markdown",
   "metadata": {},
   "source": [
    "### 1.3) A radio telescope detects 241089 signals/day, based on a 9 week observation campaign."
   ]
  },
  {
   "attachments": {},
   "cell_type": "markdown",
   "metadata": {},
   "source": [
    "#### 1.3.1) One hour, it receives 9487 signals. What is the chance of observing exactly this number?"
   ]
  },
  {
   "cell_type": "code",
   "execution_count": 3,
   "metadata": {},
   "outputs": [
    {
     "name": "stdout",
     "output_type": "stream",
     "text": [
      "Probability of detecting the signal in one hour:  5.55e-10\n"
     ]
    }
   ],
   "source": [
    "detection_rate = 241089       #counts per day \n",
    "signal = 9487                 #signal in one hour\n",
    "\n",
    "#probability of detecting the signal in one hour\n",
    "P_signal = stats.poisson.pmf(signal,detection_rate/24)\n",
    "print('Probability of detecting the signal in one hour: ',P_signal.round(12))\n"
   ]
  },
  {
   "attachments": {},
   "cell_type": "markdown",
   "metadata": {},
   "source": [
    "#### 1.3.2) Is this observation extraordinary, based on an estimate of its general probability?"
   ]
  },
  {
   "cell_type": "code",
   "execution_count": 4,
   "metadata": {},
   "outputs": [
    {
     "name": "stdout",
     "output_type": "stream",
     "text": [
      "z-score = 5.571124816057189\n",
      "p-value = 1.2654995762494655e-08\n",
      "Conclusion: Very unlikely observation based on p-value and z-score.\n"
     ]
    }
   ],
   "source": [
    "#expected number of signal in one hour\n",
    "Expected_signal = detection_rate/24\n",
    "\n",
    "#Poissonian standard deviation of signal in one hour\n",
    "sigma_signal = np.sqrt(detection_rate/24)\n",
    "\n",
    "#z-score\n",
    "z = (abs(signal-Expected_signal))/sigma_signal\n",
    "\n",
    "#p-value\n",
    "p = stats.norm.sf(z)\n",
    "\n",
    "print('z-score =',z)\n",
    "print('p-value =',p)\n",
    "print('Conclusion: Very unlikely observation based on p-value and z-score.')"
   ]
  },
  {
   "attachments": {},
   "cell_type": "markdown",
   "metadata": {},
   "source": [
    "### 1.4 )  Shooting with a bow, you have 3% chance of hitting a certain target"
   ]
  },
  {
   "attachments": {},
   "cell_type": "markdown",
   "metadata": {},
   "source": [
    "#### 1.4.1) What distribution is the number of hits going to follow, given N shots?"
   ]
  },
  {
   "cell_type": "code",
   "execution_count": 45,
   "metadata": {},
   "outputs": [],
   "source": [
    "#Binomial distribution with p=0.03 give N shots"
   ]
  },
  {
   "attachments": {},
   "cell_type": "markdown",
   "metadata": {},
   "source": [
    "#### 1.4.2) What is the probability that the first hit will come after 20 shots?"
   ]
  },
  {
   "cell_type": "code",
   "execution_count": 60,
   "metadata": {},
   "outputs": [
    {
     "name": "stdout",
     "output_type": "stream",
     "text": [
      "Probability of getting first hit after 20 shots given N shots: 0.016\n"
     ]
    }
   ],
   "source": [
    "#probability of getting first hit within 20 shots\n",
    "P_firsthit = (1-p)**20 * p\n",
    "print(f'Probability of getting first hit after 20 shots given N shots: {P_firsthit:.3f}')"
   ]
  },
  {
   "attachments": {},
   "cell_type": "markdown",
   "metadata": {},
   "source": [
    "#### 1.4.3) What is the probability that it will take more than 4000 shots to hit the target 100 times?"
   ]
  },
  {
   "cell_type": "code",
   "execution_count": 63,
   "metadata": {},
   "outputs": [
    {
     "name": "stdout",
     "output_type": "stream",
     "text": [
      "Probability of it taking more than 4000 shots to hit 100 times:  0.974\n"
     ]
    }
   ],
   "source": [
    "#probability of it taking more than 4000 shots to hit 100 times \n",
    "P_4000shots = stats.binom.sf(99,4000,p)\n",
    "print('Probability of it taking more than 4000 shots to hit 100 times: ',P_4000shots.round(3))"
   ]
  },
  {
   "attachments": {},
   "cell_type": "markdown",
   "metadata": {},
   "source": [
    "## II - Error Propagation"
   ]
  },
  {
   "attachments": {},
   "cell_type": "markdown",
   "metadata": {},
   "source": [
    "### 2.1)  Let x = 1.92 ± 0.39 and y = 3.1 ± 1.3, and let z1 = y/x, and z2 = cos(x) · x/y"
   ]
  },
  {
   "cell_type": "code",
   "execution_count": 61,
   "metadata": {},
   "outputs": [],
   "source": [
    "x =  1.92 \n",
    "xerr = 0.39\n",
    "y = 3.1 \n",
    "yerr = 0.3\n",
    "\n",
    "def z1(x,y):\n",
    "    return "
   ]
  },
  {
   "attachments": {},
   "cell_type": "markdown",
   "metadata": {},
   "source": [
    "#### 2.1.1)  What are the uncertainties of z1 and z2, if x and y are uncorrelated?"
   ]
  },
  {
   "attachments": {},
   "cell_type": "markdown",
   "metadata": {},
   "source": []
  },
  {
   "attachments": {},
   "cell_type": "markdown",
   "metadata": {},
   "source": [
    "### 2.2) Five patients were given a drug to test if they slept longer (in hours). \n",
    "##### Their results were:+3.7, −1.2, −0.2, +0.7, +0.8. A Placebo group got the results: +1.5, −1.0, −0.7, +0.5, +0.1"
   ]
  },
  {
   "cell_type": "code",
   "execution_count": 89,
   "metadata": {},
   "outputs": [],
   "source": [
    "drug_group = np.array([3.7, -1.2, -0.2, 0.7, 0.8])\n",
    "placebo_group = np.array([1.5, -1.0, -0.7, 0.5, 0.1])"
   ]
  },
  {
   "attachments": {},
   "cell_type": "markdown",
   "metadata": {},
   "source": [
    "#### 2.2.1) Estimate the mean, standard deviation, and the uncertainty on the mean for drug group"
   ]
  },
  {
   "cell_type": "code",
   "execution_count": 108,
   "metadata": {},
   "outputs": [
    {
     "name": "stdout",
     "output_type": "stream",
     "text": [
      "Drug group: Mean = 0.76 +/- 0.82, STD of distribution = 1.83\n",
      "Placebo group: Mean = 0.08 +/- 0.45, STD of distribution = 1.00\n"
     ]
    }
   ],
   "source": [
    "#mean , std and error on the mean of drug group\n",
    "mean_drug = np.mean(drug_group)\n",
    "std_drug = np.std(drug_group, ddof=1)\n",
    "err_drug = std_drug/np.sqrt(len(drug_group))\n",
    "\n",
    "#mean , std and error on the mean of placebo group\n",
    "mean_placebo = np.mean(placebo_group)\n",
    "std_placebo = np.std(placebo_group, ddof=1)\n",
    "err_placebo = std_placebo/np.sqrt(len(placebo_group))\n",
    "\n",
    "\n",
    "# print the results\n",
    "print('Drug group: Mean = {:.2f} +/- {:.2f}, STD of distribution = {:.2f}'.format(mean_drug,err_drug,std_drug))\n",
    "print('Placebo group: Mean = {:.2f} +/- {:.2f}, STD of distribution = {:.2f}'.format(mean_placebo,err_placebo,std_placebo))"
   ]
  },
  {
   "attachments": {},
   "cell_type": "markdown",
   "metadata": {},
   "source": [
    "#### 2.2.2) What is the probability that the drug group slept longer than the placebo group?\n",
    "\n",
    "As the means and std's for the two samples are estimated we have to use the students t test in order to test the null hypothesis that the true sample means are equal. "
   ]
  },
  {
   "cell_type": "code",
   "execution_count": 128,
   "metadata": {},
   "outputs": [
    {
     "name": "stdout",
     "output_type": "stream",
     "text": [
      "t-statistic = 0.73\n",
      "p-value = 0.25\n",
      "D-statistic = 0.20\n",
      "p-value = 0.83\n",
      "Conclusion: The p-value from the t-test is smaller than the p-value from the KS test. Because the means and the STDs are estimated the t-test should perform better, and therefore it is more likely to reject the null hypothesis.\n"
     ]
    }
   ],
   "source": [
    "#calculate the student t-test for the means of two independent samples of scores\n",
    "t, p_ttest = stats.ttest_ind(drug_group, placebo_group, equal_var=False, alternative='greater')\n",
    "\n",
    "print(f't-statistic = {t:.2f}')\n",
    "print(f'p-value = {p_ttest:.2f}')\n",
    "\n",
    "# comparing with kolmogorov-smirnov test\n",
    "D, p_ks = stats.ks_2samp(drug_group, placebo_group, alternative='greater')\n",
    "\n",
    "print(f'D-statistic = {D:.2f}')\n",
    "print(f'p-value = {p_ks:.2f}')\n",
    "\n",
    "print('Conclusion: The p-value from the t-test is smaller than the p-value from the KS test. Because the means and the STDs are estimated the t-test should perform better, and therefore it is more likely to reject the null hypothesis.')"
   ]
  },
  {
   "attachments": {},
   "cell_type": "markdown",
   "metadata": {},
   "source": [
    "## III - Simulation / Monte Carlo:"
   ]
  },
  {
   "attachments": {},
   "cell_type": "markdown",
   "metadata": {},
   "source": [
    "### 3.1) Assume $f(x) = Cx^asin(πx)$ for x ∈ [0, 1] and a = 3 is a theoretical distribution."
   ]
  },
  {
   "attachments": {},
   "cell_type": "markdown",
   "metadata": {},
   "source": [
    "#### 3.1.1) By what method(s) would you generate random numbers according to f (x)?\n",
    "\n",
    "\n"
   ]
  },
  {
   "cell_type": "code",
   "execution_count": null,
   "metadata": {},
   "outputs": [],
   "source": []
  },
  {
   "attachments": {},
   "cell_type": "markdown",
   "metadata": {},
   "source": [
    "#### 3.1.2) Determine (possibly numerically) the value of C for f (x) to be normalised.\n"
   ]
  },
  {
   "cell_type": "code",
   "execution_count": null,
   "metadata": {},
   "outputs": [],
   "source": []
  },
  {
   "attachments": {},
   "cell_type": "markdown",
   "metadata": {},
   "source": [
    "#### 3.1.3) Fit a histogram with values from f (x) and determine how many measurements (i.e. values of x) you need in an experiment to determine the value of a with 1% precision."
   ]
  },
  {
   "cell_type": "code",
   "execution_count": null,
   "metadata": {},
   "outputs": [],
   "source": []
  }
 ],
 "metadata": {
  "kernelspec": {
   "display_name": "base",
   "language": "python",
   "name": "python3"
  },
  "language_info": {
   "codemirror_mode": {
    "name": "ipython",
    "version": 3
   },
   "file_extension": ".py",
   "mimetype": "text/x-python",
   "name": "python",
   "nbconvert_exporter": "python",
   "pygments_lexer": "ipython3",
   "version": "3.9.12"
  },
  "orig_nbformat": 4,
  "vscode": {
   "interpreter": {
    "hash": "d12e26f72a40d5c48233c54861fca038d6a92135fc0e5e920944e69c69b6b29d"
   }
  }
 },
 "nbformat": 4,
 "nbformat_minor": 2
}
