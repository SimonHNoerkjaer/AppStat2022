{
 "cells": [
  {
   "cell_type": "markdown",
   "metadata": {},
   "source": [
    "# Analyze pendulum data\n",
    "Use this notebook to quickly test whether your pendulum data makes sense!"
   ]
  },
  {
   "cell_type": "code",
   "execution_count": 1,
   "metadata": {},
   "outputs": [],
   "source": [
    "# Imports\n",
    "import numpy as np\n",
    "import matplotlib.pyplot as plt\n",
    "from iminuit import Minuit\n",
    "\n",
    "sys.path.append('../../External_Functions')\n",
    "from ExternalFunctions import UnbinnedLH, BinnedLH, Chi2Regression\n",
    "from ExternalFunctions import nice_string_output, add_text_to_ax   # Useful functions to print fit results on figure"
   ]
  },
  {
   "cell_type": "code",
   "execution_count": 2,
   "metadata": {},
   "outputs": [],
   "source": [
    "# Example file location\n",
    "filename_example = 'data_pendulum_example/timer_output.dat'"
   ]
  },
  {
   "cell_type": "markdown",
   "metadata": {},
   "source": [
    "## Data reader"
   ]
  },
  {
   "cell_type": "code",
   "execution_count": 3,
   "metadata": {
    "code_folding": []
   },
   "outputs": [],
   "source": [
    "# Read in data\n",
    "def read_data(filename):\n",
    "    dat = np.genfromtxt(filename, delimiter='\\t', names=('n', 't_s'))\n",
    "    return dat"
   ]
  },
  {
   "cell_type": "markdown",
   "metadata": {},
   "source": [
    "## Read and plot the data"
   ]
  },
  {
   "cell_type": "code",
   "execution_count": 49,
   "metadata": {
    "code_folding": [],
    "scrolled": false
   },
   "outputs": [
    {
     "data": {
      "text/html": [
       "<table>\n",
       "    <tr>\n",
       "        <th colspan=\"5\" style=\"text-align:center\" title=\"Minimizer\"> Migrad </th>\n",
       "    </tr>\n",
       "    <tr>\n",
       "        <td colspan=\"2\" style=\"text-align:left\" title=\"Minimum value of function\"> FCN = 0.1594 </td>\n",
       "        <td colspan=\"3\" style=\"text-align:center\" title=\"Total number of function and (optional) gradient evaluations\"> Nfcn = 34 </td>\n",
       "    </tr>\n",
       "    <tr>\n",
       "        <td colspan=\"2\" style=\"text-align:left\" title=\"Estimated distance to minimum and goal\"> EDM = 7.25e-21 (Goal: 0.0002) </td>\n",
       "        <td colspan=\"3\" style=\"text-align:center\" title=\"Total run time of algorithms\">  </td>\n",
       "    </tr>\n",
       "    <tr>\n",
       "        <td colspan=\"2\" style=\"text-align:center;background-color:#92CCA6;color:black\"> Valid Minimum </td>\n",
       "        <td colspan=\"3\" style=\"text-align:center;background-color:#92CCA6;color:black\"> No Parameters at limit </td>\n",
       "    </tr>\n",
       "    <tr>\n",
       "        <td colspan=\"2\" style=\"text-align:center;background-color:#92CCA6;color:black\"> Below EDM threshold (goal x 10) </td>\n",
       "        <td colspan=\"3\" style=\"text-align:center;background-color:#92CCA6;color:black\"> Below call limit </td>\n",
       "    </tr>\n",
       "    <tr>\n",
       "        <td style=\"text-align:center;background-color:#92CCA6;color:black\"> Covariance </td>\n",
       "        <td style=\"text-align:center;background-color:#92CCA6;color:black\"> Hesse ok </td>\n",
       "        <td style=\"text-align:center;background-color:#92CCA6;color:black\" title=\"Is covariance matrix accurate?\"> Accurate </td>\n",
       "        <td style=\"text-align:center;background-color:#92CCA6;color:black\" title=\"Is covariance matrix positive definite?\"> Pos. def. </td>\n",
       "        <td style=\"text-align:center;background-color:#92CCA6;color:black\" title=\"Was positive definiteness enforced by Minuit?\"> Not forced </td>\n",
       "    </tr>\n",
       "</table><table>\n",
       "    <tr>\n",
       "        <td></td>\n",
       "        <th title=\"Variable name\"> Name </th>\n",
       "        <th title=\"Value of parameter\"> Value </th>\n",
       "        <th title=\"Hesse error\"> Hesse Error </th>\n",
       "        <th title=\"Minos lower error\"> Minos Error- </th>\n",
       "        <th title=\"Minos upper error\"> Minos Error+ </th>\n",
       "        <th title=\"Lower limit of the parameter\"> Limit- </th>\n",
       "        <th title=\"Upper limit of the parameter\"> Limit+ </th>\n",
       "        <th title=\"Is the parameter fixed in the fit\"> Fixed </th>\n",
       "    </tr>\n",
       "    <tr>\n",
       "        <th> 0 </th>\n",
       "        <td> T </td>\n",
       "        <td> 2.734 </td>\n",
       "        <td> 0.006 </td>\n",
       "        <td>  </td>\n",
       "        <td>  </td>\n",
       "        <td>  </td>\n",
       "        <td>  </td>\n",
       "        <td>  </td>\n",
       "    </tr>\n",
       "    <tr>\n",
       "        <th> 1 </th>\n",
       "        <td> b </td>\n",
       "        <td> -4.36 </td>\n",
       "        <td> 0.26 </td>\n",
       "        <td>  </td>\n",
       "        <td>  </td>\n",
       "        <td>  </td>\n",
       "        <td>  </td>\n",
       "        <td>  </td>\n",
       "    </tr>\n",
       "</table><table>\n",
       "    <tr>\n",
       "        <td></td>\n",
       "        <th> T </th>\n",
       "        <th> b </th>\n",
       "    </tr>\n",
       "    <tr>\n",
       "        <th> T </th>\n",
       "        <td> 3.99e-05 </td>\n",
       "        <td style=\"background-color:rgb(135,135,250);color:black\"> -0.00144 <strong>(-0.881)</strong> </td>\n",
       "    </tr>\n",
       "    <tr>\n",
       "        <th> b </th>\n",
       "        <td style=\"background-color:rgb(135,135,250);color:black\"> -0.00144 <strong>(-0.881)</strong> </td>\n",
       "        <td> 0.0666 </td>\n",
       "    </tr>\n",
       "</table>"
      ],
      "text/plain": [
       "┌─────────────────────────────────────────────────────────────────────────┐\n",
       "│                                Migrad                                   │\n",
       "├──────────────────────────────────┬──────────────────────────────────────┤\n",
       "│ FCN = 0.1594                     │              Nfcn = 34               │\n",
       "│ EDM = 7.25e-21 (Goal: 0.0002)    │                                      │\n",
       "├──────────────────────────────────┼──────────────────────────────────────┤\n",
       "│          Valid Minimum           │        No Parameters at limit        │\n",
       "├──────────────────────────────────┼──────────────────────────────────────┤\n",
       "│ Below EDM threshold (goal x 10)  │           Below call limit           │\n",
       "├───────────────┬──────────────────┼───────────┬─────────────┬────────────┤\n",
       "│  Covariance   │     Hesse ok     │ Accurate  │  Pos. def.  │ Not forced │\n",
       "└───────────────┴──────────────────┴───────────┴─────────────┴────────────┘\n",
       "┌───┬──────┬───────────┬───────────┬────────────┬────────────┬─────────┬─────────┬───────┐\n",
       "│   │ Name │   Value   │ Hesse Err │ Minos Err- │ Minos Err+ │ Limit-  │ Limit+  │ Fixed │\n",
       "├───┼──────┼───────────┼───────────┼────────────┼────────────┼─────────┼─────────┼───────┤\n",
       "│ 0 │ T    │   2.734   │   0.006   │            │            │         │         │       │\n",
       "│ 1 │ b    │   -4.36   │   0.26    │            │            │         │         │       │\n",
       "└───┴──────┴───────────┴───────────┴────────────┴────────────┴─────────┴─────────┴───────┘\n",
       "┌───┬───────────────────┐\n",
       "│   │        T        b │\n",
       "├───┼───────────────────┤\n",
       "│ T │ 3.99e-05 -0.00144 │\n",
       "│ b │ -0.00144   0.0666 │\n",
       "└───┴───────────────────┘"
      ]
     },
     "execution_count": 49,
     "metadata": {},
     "output_type": "execute_result"
    }
   ],
   "source": [
    "data_example = read_data(filename_example)\n",
    "n, t = data_example['n'][2:], data_example['t_s'][2:]\n",
    "\n",
    "#fit function\n",
    "def lin_funk(x,T,b):\n",
    "    return T*x+b\n",
    "\n",
    "#fit data with Minuit\n",
    "chi2 = Chi2Regression(lin_funk, n, t)\n",
    "\n",
    "minuit = Minuit(chi2, T=3, b=0)\n",
    "minuit.migrad()\n"
   ]
  },
  {
   "cell_type": "code",
   "execution_count": 5,
   "metadata": {},
   "outputs": [],
   "source": [
    "T_fit , b_fit = minuit.values"
   ]
  },
  {
   "cell_type": "code",
   "execution_count": 73,
   "metadata": {},
   "outputs": [
    {
     "name": "stdout",
     "output_type": "stream",
     "text": [
      "2.7335449078139993\n"
     ]
    },
    {
     "data": {
      "image/png": "[encoded data removed]",
      "text/plain": [
       "<Figure size 864x576 with 2 Axes>"
      ]
     },
     "metadata": {
      "needs_background": "light"
     },
     "output_type": "display_data"
    }
   ],
   "source": [
    "print(T_fit)\n",
    "# Plotting\n",
    "sig_t = minuit.errors[0]     # Set your own values...\n",
    "fig, ax = plt.subplots(nrows=2, ncols=1, figsize=(12, 8), gridspec_kw={'height_ratios':[4,1]}, sharex=True)\n",
    "\n",
    "ax[0].set_title('Pendulum period fit')\n",
    "ax[0].errorbar(n, t, yerr=sig_t, color='lime', fmt='.',markersize =9, label='Data', capsize=6, ecolor='k',markeredgecolor='k')\n",
    "ax[0].plot(n, lin_funk(n, T_fit, b_fit), color='r', label=f'Period from fit: T = {T_fit:.3f} $\\pm$ {sig_t:.3f}')\n",
    "ax[0].set_xlabel('Timing measurement number', fontsize=12)\n",
    "ax[0].set_ylabel('Time elapsed (s)', fontsize=12)\n",
    "ax[0].set(xlim=(0, n[-1]+np.ediff1d(n)[0]), ylim=(0, t[-1]+np.ediff1d(t)[0]))\n",
    "ax[0].legend(fontsize=12) , ax[0].grid()\n",
    "ax[0].set_position([0.1, 0.3, 0.8, 0.6])\n",
    "\n",
    "\n",
    "residuals = t-lin_funk(n, T_fit, b_fit)\n",
    "ax[1].errorbar(n, residuals, yerr=sig_t, color='lime', fmt='.',markersize =9, label='Data', capsize=6, ecolor='k',markeredgecolor='k')\n",
    "ax[1].set_xlabel('Timing measurement number', fontsize=12) \n",
    "ax[1].set_ylabel('Residuals', fontsize=12)\n",
    "ax[1].axhline(0, color='r', linestyle='--') , ax[1].grid()\n",
    "ax[1].set_position([0.1, 0.1, 0.8, 0.2]) "
   ]
  },
  {
   "cell_type": "code",
   "execution_count": 83,
   "metadata": {},
   "outputs": [
    {
     "data": {
      "text/html": [
       "<table>\n",
       "    <tr>\n",
       "        <th colspan=\"5\" style=\"text-align:center\" title=\"Minimizer\"> Migrad </th>\n",
       "    </tr>\n",
       "    <tr>\n",
       "        <td colspan=\"2\" style=\"text-align:left\" title=\"Minimum value of function\"> FCN = 1.944e+05 </td>\n",
       "        <td colspan=\"3\" style=\"text-align:center\" title=\"Total number of function and (optional) gradient evaluations\"> Nfcn = 65 </td>\n",
       "    </tr>\n",
       "    <tr>\n",
       "        <td colspan=\"2\" style=\"text-align:left\" title=\"Estimated distance to minimum and goal\"> EDM = 3.86e-05 (Goal: 0.0002) </td>\n",
       "        <td colspan=\"3\" style=\"text-align:center\" title=\"Total run time of algorithms\">  </td>\n",
       "    </tr>\n",
       "    <tr>\n",
       "        <td colspan=\"2\" style=\"text-align:center;background-color:#92CCA6;color:black\"> Valid Minimum </td>\n",
       "        <td colspan=\"3\" style=\"text-align:center;background-color:#92CCA6;color:black\"> No Parameters at limit </td>\n",
       "    </tr>\n",
       "    <tr>\n",
       "        <td colspan=\"2\" style=\"text-align:center;background-color:#92CCA6;color:black\"> Below EDM threshold (goal x 10) </td>\n",
       "        <td colspan=\"3\" style=\"text-align:center;background-color:#92CCA6;color:black\"> Below call limit </td>\n",
       "    </tr>\n",
       "    <tr>\n",
       "        <td style=\"text-align:center;background-color:#92CCA6;color:black\"> Covariance </td>\n",
       "        <td style=\"text-align:center;background-color:#92CCA6;color:black\"> Hesse ok </td>\n",
       "        <td style=\"text-align:center;background-color:#92CCA6;color:black\" title=\"Is covariance matrix accurate?\"> Accurate </td>\n",
       "        <td style=\"text-align:center;background-color:#92CCA6;color:black\" title=\"Is covariance matrix positive definite?\"> Pos. def. </td>\n",
       "        <td style=\"text-align:center;background-color:#92CCA6;color:black\" title=\"Was positive definiteness enforced by Minuit?\"> Not forced </td>\n",
       "    </tr>\n",
       "</table><table>\n",
       "    <tr>\n",
       "        <td></td>\n",
       "        <th title=\"Variable name\"> Name </th>\n",
       "        <th title=\"Value of parameter\"> Value </th>\n",
       "        <th title=\"Hesse error\"> Hesse Error </th>\n",
       "        <th title=\"Minos lower error\"> Minos Error- </th>\n",
       "        <th title=\"Minos upper error\"> Minos Error+ </th>\n",
       "        <th title=\"Lower limit of the parameter\"> Limit- </th>\n",
       "        <th title=\"Upper limit of the parameter\"> Limit+ </th>\n",
       "        <th title=\"Is the parameter fixed in the fit\"> Fixed </th>\n",
       "    </tr>\n",
       "    <tr>\n",
       "        <th> 0 </th>\n",
       "        <td> mu </td>\n",
       "        <td> 3.24e-3 </td>\n",
       "        <td> 0.05e-3 </td>\n",
       "        <td>  </td>\n",
       "        <td>  </td>\n",
       "        <td>  </td>\n",
       "        <td>  </td>\n",
       "        <td>  </td>\n",
       "    </tr>\n",
       "    <tr>\n",
       "        <th> 1 </th>\n",
       "        <td> sigma </td>\n",
       "        <td> 48.69e-3 </td>\n",
       "        <td> 0.05e-3 </td>\n",
       "        <td>  </td>\n",
       "        <td>  </td>\n",
       "        <td>  </td>\n",
       "        <td>  </td>\n",
       "        <td>  </td>\n",
       "    </tr>\n",
       "    <tr>\n",
       "        <th> 2 </th>\n",
       "        <td> A </td>\n",
       "        <td> 7.316 </td>\n",
       "        <td> 0.006 </td>\n",
       "        <td>  </td>\n",
       "        <td>  </td>\n",
       "        <td>  </td>\n",
       "        <td>  </td>\n",
       "        <td>  </td>\n",
       "    </tr>\n",
       "</table><table>\n",
       "    <tr>\n",
       "        <td></td>\n",
       "        <th> mu </th>\n",
       "        <th> sigma </th>\n",
       "        <th> A </th>\n",
       "    </tr>\n",
       "    <tr>\n",
       "        <th> mu </th>\n",
       "        <td> 2.43e-09 </td>\n",
       "        <td style=\"background-color:rgb(248,248,250);color:black\"> -4.27e-11 <strong>(-0.017)</strong> </td>\n",
       "        <td style=\"background-color:rgb(250,248,248);color:black\"> 3.19e-09 <strong>(0.010)</strong> </td>\n",
       "    </tr>\n",
       "    <tr>\n",
       "        <th> sigma </th>\n",
       "        <td style=\"background-color:rgb(248,248,250);color:black\"> -4.27e-11 <strong>(-0.017)</strong> </td>\n",
       "        <td> 2.48e-09 </td>\n",
       "        <td style=\"background-color:rgb(174,174,250);color:black\"> -1.86e-07 <strong>(-0.581)</strong> </td>\n",
       "    </tr>\n",
       "    <tr>\n",
       "        <th> A </th>\n",
       "        <td style=\"background-color:rgb(250,248,248);color:black\"> 3.19e-09 <strong>(0.010)</strong> </td>\n",
       "        <td style=\"background-color:rgb(174,174,250);color:black\"> -1.86e-07 <strong>(-0.581)</strong> </td>\n",
       "        <td> 4.15e-05 </td>\n",
       "    </tr>\n",
       "</table>"
      ],
      "text/plain": [
       "┌─────────────────────────────────────────────────────────────────────────┐\n",
       "│                                Migrad                                   │\n",
       "├──────────────────────────────────┬──────────────────────────────────────┤\n",
       "│ FCN = 1.944e+05                  │              Nfcn = 65               │\n",
       "│ EDM = 3.86e-05 (Goal: 0.0002)    │                                      │\n",
       "├──────────────────────────────────┼──────────────────────────────────────┤\n",
       "│          Valid Minimum           │        No Parameters at limit        │\n",
       "├──────────────────────────────────┼──────────────────────────────────────┤\n",
       "│ Below EDM threshold (goal x 10)  │           Below call limit           │\n",
       "├───────────────┬──────────────────┼───────────┬─────────────┬────────────┤\n",
       "│  Covariance   │     Hesse ok     │ Accurate  │  Pos. def.  │ Not forced │\n",
       "└───────────────┴──────────────────┴───────────┴─────────────┴────────────┘\n",
       "┌───┬───────┬───────────┬───────────┬────────────┬────────────┬─────────┬─────────┬───────┐\n",
       "│   │ Name  │   Value   │ Hesse Err │ Minos Err- │ Minos Err+ │ Limit-  │ Limit+  │ Fixed │\n",
       "├───┼───────┼───────────┼───────────┼────────────┼────────────┼─────────┼─────────┼───────┤\n",
       "│ 0 │ mu    │  3.24e-3  │  0.05e-3  │            │            │         │         │       │\n",
       "│ 1 │ sigma │ 48.69e-3  │  0.05e-3  │            │            │         │         │       │\n",
       "│ 2 │ A     │   7.316   │   0.006   │            │            │         │         │       │\n",
       "└───┴───────┴───────────┴───────────┴────────────┴────────────┴─────────┴─────────┴───────┘\n",
       "┌───────┬───────────────────────────────┐\n",
       "│       │        mu     sigma         A │\n",
       "├───────┼───────────────────────────────┤\n",
       "│    mu │  2.43e-09 -4.27e-11  3.19e-09 │\n",
       "│ sigma │ -4.27e-11  2.48e-09 -1.86e-07 │\n",
       "│     A │  3.19e-09 -1.86e-07  4.15e-05 │\n",
       "└───────┴───────────────────────────────┘"
      ]
     },
     "execution_count": 83,
     "metadata": {},
     "output_type": "execute_result"
    }
   ],
   "source": [
    "Nbins = 30\n",
    "xmin, xmax = -0.2, 0.2\n",
    "bwidth = (xmax-xmin)/Nbins\n",
    "#numpy histogram\n",
    "\n",
    "hist , bin_edges = np.histogram(residuals, bins=Nbins, range=(xmin, xmax))\n",
    "bin_centers = 0.5*(bin_edges[1:] + bin_edges[:-1])\n",
    "bin_widths = bin_edges[1:] - bin_edges[:-1]\n",
    "\n",
    "\n",
    "#fit a gaussian to the residuals histogram\n",
    "def gauss(x, mu, sigma, A):\n",
    "    return A*np.exp(-(x-mu)**2/(2*sigma**2))\n",
    "\n",
    "chi2_gauss = Chi2Regression(gauss, bin_centers, hist, bin_widths)\n",
    "\n",
    "minuit_gauss = Minuit(chi2_gauss, mu=0, sigma=0.05, A=8)\n",
    "minuit_gauss.migrad()\n"
   ]
  },
  {
   "cell_type": "code",
   "execution_count": 97,
   "metadata": {},
   "outputs": [
    {
     "data": {
      "text/plain": [
       "(<matplotlib.legend.Legend at 0x23f8b94feb0>, None)"
      ]
     },
     "execution_count": 97,
     "metadata": {},
     "output_type": "execute_result"
    },
    {
     "data": {
      "image/png": "[encoded data removed]",
      "text/plain": [
       "<Figure size 504x360 with 1 Axes>"
      ]
     },
     "metadata": {
      "needs_background": "light"
     },
     "output_type": "display_data"
    }
   ],
   "source": [
    "mu_fit , sigma_fit , A_fit = minuit_gauss.values\n",
    "\n",
    "x_fit = np.linspace(xmin, xmax, 1000)\n",
    "\n",
    "fig, ax = plt.subplots(nrows=1, ncols=1, figsize=(7, 5))\n",
    "ax.hist(residuals, bins=Nbins, range=(xmin,xmax), color='k', histtype='step', label='Residuals')\n",
    "ax.plot(x_fit, gauss(x_fit, mu_fit, sigma_fit, A_fit), color='r', label=f'Gauss:  $\\sigma$ = {sigma_fit:.3f}')\n",
    "ax.set_xlabel('Residuals', fontsize=12)\n",
    "ax.set_ylabel('Counts', fontsize=12)\n",
    "ax.set(xlim=(xmin, xmax))\n",
    "ax.legend(fontsize=10) , ax.grid()"
   ]
  },
  {
   "cell_type": "markdown",
   "metadata": {},
   "source": [
    "# What to do next?\n",
    "\n",
    "The reason for the (empty) plot below is, that though your data (hopefully) lies on a line, you're not able to see any smaller effects. However, if you plot the __residuals__ (the difference between your measurements and a fit to them), then you will much better be able to tell, if the data looks good. Also, it is from a historgram of the residuals, that you can determine, if your errors are Gaussian (or have any obvious outliers), and from the Standard Deviation what your (typical) uncertainty is."
   ]
  }
 ],
 "metadata": {
  "kernelspec": {
   "display_name": "Python 3.9.12 ('base')",
   "language": "python",
   "name": "python3"
  },
  "language_info": {
   "codemirror_mode": {
    "name": "ipython",
    "version": 3
   },
   "file_extension": ".py",
   "mimetype": "text/x-python",
   "name": "python",
   "nbconvert_exporter": "python",
   "pygments_lexer": "ipython3",
   "version": "3.9.12"
  },
  "vscode": {
   "interpreter": {
    "hash": "d12e26f72a40d5c48233c54861fca038d6a92135fc0e5e920944e69c69b6b29d"
   }
  }
 },
 "nbformat": 4,
 "nbformat_minor": 2
}
