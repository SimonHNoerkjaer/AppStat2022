{
 "cells": [
  {
   "cell_type": "markdown",
   "metadata": {},
   "source": [
    "# Analyze pendulum data\n",
    "Use this notebook to quickly test whether your pendulum data makes sense!"
   ]
  },
  {
   "cell_type": "code",
   "execution_count": 45,
   "metadata": {},
   "outputs": [],
   "source": [
    "# Imports\n",
    "import numpy as np\n",
    "import matplotlib.pyplot as plt\n",
    "from iminuit import Minuit\n",
    "from scipy import stats\n",
    "\n",
    "sys.path.append('../../External_Functions')\n",
    "from ExternalFunctions import UnbinnedLH, BinnedLH, Chi2Regression\n",
    "from ExternalFunctions import nice_string_output, add_text_to_ax   # Useful functions to print fit results on figure"
   ]
  },
  {
   "cell_type": "code",
   "execution_count": 28,
   "metadata": {},
   "outputs": [],
   "source": [
    "# Example file location\n",
    "filename_example = 'data_pendulum_example/timer_output.dat'"
   ]
  },
  {
   "cell_type": "markdown",
   "metadata": {},
   "source": [
    "## Data reader"
   ]
  },
  {
   "cell_type": "code",
   "execution_count": 29,
   "metadata": {
    "code_folding": []
   },
   "outputs": [],
   "source": [
    "# Read in data\n",
    "def read_data(filename):\n",
    "    dat = np.genfromtxt(filename, delimiter='\\t', names=('n', 't_s'))\n",
    "    return dat"
   ]
  },
  {
   "cell_type": "markdown",
   "metadata": {},
   "source": [
    "## Read and plot the data"
   ]
  },
  {
   "cell_type": "code",
   "execution_count": 30,
   "metadata": {
    "code_folding": [],
    "scrolled": false
   },
   "outputs": [
    {
     "data": {
      "text/html": [
       "<table>\n",
       "    <tr>\n",
       "        <th colspan=\"5\" style=\"text-align:center\" title=\"Minimizer\"> Migrad </th>\n",
       "    </tr>\n",
       "    <tr>\n",
       "        <td colspan=\"2\" style=\"text-align:left\" title=\"Minimum value of function\"> FCN = 0.1594 </td>\n",
       "        <td colspan=\"3\" style=\"text-align:center\" title=\"Total number of function and (optional) gradient evaluations\"> Nfcn = 34 </td>\n",
       "    </tr>\n",
       "    <tr>\n",
       "        <td colspan=\"2\" style=\"text-align:left\" title=\"Estimated distance to minimum and goal\"> EDM = 7.25e-21 (Goal: 0.0002) </td>\n",
       "        <td colspan=\"3\" style=\"text-align:center\" title=\"Total run time of algorithms\">  </td>\n",
       "    </tr>\n",
       "    <tr>\n",
       "        <td colspan=\"2\" style=\"text-align:center;background-color:#92CCA6;color:black\"> Valid Minimum </td>\n",
       "        <td colspan=\"3\" style=\"text-align:center;background-color:#92CCA6;color:black\"> No Parameters at limit </td>\n",
       "    </tr>\n",
       "    <tr>\n",
       "        <td colspan=\"2\" style=\"text-align:center;background-color:#92CCA6;color:black\"> Below EDM threshold (goal x 10) </td>\n",
       "        <td colspan=\"3\" style=\"text-align:center;background-color:#92CCA6;color:black\"> Below call limit </td>\n",
       "    </tr>\n",
       "    <tr>\n",
       "        <td style=\"text-align:center;background-color:#92CCA6;color:black\"> Covariance </td>\n",
       "        <td style=\"text-align:center;background-color:#92CCA6;color:black\"> Hesse ok </td>\n",
       "        <td style=\"text-align:center;background-color:#92CCA6;color:black\" title=\"Is covariance matrix accurate?\"> Accurate </td>\n",
       "        <td style=\"text-align:center;background-color:#92CCA6;color:black\" title=\"Is covariance matrix positive definite?\"> Pos. def. </td>\n",
       "        <td style=\"text-align:center;background-color:#92CCA6;color:black\" title=\"Was positive definiteness enforced by Minuit?\"> Not forced </td>\n",
       "    </tr>\n",
       "</table><table>\n",
       "    <tr>\n",
       "        <td></td>\n",
       "        <th title=\"Variable name\"> Name </th>\n",
       "        <th title=\"Value of parameter\"> Value </th>\n",
       "        <th title=\"Hesse error\"> Hesse Error </th>\n",
       "        <th title=\"Minos lower error\"> Minos Error- </th>\n",
       "        <th title=\"Minos upper error\"> Minos Error+ </th>\n",
       "        <th title=\"Lower limit of the parameter\"> Limit- </th>\n",
       "        <th title=\"Upper limit of the parameter\"> Limit+ </th>\n",
       "        <th title=\"Is the parameter fixed in the fit\"> Fixed </th>\n",
       "    </tr>\n",
       "    <tr>\n",
       "        <th> 0 </th>\n",
       "        <td> T </td>\n",
       "        <td> 2.734 </td>\n",
       "        <td> 0.006 </td>\n",
       "        <td>  </td>\n",
       "        <td>  </td>\n",
       "        <td>  </td>\n",
       "        <td>  </td>\n",
       "        <td>  </td>\n",
       "    </tr>\n",
       "    <tr>\n",
       "        <th> 1 </th>\n",
       "        <td> b </td>\n",
       "        <td> -4.36 </td>\n",
       "        <td> 0.26 </td>\n",
       "        <td>  </td>\n",
       "        <td>  </td>\n",
       "        <td>  </td>\n",
       "        <td>  </td>\n",
       "        <td>  </td>\n",
       "    </tr>\n",
       "</table><table>\n",
       "    <tr>\n",
       "        <td></td>\n",
       "        <th> T </th>\n",
       "        <th> b </th>\n",
       "    </tr>\n",
       "    <tr>\n",
       "        <th> T </th>\n",
       "        <td> 3.99e-05 </td>\n",
       "        <td style=\"background-color:rgb(135,135,250);color:black\"> -0.00144 <strong>(-0.881)</strong> </td>\n",
       "    </tr>\n",
       "    <tr>\n",
       "        <th> b </th>\n",
       "        <td style=\"background-color:rgb(135,135,250);color:black\"> -0.00144 <strong>(-0.881)</strong> </td>\n",
       "        <td> 0.0666 </td>\n",
       "    </tr>\n",
       "</table>"
      ],
      "text/plain": [
       "┌─────────────────────────────────────────────────────────────────────────┐\n",
       "│                                Migrad                                   │\n",
       "├──────────────────────────────────┬──────────────────────────────────────┤\n",
       "│ FCN = 0.1594                     │              Nfcn = 34               │\n",
       "│ EDM = 7.25e-21 (Goal: 0.0002)    │                                      │\n",
       "├──────────────────────────────────┼──────────────────────────────────────┤\n",
       "│          Valid Minimum           │        No Parameters at limit        │\n",
       "├──────────────────────────────────┼──────────────────────────────────────┤\n",
       "│ Below EDM threshold (goal x 10)  │           Below call limit           │\n",
       "├───────────────┬──────────────────┼───────────┬─────────────┬────────────┤\n",
       "│  Covariance   │     Hesse ok     │ Accurate  │  Pos. def.  │ Not forced │\n",
       "└───────────────┴──────────────────┴───────────┴─────────────┴────────────┘\n",
       "┌───┬──────┬───────────┬───────────┬────────────┬────────────┬─────────┬─────────┬───────┐\n",
       "│   │ Name │   Value   │ Hesse Err │ Minos Err- │ Minos Err+ │ Limit-  │ Limit+  │ Fixed │\n",
       "├───┼──────┼───────────┼───────────┼────────────┼────────────┼─────────┼─────────┼───────┤\n",
       "│ 0 │ T    │   2.734   │   0.006   │            │            │         │         │       │\n",
       "│ 1 │ b    │   -4.36   │   0.26    │            │            │         │         │       │\n",
       "└───┴──────┴───────────┴───────────┴────────────┴────────────┴─────────┴─────────┴───────┘\n",
       "┌───┬───────────────────┐\n",
       "│   │        T        b │\n",
       "├───┼───────────────────┤\n",
       "│ T │ 3.99e-05 -0.00144 │\n",
       "│ b │ -0.00144   0.0666 │\n",
       "└───┴───────────────────┘"
      ]
     },
     "execution_count": 30,
     "metadata": {},
     "output_type": "execute_result"
    }
   ],
   "source": [
    "data_example = read_data(filename_example)\n",
    "n, t = data_example['n'][2:], data_example['t_s'][2:]\n",
    "\n",
    "#fit function\n",
    "def lin_funk(x,T,b):\n",
    "    return T*x+b\n",
    "\n",
    "#fit data with Minuit\n",
    "chi2 = Chi2Regression(lin_funk, n, t)\n",
    "\n",
    "minuit = Minuit(chi2, T=3, b=0)\n",
    "minuit.migrad()\n"
   ]
  },
  {
   "cell_type": "code",
   "execution_count": 31,
   "metadata": {},
   "outputs": [],
   "source": [
    "T_fit , b_fit = minuit.values"
   ]
  },
  {
   "cell_type": "code",
   "execution_count": 173,
   "metadata": {},
   "outputs": [
    {
     "name": "stdout",
     "output_type": "stream",
     "text": [
      "2.7335449078139993\n"
     ]
    }
   ],
   "source": [
    "print(T_fit)\n",
    "# Plotting\n",
    "sig_t = minuit.errors[0]     # Set your own values...\n",
    "fig, ax = plt.subplots(nrows=2, ncols=1, figsize=(12, 8), gridspec_kw={'height_ratios':[4,1]}, sharex=True)\n",
    "\n",
    "ax[0].set_title('Pendulum period fit')\n",
    "ax[0].errorbar(n, t, yerr=sig_t, color='lime', fmt='.',markersize =9, label='Data', capsize=6, ecolor='k',markeredgecolor='k')\n",
    "ax[0].plot(n, lin_funk(n, T_fit, b_fit), color='r', label=f'Chi2 fit')\n",
    "ax[0].set_xlabel('Timing measurement number', fontsize=12)\n",
    "ax[0].set_ylabel('Time elapsed (s)', fontsize=12)\n",
    "ax[0].set(xlim=(0, n[-1]+np.ediff1d(n)[0]), ylim=(0, t[-1]+np.ediff1d(t)[0]))\n",
    "ax[0].legend(fontsize=12) , ax[0].grid()\n",
    "ax[0].set_position([0.1, 0.3, 0.8, 0.6])\n",
    "\n",
    "\n",
    "residuals = t-lin_funk(n, T_fit, b_fit)\n",
    "ax[1].errorbar(n, residuals, yerr=sig_t, color='lime', fmt='.',markersize =9, label='Data', capsize=6, ecolor='k',markeredgecolor='k')\n",
    "ax[1].set_xlabel('Timing measurement number', fontsize=12) \n",
    "ax[1].set_ylabel('Residuals', fontsize=12)\n",
    "ax[1].axhline(0, color='r', linestyle='--') , ax[1].grid()\n",
    "ax[1].set_position([0.1, 0.1, 0.8, 0.2]) \n",
    "\n",
    "d = {'Data Points': len(n),\n",
    "        'Fitted Period': round(T_fit,3),\n",
    "        'Sigma Period': round(sig_t,3)\n",
    "    }\n",
    "\n",
    "text = nice_string_output(d, extra_spacing=2, decimals=3)\n",
    "add_text_to_ax(0.02, 0.78, text, ax[0], fontsize=15);\n",
    "plt.close()\n"
   ]
  },
  {
   "cell_type": "code",
   "execution_count": 120,
   "metadata": {},
   "outputs": [
    {
     "data": {
      "text/html": [
       "<table>\n",
       "    <tr>\n",
       "        <th colspan=\"5\" style=\"text-align:center\" title=\"Minimizer\"> Migrad </th>\n",
       "    </tr>\n",
       "    <tr>\n",
       "        <td colspan=\"2\" style=\"text-align:left\" title=\"Minimum value of function\"> FCN = 2777 </td>\n",
       "        <td colspan=\"3\" style=\"text-align:center\" title=\"Total number of function and (optional) gradient evaluations\"> Nfcn = 84 </td>\n",
       "    </tr>\n",
       "    <tr>\n",
       "        <td colspan=\"2\" style=\"text-align:left\" title=\"Estimated distance to minimum and goal\"> EDM = 0.000123 (Goal: 0.0002) </td>\n",
       "        <td colspan=\"3\" style=\"text-align:center\" title=\"Total run time of algorithms\">  </td>\n",
       "    </tr>\n",
       "    <tr>\n",
       "        <td colspan=\"2\" style=\"text-align:center;background-color:#92CCA6;color:black\"> Valid Minimum </td>\n",
       "        <td colspan=\"3\" style=\"text-align:center;background-color:#92CCA6;color:black\"> No Parameters at limit </td>\n",
       "    </tr>\n",
       "    <tr>\n",
       "        <td colspan=\"2\" style=\"text-align:center;background-color:#92CCA6;color:black\"> Below EDM threshold (goal x 10) </td>\n",
       "        <td colspan=\"3\" style=\"text-align:center;background-color:#92CCA6;color:black\"> Below call limit </td>\n",
       "    </tr>\n",
       "    <tr>\n",
       "        <td style=\"text-align:center;background-color:#92CCA6;color:black\"> Covariance </td>\n",
       "        <td style=\"text-align:center;background-color:#92CCA6;color:black\"> Hesse ok </td>\n",
       "        <td style=\"text-align:center;background-color:#92CCA6;color:black\" title=\"Is covariance matrix accurate?\"> Accurate </td>\n",
       "        <td style=\"text-align:center;background-color:#92CCA6;color:black\" title=\"Is covariance matrix positive definite?\"> Pos. def. </td>\n",
       "        <td style=\"text-align:center;background-color:#92CCA6;color:black\" title=\"Was positive definiteness enforced by Minuit?\"> Not forced </td>\n",
       "    </tr>\n",
       "</table><table>\n",
       "    <tr>\n",
       "        <td></td>\n",
       "        <th title=\"Variable name\"> Name </th>\n",
       "        <th title=\"Value of parameter\"> Value </th>\n",
       "        <th title=\"Hesse error\"> Hesse Error </th>\n",
       "        <th title=\"Minos lower error\"> Minos Error- </th>\n",
       "        <th title=\"Minos upper error\"> Minos Error+ </th>\n",
       "        <th title=\"Lower limit of the parameter\"> Limit- </th>\n",
       "        <th title=\"Upper limit of the parameter\"> Limit+ </th>\n",
       "        <th title=\"Is the parameter fixed in the fit\"> Fixed </th>\n",
       "    </tr>\n",
       "    <tr>\n",
       "        <th> 0 </th>\n",
       "        <td> mu </td>\n",
       "        <td> 3.65e-3 </td>\n",
       "        <td> 0.07e-3 </td>\n",
       "        <td>  </td>\n",
       "        <td>  </td>\n",
       "        <td>  </td>\n",
       "        <td>  </td>\n",
       "        <td>  </td>\n",
       "    </tr>\n",
       "    <tr>\n",
       "        <th> 1 </th>\n",
       "        <td> sigma </td>\n",
       "        <td> 48.07e-3 </td>\n",
       "        <td> 0.08e-3 </td>\n",
       "        <td>  </td>\n",
       "        <td>  </td>\n",
       "        <td>  </td>\n",
       "        <td>  </td>\n",
       "        <td>  </td>\n",
       "    </tr>\n",
       "    <tr>\n",
       "        <th> 2 </th>\n",
       "        <td> A </td>\n",
       "        <td> 17.115 </td>\n",
       "        <td> 0.023 </td>\n",
       "        <td>  </td>\n",
       "        <td>  </td>\n",
       "        <td>  </td>\n",
       "        <td>  </td>\n",
       "        <td>  </td>\n",
       "    </tr>\n",
       "</table><table>\n",
       "    <tr>\n",
       "        <td></td>\n",
       "        <th> mu </th>\n",
       "        <th> sigma </th>\n",
       "        <th> A </th>\n",
       "    </tr>\n",
       "    <tr>\n",
       "        <th> mu </th>\n",
       "        <td> 5.45e-09 </td>\n",
       "        <td style=\"background-color:rgb(248,248,250);color:black\"> -9.78e-11 <strong>(-0.017)</strong> </td>\n",
       "        <td style=\"background-color:rgb(250,248,248);color:black\"> 2.09e-08 <strong>(0.012)</strong> </td>\n",
       "    </tr>\n",
       "    <tr>\n",
       "        <th> sigma </th>\n",
       "        <td style=\"background-color:rgb(248,248,250);color:black\"> -9.78e-11 <strong>(-0.017)</strong> </td>\n",
       "        <td> 6.01e-09 </td>\n",
       "        <td style=\"background-color:rgb(173,173,250);color:black\"> -1.06e-06 <strong>(-0.595)</strong> </td>\n",
       "    </tr>\n",
       "    <tr>\n",
       "        <th> A </th>\n",
       "        <td style=\"background-color:rgb(250,248,248);color:black\"> 2.09e-08 <strong>(0.012)</strong> </td>\n",
       "        <td style=\"background-color:rgb(173,173,250);color:black\"> -1.06e-06 <strong>(-0.595)</strong> </td>\n",
       "        <td> 0.000529 </td>\n",
       "    </tr>\n",
       "</table>"
      ],
      "text/plain": [
       "┌─────────────────────────────────────────────────────────────────────────┐\n",
       "│                                Migrad                                   │\n",
       "├──────────────────────────────────┬──────────────────────────────────────┤\n",
       "│ FCN = 2777                       │              Nfcn = 84               │\n",
       "│ EDM = 0.000123 (Goal: 0.0002)    │                                      │\n",
       "├──────────────────────────────────┼──────────────────────────────────────┤\n",
       "│          Valid Minimum           │        No Parameters at limit        │\n",
       "├──────────────────────────────────┼──────────────────────────────────────┤\n",
       "│ Below EDM threshold (goal x 10)  │           Below call limit           │\n",
       "├───────────────┬──────────────────┼───────────┬─────────────┬────────────┤\n",
       "│  Covariance   │     Hesse ok     │ Accurate  │  Pos. def.  │ Not forced │\n",
       "└───────────────┴──────────────────┴───────────┴─────────────┴────────────┘\n",
       "┌───┬───────┬───────────┬───────────┬────────────┬────────────┬─────────┬─────────┬───────┐\n",
       "│   │ Name  │   Value   │ Hesse Err │ Minos Err- │ Minos Err+ │ Limit-  │ Limit+  │ Fixed │\n",
       "├───┼───────┼───────────┼───────────┼────────────┼────────────┼─────────┼─────────┼───────┤\n",
       "│ 0 │ mu    │  3.65e-3  │  0.07e-3  │            │            │         │         │       │\n",
       "│ 1 │ sigma │ 48.07e-3  │  0.08e-3  │            │            │         │         │       │\n",
       "│ 2 │ A     │  17.115   │   0.023   │            │            │         │         │       │\n",
       "└───┴───────┴───────────┴───────────┴────────────┴────────────┴─────────┴─────────┴───────┘\n",
       "┌───────┬───────────────────────────────┐\n",
       "│       │        mu     sigma         A │\n",
       "├───────┼───────────────────────────────┤\n",
       "│    mu │  5.45e-09 -9.78e-11  2.09e-08 │\n",
       "│ sigma │ -9.78e-11  6.01e-09 -1.06e-06 │\n",
       "│     A │  2.09e-08 -1.06e-06  0.000529 │\n",
       "└───────┴───────────────────────────────┘"
      ]
     },
     "execution_count": 120,
     "metadata": {},
     "output_type": "execute_result"
    }
   ],
   "source": [
    "Nbins = 13\n",
    "xmin, xmax = -0.2, 0.2\n",
    "bwidth = (xmax-xmin)/Nbins\n",
    "#numpy histogram\n",
    "\n",
    "hist , bin_edges = np.histogram(residuals, bins=Nbins, range=(xmin, xmax))\n",
    "bin_centers = 0.5*(bin_edges[1:] + bin_edges[:-1])\n",
    "bin_width = bin_edges[1:] - bin_edges[:-1]\n",
    "\n",
    "\n",
    "#remove empty bins\n",
    "mask = hist != 0\n",
    "hist = hist[mask]\n",
    "bin_centers = bin_centers[mask]\n",
    "bin_width = bin_width[mask]\n",
    "\n",
    "\n",
    "\n",
    "#fit a gaussian to the residuals histogram\n",
    "def gauss(x, mu, sigma, A):\n",
    "    return A*np.exp(-(x-mu)**2/(2*sigma**2))\n",
    "\n",
    "chi2_gauss = Chi2Regression(gauss, bin_centers, hist, bin_width)\n",
    "\n",
    "minuit_gauss = Minuit(chi2_gauss, mu=0, sigma=0.05, A=8)\n",
    "minuit_gauss.migrad()\n"
   ]
  },
  {
   "cell_type": "code",
   "execution_count": 174,
   "metadata": {},
   "outputs": [
    {
     "data": {
      "text/plain": [
       "2776.773705761762"
      ]
     },
     "execution_count": 174,
     "metadata": {},
     "output_type": "execute_result"
    }
   ],
   "source": [
    "mu_res_fit , sigma_res_fit , A_res_fit = minuit_gauss.values\n",
    "\n",
    "x_fit = np.linspace(xmin, xmax, 1000)\n",
    "\n",
    "fig, ax = plt.subplots(nrows=1, ncols=1, figsize=(7, 5))\n",
    "ax.hist(residuals, bins=Nbins, range=(xmin,xmax), color='k', histtype='step', label='Residuals')\n",
    "ax.plot(x_fit, gauss(x_fit, mu_res_fit, sigma_res_fit, A_res_fit), color='r', label=f'Gauss:  $\\sigma$ = {sigma_res_fit:.3f}')\n",
    "ax.set_xlabel('Residuals', fontsize=12)\n",
    "ax.set_ylabel('Counts', fontsize=12)\n",
    "ax.set(xlim=(xmin, xmax))\n",
    "ax.legend(fontsize=10) , ax.grid()\n",
    "plt.close()\n",
    "minuit_gauss.fval"
   ]
  },
  {
   "cell_type": "code",
   "execution_count": 122,
   "metadata": {},
   "outputs": [],
   "source": [
    "# fit the data again using the sigma of the gaussian as the error on the data points\n",
    "chi2 = Chi2Regression(lin_funk, n, t, sigma_res_fit)\n",
    "\n",
    "minuit = Minuit(chi2, T=3, b=0)\n",
    "minuit.migrad()\n",
    "\n",
    "final_T_fit , final_b_fit = minuit.values\n",
    "final_T_fit_err , final_b_fit_err = minuit.errors\n",
    "\n",
    "\n"
   ]
  },
  {
   "cell_type": "code",
   "execution_count": 172,
   "metadata": {},
   "outputs": [
    {
     "data": {
      "text/plain": [
       "0.0"
      ]
     },
     "execution_count": 172,
     "metadata": {},
     "output_type": "execute_result"
    },
    {
     "data": {
      "image/png": "[encoded data removed]",
      "text/plain": [
       "<Figure size 1080x720 with 2 Axes>"
      ]
     },
     "metadata": {
      "needs_background": "light"
     },
     "output_type": "display_data"
    }
   ],
   "source": [
    "# plt.style.use('classic')\n",
    "\n",
    "# Plot the data and the fit\n",
    "sig_t = minuit.errors[0]    \n",
    "fig, ax = plt.subplots(nrows=2, ncols=1, figsize=(15, 10), gridspec_kw={'height_ratios':[4,1]}, sharex=True)\n",
    "\n",
    "ax[0].set_title('Pendulum period fit',fontsize=14, pad=2, color='k', fontweight='bold')\n",
    "ax[0].errorbar(n, t, yerr=final_T_fit_err, color='cyan', fmt='.',markersize =10, label='Lap-time measurements of period', capsize=6, ecolor='k',markeredgecolor='k')\n",
    "ax[0].plot(n, lin_funk(n, T_fit, b_fit), color='r', label=r'Linear minimum $\\chi^2$ fit')\n",
    "ax[0].set_xlabel('Timing measurement number', fontsize=12)\n",
    "ax[0].set_ylabel('Time elapsed (s)', fontsize=12)\n",
    "ax[0].set(xlim=(0, n[-1]+np.ediff1d(n)[0]), ylim=(0, t[-1]+np.ediff1d(t)[0]))\n",
    "ax[0].legend(fontsize=12,loc = 'upper left') , ax[0].grid()\n",
    "ax[0].set_position([0.1, 0.3, 0.8, 0.7])\n",
    "\n",
    "\n",
    "\n",
    "\n",
    "# Plot of residuals\n",
    "residuals = t-lin_funk(n, T_fit, b_fit)\n",
    "ax[1].errorbar(n, residuals, yerr=sigma_res_fit, color='cyan', fmt='.',markersize =10, capsize=6, ecolor='k',markeredgecolor='k')\n",
    "ax[1].set_xlabel('Timing measurement number', fontsize=12) \n",
    "ax[1].set_ylabel('Residuals', fontsize=12)\n",
    "ax[1].axhline(0, color='r', linestyle='--') , ax[1].grid()\n",
    "ax[1].set_position([0.1, 0.15, 0.8, 0.15]) \n",
    "ax[1].set(yticks=[-0.2,0,0.2])\n",
    "\n",
    "\n",
    "ax[1].set(yticks=[- 2*sigma_res_fit,- 1*sigma_res_fit,0,1*sigma_res_fit, 2*sigma_res_fit], \n",
    "    yticklabels=[r'$-2\\sigma$',r'$-1\\sigma$',0,r'$-1\\sigma$','$2\\sigma$'],\n",
    "    ylim=(-3*sigma_res_fit, 3*sigma_res_fit))\n",
    "\n",
    "\n",
    "d_1 = {'Chi2' : round(minuit.fval,3),\n",
    "        'Ndof': len(n)-len(minuit.values),\n",
    "        'P-value': stats.chi2.sf(minuit.fval, len(n)-len(minuit.values)),\n",
    "        'Period': [final_T_fit, final_T_fit_err],\n",
    "        'Offset': [final_b_fit, final_b_fit_err]\n",
    "    }\n",
    "\n",
    "text = nice_string_output(d_1, extra_spacing=2, decimals=4)\n",
    "add_text_to_ax(0.02, 0.78, text, ax[0], fontsize=15)\n",
    "\n",
    "\n",
    "\n",
    "\n",
    "#Histogram of residuals\n",
    "ax_hist = ax[0].inset_axes([0.63, 0.1, 0.35, 0.45])\n",
    "ax_hist.hist(residuals, bins=Nbins, range=(xmin,xmax),  color='k', facecolor='gold',histtype='bar',ec='orange',alpha=0.5)\n",
    "ax_hist.plot(x_fit, gauss(x_fit, mu_res_fit, sigma_res_fit, A_res_fit), color='r', label=f'Gauss:  $\\sigma$ = {sigma_res_fit}')\n",
    "ax_hist.errorbar(bin_centers, hist, yerr=np.sqrt(hist),xerr=bin_width/2, \n",
    "                fmt='o',markersize =5, capsize=3, mfc='cyan', mec='k',ecolor='k',label='Data',)\n",
    "ax_hist.set(xlim=(xmin, xmax))\n",
    "ax_hist.set_xlabel(xlabel='Residuals',x=0.5)\n",
    "ax_hist.set_ylabel(ylabel=f'Counts / {bin_width[0]:.3f}',y=0.5)\n",
    "ax_hist.set_title('Residuals histogram',fontsize=9, pad=2, color='k', fontweight='bold')\n",
    "\n",
    "ax_hist.grid()\n",
    "\n",
    "d_2 = {'P-value': stats.chi2.sf(minuit_gauss.fval, Nbins-len(minuit_gauss.values)),\n",
    "    'STD:': sigma_res_fit,\n",
    "    }\n",
    "\n",
    "text = nice_string_output(d_2, extra_spacing=0.5, decimals=2)\n",
    "add_text_to_ax(0.02, 0.9, text, ax_hist, fontsize=12)\n",
    "stats.chi2.sf(minuit_gauss.fval, Nbins-len(minuit_gauss.values))\n",
    "# minuit_gauss.fval\n",
    "\n"
   ]
  },
  {
   "cell_type": "markdown",
   "metadata": {},
   "source": [
    "# What to do next?\n",
    "\n",
    "The reason for the (empty) plot below is, that though your data (hopefully) lies on a line, you're not able to see any smaller effects. However, if you plot the __residuals__ (the difference between your measurements and a fit to them), then you will much better be able to tell, if the data looks good. Also, it is from a historgram of the residuals, that you can determine, if your errors are Gaussian (or have any obvious outliers), and from the Standard Deviation what your (typical) uncertainty is."
   ]
  }
 ],
 "metadata": {
  "kernelspec": {
   "display_name": "Python 3.9.12 ('base')",
   "language": "python",
   "name": "python3"
  },
  "language_info": {
   "codemirror_mode": {
    "name": "ipython",
    "version": 3
   },
   "file_extension": ".py",
   "mimetype": "text/x-python",
   "name": "python",
   "nbconvert_exporter": "python",
   "pygments_lexer": "ipython3",
   "version": "3.9.12 (main, Apr  4 2022, 05:22:27) [MSC v.1916 64 bit (AMD64)]"
  },
  "vscode": {
   "interpreter": {
    "hash": "d12e26f72a40d5c48233c54861fca038d6a92135fc0e5e920944e69c69b6b29d"
   }
  }
 },
 "nbformat": 4,
 "nbformat_minor": 2
}
