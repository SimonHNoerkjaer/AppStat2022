{
 "cells": [
  {
   "cell_type": "markdown",
   "metadata": {},
   "source": [
    "# Stopwatch\n",
    "\n",
    "Simple stopwatch macro, writing result into a file (to be read by analysis program)\n",
    "\n",
    "### Author:\n",
    "Troels Petersen\n",
    "\n",
    "### Last modified:\n",
    "November 20th 2022\n",
    "\n",
    "## IMPORTANT NOTE: \n",
    "__It is strongly recommended to use the python script (stopwatch_py3.py) on your own computer for the lab, instead of this notebook, as the notebook and running on a remote server like ERDA might potentially lead to inaccuracies in the timing recorded.__"
   ]
  },
  {
   "cell_type": "code",
   "execution_count": 3,
   "metadata": {},
   "outputs": [],
   "source": [
    "# Importing useful libraries\n",
    "from time import time\n",
    "import os,sys\n",
    "\n",
    "# Standard name to use for the output file.\n",
    "name = \"timer_output.dat\""
   ]
  },
  {
   "cell_type": "markdown",
   "metadata": {},
   "source": [
    "The Following section of the notebook will verify that the output file name does not already exists in your current directory. If it does, you will be asked to enter a new file name.\n",
    "\n",
    "If the file name satisfies all the required conditions, the stopwatch will start and you will be able to record time stamps simply by pressing \"enter\""
   ]
  },
  {
   "cell_type": "code",
   "execution_count": 4,
   "metadata": {},
   "outputs": [
    {
     "name": "stderr",
     "output_type": "stream",
     "text": [
      "<>:35: SyntaxWarning: \"is\" with a literal. Did you mean \"==\"?\n",
      "<>:35: SyntaxWarning: \"is\" with a literal. Did you mean \"==\"?\n",
      "C:\\Users\\simon\\AppData\\Local\\Temp\\ipykernel_16264\\703383931.py:35: SyntaxWarning: \"is\" with a literal. Did you mean \"==\"?\n",
      "  while( input( \"%4d \\t %10.4f \\t Laptime by enter, Exit by key+enter \\t\"%(counter, laptime) ) is \"\" ) :\n"
     ]
    },
    {
     "name": "stdout",
     "output_type": "stream",
     "text": [
      "Done.\n"
     ]
    }
   ],
   "source": [
    "\n",
    "n = 0\n",
    "while (os.path.isfile(name)):\n",
    "    print(\"The file \",name,\" already exists in this directory.\")\n",
    "    name = input(\"Please enter a new name for your output file: \")\n",
    "    \n",
    "newname = name\n",
    "    \n",
    "# Make some check about the string entered\n",
    "if len(newname)==0:\n",
    "    good_name=False\n",
    "else:\n",
    "    good_name=(newname[0].isalpha())*(newname.endswith(\".dat\"))\n",
    "    \n",
    "while n<5 and (not good_name):\n",
    "    newname = input(\"Name must end with .dat and first character must be a letter: \")\n",
    "    n+=1\n",
    "    if len(newname)==0:\n",
    "        newname = input(\"Name must not be empty: \")\n",
    "        n+=1\n",
    "        continue\n",
    "    else:\n",
    "        good_name=(newname[0].isalpha())*(newname.endswith(\".dat\"))\n",
    "            \n",
    "if not good_name:\n",
    "    print(\"ERROR: Filename does not fulfill basic requirements.\")\n",
    "    sys.exit()\n",
    "else:\n",
    "    name = newname\n",
    "        \n",
    "    \n",
    "with open(name, \"w\") as outfile : \n",
    "    now = time()\n",
    "    laptime = 0.0\n",
    "    counter = 0\n",
    "    while( input( \"%4d \\t %10.4f \\t Laptime by enter, Exit by key+enter \\t\"%(counter, laptime) ) is \"\" ) : \n",
    "        counter += 1\n",
    "        laptime = time()-now\n",
    "        outfile.write(\"%4d \\t %10.4f \\n\"%(counter, laptime))\n",
    "        \n",
    "    print(\"Done.\")"
   ]
  },
  {
   "cell_type": "code",
   "execution_count": null,
   "metadata": {},
   "outputs": [],
   "source": []
  }
 ],
 "metadata": {
  "kernelspec": {
   "display_name": "Python 3.9.12 ('base')",
   "language": "python",
   "name": "python3"
  },
  "language_info": {
   "codemirror_mode": {
    "name": "ipython",
    "version": 3
   },
   "file_extension": ".py",
   "mimetype": "text/x-python",
   "name": "python",
   "nbconvert_exporter": "python",
   "pygments_lexer": "ipython3",
   "version": "3.9.12"
  },
  "vscode": {
   "interpreter": {
    "hash": "d12e26f72a40d5c48233c54861fca038d6a92135fc0e5e920944e69c69b6b29d"
   }
  }
 },
 "nbformat": 4,
 "nbformat_minor": 2
}
