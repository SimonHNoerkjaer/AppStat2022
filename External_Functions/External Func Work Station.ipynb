{
 "cells": [
  {
   "cell_type": "code",
   "execution_count": null,
   "metadata": {},
   "outputs": [],
   "source": [
    "import numpy as np                                     \n",
    "from numpy.linalg import matrix_power                  \n",
    "import matplotlib.pyplot as plt                                                        \n",
    "from iminuit import Minuit                            \n",
    "import sys                                            \n",
    "from scipy import stats\n",
    "from scipy.integrate import quad\n",
    "import sympy as sp\n",
    "from sympy import integrate , print_latex\n",
    "import pandas as pd\n",
    "from IPython.display import display"
   ]
  },
  {
   "attachments": {},
   "cell_type": "markdown",
   "metadata": {},
   "source": [
    "#### Data generator functions:"
   ]
  },
  {
   "cell_type": "code",
   "execution_count": 253,
   "metadata": {},
   "outputs": [],
   "source": [
    "#generate data from a poisson distribution\n",
    "def poisson_data(Lambda,N):\n",
    "    '''Function for generating data from a poisson distribution\n",
    "    \n",
    "       N: number of events\n",
    "       mu: mean of distribution\n",
    "       \n",
    "       returns: array of data'''\n",
    "    data = np.random.poisson(Lambda, N)\n",
    "    return data\n",
    "\n",
    "\n",
    "\n",
    "#generate data from a gaussian distribution\n",
    "def gaussian_data(mu, sigma, N):\n",
    "    '''Function for generating data from a gaussian distribution\n",
    "    \n",
    "       N: number of events\n",
    "       mu: mean of distribution\n",
    "       sigma: standard deviation of distribution\n",
    "       \n",
    "       returns: array of data'''\n",
    "    data = np.random.normal(mu, sigma, N)\n",
    "    return data\n",
    "\n",
    "\n",
    "#generate data from a binomial distribution\n",
    "def binomial_data(n, p, N):\n",
    "    '''Function for generating data from a binomial distribution\n",
    "    \n",
    "       N: number of events\n",
    "       p: probability of success\n",
    "       \n",
    "       returns: array of data'''\n",
    "    data = np.random.binomial(n, p, N)\n",
    "    return data"
   ]
  },
  {
   "attachments": {},
   "cell_type": "markdown",
   "metadata": {},
   "source": [
    "#### binning / histogram function: "
   ]
  },
  {
   "cell_type": "code",
   "execution_count": 260,
   "metadata": {},
   "outputs": [
    {
     "data": {
      "image/png": "[encoded data removed]",
      "text/plain": [
       "<Figure size 360x216 with 1 Axes>"
      ]
     },
     "metadata": {
      "needs_background": "light"
     },
     "output_type": "display_data"
    }
   ],
   "source": [
    "#Binning function\n",
    "\n",
    "import numpy as np\n",
    "def binning(x, xrange, Nbins, remove_empty=True):\n",
    "    '''Function for binning data and removing empty bins\n",
    "    \n",
    "       x: data to be binned\n",
    "       xrange: range of data in tuble (min, max)\n",
    "       Nbins: number of bins\n",
    "       remove_empty_bins: if True, empty bins are removed from\n",
    "       \n",
    "       returns: counts, bin_centers, binwidth'''\n",
    "    binwidth = (xrange[1]-xrange[0])/Nbins\n",
    "    counts , bin_edges = np.histogram(x, range=xrange, bins=Nbins)\n",
    "    bin_centers = (bin_edges[:-1] + bin_edges[1:])/2\n",
    "\n",
    "    if remove_empty:\n",
    "        bin_centers = bin_centers[counts>0]\n",
    "        counts = counts[counts>0]\n",
    "\n",
    "    return counts , bin_centers, binwidth\n",
    "    \n",
    "\n",
    "\n",
    "#Plotting histogram:\n",
    "\n",
    "def easy_hist(x, Nbins, Figsize=(10, 7)):\n",
    "    '''Function for plotting a histogram\n",
    "    \n",
    "       x: data to be binned\n",
    "       xrange: range of data in tuble (min, max)\n",
    "       Nbins: number of bins\n",
    "       '''\n",
    "    \n",
    "    counts, bin_centers, binwidth = binning(x, (min(x),max(x)), Nbins)\n",
    "    fig, ax = plt.subplots(figsize=Figsize)\n",
    "    ax.hist(x, bins=Nbins ,range=(min(x),max(x)), histtype='stepfilled', color='lightgreen', edgecolor='grey', linewidth=1.2)\n",
    "    ax.errorbar(bin_centers, counts, yerr=np.sqrt(counts), fmt='o',ms=4,mec='k',mfc='g', capsize=1, ecolor='g')\n",
    "    ax.set(xlabel='x', ylabel=f'Counts / {binwidth:.2f}')\n",
    "    plt.show()\n",
    "    \n",
    "    return fig, ax , counts\n",
    "\n",
    "\n",
    "\n",
    "#example:\n",
    "x1 = gaussian_data(7, 2,500)\n",
    "easy_hist(x1, 30,Figsize=(5, 3));\n",
    "\n"
   ]
  },
  {
   "attachments": {},
   "cell_type": "markdown",
   "metadata": {},
   "source": [
    "#### Monte Carlo functions: "
   ]
  },
  {
   "cell_type": "code",
   "execution_count": 276,
   "metadata": {},
   "outputs": [
    {
     "data": {
      "image/png": "[encoded data removed]",
      "text/plain": [
       "<Figure size 360x216 with 1 Axes>"
      ]
     },
     "metadata": {
      "needs_background": "light"
     },
     "output_type": "display_data"
    }
   ],
   "source": [
    "import numpy as np\n",
    "import sympy as sp\n",
    "\n",
    "def Accept_reject(f, xrange, yrange, N_accepted):\n",
    "    '''Function for generating random numbers according to a given function\n",
    "       using the accept/reject method.\n",
    "       \n",
    "       Input: f, xmin, xmax, ymin, ymax, N_accepted\n",
    "       \n",
    "       returns: \n",
    "       array of accepted values\n",
    "       number of tries\n",
    "       [efficiency, efficiency error]\n",
    "       [integral, integral error]  \n",
    "       [normalization, normalization error]'''\n",
    "\n",
    "    x = sp.Symbol('x')\n",
    "    f = sp.lambdify(x, f, 'numpy')\n",
    "       \n",
    "    r = np.random\n",
    "    r.seed(42)\n",
    "    \n",
    "    N_try = 0\n",
    "    x_accepted = []\n",
    "    \n",
    "    while len(x_accepted) < N_accepted:\n",
    "        x = r.uniform(*xrange)\n",
    "        y = r.uniform(*yrange)\n",
    "        if y < f(x):\n",
    "            x_accepted.append(x)\n",
    "        N_try += 1\n",
    "\n",
    "\n",
    "    eff = N_accepted / N_try \n",
    "    eff_err = np.sqrt(eff * (1-eff) / N_try)        # binomial error\n",
    "\n",
    "    integral =  eff * (xrange[1]-xrange[0]) * (yrange[1]-yrange[0])\n",
    "    integral_err = eff_err * (xrange[1]-xrange[0]) * (yrange[1]-yrange[0])\n",
    "\n",
    "    normalization = 1 / integral\n",
    "    normalization_err = integral_err / integral**2\n",
    "\n",
    "    return x_accepted, N_try, [eff, eff_err], [integral, integral_err], [normalization, normalization_err]\n",
    "\n",
    "\n",
    "#example the accept/reject function: \n",
    "data = Accept_reject('sin(x)**2', (-5,5), (0,1), 5000)\n",
    "easy_hist(data[0], 30, Figsize=(5, 3));"
   ]
  },
  {
   "cell_type": "code",
   "execution_count": 91,
   "metadata": {},
   "outputs": [],
   "source": [
    "# inverse transform method:\n",
    "\n",
    "import sympy as sp\n",
    "def inverse_transform(f,N, xmin, xmax=None):\n",
    "    '''Function for generation random numbers according to the inverse transformation method using sympy.\n",
    "    \n",
    "       Input: f: function given as a string \n",
    "              N: number of point \n",
    "              xmin: lower limit of integration\n",
    "              xmax: (optional) = infinity as default'''\n",
    "\n",
    "    if xmax == None:\n",
    "        xmax = sp.oo\n",
    "    \n",
    "    x, y = sp.symbols('x y')\n",
    "    F_norm = sp.integrate(f, (x, xmin, xmax), conds='none')\n",
    "\n",
    "    if F_norm == 0:\n",
    "        print('ERROR: Integral is zero. Choose a different integration range.')\n",
    "        return\n",
    "    if F_norm == sp.oo:\n",
    "        print('ERROR: Integral is diverging. Choose a different integration range.')\n",
    "        return\n",
    "\n",
    "    F = 1/F_norm * sp.integrate(f, (x, xmin, x), conds='none')\n",
    "    F_inv = sp.solve(F-y, x)[0]\n",
    "    F_inv = sp.lambdify(y, F_inv, 'numpy')\n",
    "    r = np.random\n",
    "    r.seed(42)\n",
    "    y = r.uniform(0,1,N)\n",
    "    x_values = F_inv(y)\n",
    "\n",
    "    return x_values ,F_norm, F_inv"
   ]
  },
  {
   "attachments": {},
   "cell_type": "markdown",
   "metadata": {},
   "source": [
    "### Fisher Discriminant function: "
   ]
  },
  {
   "cell_type": "code",
   "execution_count": 283,
   "metadata": {},
   "outputs": [],
   "source": [
    "# fisher discriminant function:\n",
    "\n",
    "import numpy as np\n",
    "\n",
    "def fisher_discriminant(sample1, sample2, w0=True):\n",
    "    \"\"\"\n",
    "    Calculates Fisher discriminants given two samples with the w0 correction term as default.\n",
    "    \n",
    "    Parameters:\n",
    "        sample1 (numpy array): the first sample\n",
    "        sample2 (numpy array): the second sample\n",
    "        w0 (bool): if True, the w0 correction term is calculated\n",
    "    \n",
    "    Returns:\n",
    "        (float): the calculated Fisher discriminant\n",
    "    \"\"\"\n",
    "    mean1 = np.mean(sample1, axis=0)\n",
    "    mean2 = np.mean(sample2, axis=0)\n",
    "    cov1 = np.cov(sample1, rowvar=False)\n",
    "    cov2 = np.cov(sample2, rowvar=False)\n",
    "    cov_combined = cov1 + cov2\n",
    "    inv_cov_combined = np.linalg.inv(cov_combined)\n",
    "\n",
    "    wf = inv_cov_combined @ (mean1 - mean2)\n",
    "\n",
    "    if w0:\n",
    "        w0 = - np.sum(wf)\n",
    "\n",
    "    fisher1 = sample1 @ wf + w0 \n",
    "    fisher2 = sample2 @ wf + w0\n",
    "\n",
    "    std_1 = np.std(sample1, ddof=1)\n",
    "    std_2 = np.std(sample2, ddof=1)\n",
    "    separation = np.abs((mean1 - mean2)) / np.sqrt(std_1**2 + std_2**2)\n",
    "    \n",
    "    # fisher_discriminant = np.dot((mean1 - mean2), np.dot(inv_cov_combined, (mean1 - mean2)))'\n",
    "\n",
    "    return fisher1, fisher2, separation\n"
   ]
  },
  {
   "cell_type": "code",
   "execution_count": 284,
   "metadata": {},
   "outputs": [
    {
     "ename": "LinAlgError",
     "evalue": "0-dimensional array given. Array must be at least two-dimensional",
     "output_type": "error",
     "traceback": [
      "\u001b[1;31m---------------------------------------------------------------------------\u001b[0m",
      "\u001b[1;31mLinAlgError\u001b[0m                               Traceback (most recent call last)",
      "\u001b[1;32mc:\\Users\\simon\\OneDrive\\Andet\\Sikkerhedskopiering\\GitHub\\AppStat2022\\External_Functions\\External Func Work Station.ipynb Cell 11\u001b[0m in \u001b[0;36m<cell line: 4>\u001b[1;34m()\u001b[0m\n\u001b[0;32m      <a href='vscode-notebook-cell:/c%3A/Users/simon/OneDrive/Andet/Sikkerhedskopiering/GitHub/AppStat2022/External_Functions/External%20Func%20Work%20Station.ipynb#X35sZmlsZQ%3D%3D?line=0'>1</a>\u001b[0m x1 \u001b[39m=\u001b[39m gaussian_data(\u001b[39m7\u001b[39m, \u001b[39m2\u001b[39m,\u001b[39m500\u001b[39m)\n\u001b[0;32m      <a href='vscode-notebook-cell:/c%3A/Users/simon/OneDrive/Andet/Sikkerhedskopiering/GitHub/AppStat2022/External_Functions/External%20Func%20Work%20Station.ipynb#X35sZmlsZQ%3D%3D?line=1'>2</a>\u001b[0m x2 \u001b[39m=\u001b[39m gaussian_data(\u001b[39m3\u001b[39m, \u001b[39m2\u001b[39m,\u001b[39m500\u001b[39m)\n\u001b[1;32m----> <a href='vscode-notebook-cell:/c%3A/Users/simon/OneDrive/Andet/Sikkerhedskopiering/GitHub/AppStat2022/External_Functions/External%20Func%20Work%20Station.ipynb#X35sZmlsZQ%3D%3D?line=3'>4</a>\u001b[0m fish1 , fish2, sep \u001b[39m=\u001b[39m fisher_discriminant(x1, x2)\n",
      "\u001b[1;32mc:\\Users\\simon\\OneDrive\\Andet\\Sikkerhedskopiering\\GitHub\\AppStat2022\\External_Functions\\External Func Work Station.ipynb Cell 11\u001b[0m in \u001b[0;36mfisher_discriminant\u001b[1;34m(sample1, sample2, w0)\u001b[0m\n\u001b[0;32m     <a href='vscode-notebook-cell:/c%3A/Users/simon/OneDrive/Andet/Sikkerhedskopiering/GitHub/AppStat2022/External_Functions/External%20Func%20Work%20Station.ipynb#X35sZmlsZQ%3D%3D?line=19'>20</a>\u001b[0m cov2 \u001b[39m=\u001b[39m np\u001b[39m.\u001b[39mcov(sample2, rowvar\u001b[39m=\u001b[39m\u001b[39mFalse\u001b[39;00m)\n\u001b[0;32m     <a href='vscode-notebook-cell:/c%3A/Users/simon/OneDrive/Andet/Sikkerhedskopiering/GitHub/AppStat2022/External_Functions/External%20Func%20Work%20Station.ipynb#X35sZmlsZQ%3D%3D?line=20'>21</a>\u001b[0m cov_combined \u001b[39m=\u001b[39m cov1 \u001b[39m+\u001b[39m cov2\n\u001b[1;32m---> <a href='vscode-notebook-cell:/c%3A/Users/simon/OneDrive/Andet/Sikkerhedskopiering/GitHub/AppStat2022/External_Functions/External%20Func%20Work%20Station.ipynb#X35sZmlsZQ%3D%3D?line=21'>22</a>\u001b[0m inv_cov_combined \u001b[39m=\u001b[39m np\u001b[39m.\u001b[39;49mlinalg\u001b[39m.\u001b[39;49minv(cov_combined)\n\u001b[0;32m     <a href='vscode-notebook-cell:/c%3A/Users/simon/OneDrive/Andet/Sikkerhedskopiering/GitHub/AppStat2022/External_Functions/External%20Func%20Work%20Station.ipynb#X35sZmlsZQ%3D%3D?line=23'>24</a>\u001b[0m wf \u001b[39m=\u001b[39m inv_cov_combined \u001b[39m@\u001b[39m (mean1 \u001b[39m-\u001b[39m mean2)\n\u001b[0;32m     <a href='vscode-notebook-cell:/c%3A/Users/simon/OneDrive/Andet/Sikkerhedskopiering/GitHub/AppStat2022/External_Functions/External%20Func%20Work%20Station.ipynb#X35sZmlsZQ%3D%3D?line=25'>26</a>\u001b[0m \u001b[39mif\u001b[39;00m w0:\n",
      "File \u001b[1;32m<__array_function__ internals>:5\u001b[0m, in \u001b[0;36minv\u001b[1;34m(*args, **kwargs)\u001b[0m\n",
      "File \u001b[1;32mc:\\Users\\simon\\anaconda3\\lib\\site-packages\\numpy\\linalg\\linalg.py:539\u001b[0m, in \u001b[0;36minv\u001b[1;34m(a)\u001b[0m\n\u001b[0;32m    478\u001b[0m \u001b[39m\"\"\"\u001b[39;00m\n\u001b[0;32m    479\u001b[0m \u001b[39mCompute the (multiplicative) inverse of a matrix.\u001b[39;00m\n\u001b[0;32m    480\u001b[0m \n\u001b[1;32m   (...)\u001b[0m\n\u001b[0;32m    536\u001b[0m \n\u001b[0;32m    537\u001b[0m \u001b[39m\"\"\"\u001b[39;00m\n\u001b[0;32m    538\u001b[0m a, wrap \u001b[39m=\u001b[39m _makearray(a)\n\u001b[1;32m--> 539\u001b[0m _assert_stacked_2d(a)\n\u001b[0;32m    540\u001b[0m _assert_stacked_square(a)\n\u001b[0;32m    541\u001b[0m t, result_t \u001b[39m=\u001b[39m _commonType(a)\n",
      "File \u001b[1;32mc:\\Users\\simon\\anaconda3\\lib\\site-packages\\numpy\\linalg\\linalg.py:196\u001b[0m, in \u001b[0;36m_assert_stacked_2d\u001b[1;34m(*arrays)\u001b[0m\n\u001b[0;32m    194\u001b[0m \u001b[39mfor\u001b[39;00m a \u001b[39min\u001b[39;00m arrays:\n\u001b[0;32m    195\u001b[0m     \u001b[39mif\u001b[39;00m a\u001b[39m.\u001b[39mndim \u001b[39m<\u001b[39m \u001b[39m2\u001b[39m:\n\u001b[1;32m--> 196\u001b[0m         \u001b[39mraise\u001b[39;00m LinAlgError(\u001b[39m'\u001b[39m\u001b[39m%d\u001b[39;00m\u001b[39m-dimensional array given. Array must be \u001b[39m\u001b[39m'\u001b[39m\n\u001b[0;32m    197\u001b[0m                 \u001b[39m'\u001b[39m\u001b[39mat least two-dimensional\u001b[39m\u001b[39m'\u001b[39m \u001b[39m%\u001b[39m a\u001b[39m.\u001b[39mndim)\n",
      "\u001b[1;31mLinAlgError\u001b[0m: 0-dimensional array given. Array must be at least two-dimensional"
     ]
    }
   ],
   "source": [
    "x1 = gaussian_data(7, 2,500)\n",
    "x2 = gaussian_data(3, 2,500)\n",
    "\n",
    "fish1 , fish2, sep = fisher_discriminant(x1, x2)"
   ]
  },
  {
   "cell_type": "code",
   "execution_count": null,
   "metadata": {},
   "outputs": [],
   "source": []
  }
 ],
 "metadata": {
  "kernelspec": {
   "display_name": "base",
   "language": "python",
   "name": "python3"
  },
  "language_info": {
   "codemirror_mode": {
    "name": "ipython",
    "version": 3
   },
   "file_extension": ".py",
   "mimetype": "text/x-python",
   "name": "python",
   "nbconvert_exporter": "python",
   "pygments_lexer": "ipython3",
   "version": "3.9.12"
  },
  "orig_nbformat": 4,
  "vscode": {
   "interpreter": {
    "hash": "d12e26f72a40d5c48233c54861fca038d6a92135fc0e5e920944e69c69b6b29d"
   }
  }
 },
 "nbformat": 4,
 "nbformat_minor": 2
}
