{
 "cells": [
  {
   "attachments": {},
   "cell_type": "markdown",
   "metadata": {},
   "source": [
    "# Problem Set 2022/23 - Simon Hilding-Nørkjær (xsj415)\n"
   ]
  },
  {
   "attachments": {},
   "cell_type": "markdown",
   "metadata": {},
   "source": [
    "### Pre-loading packages and functions: "
   ]
  },
  {
   "cell_type": "code",
   "execution_count": 276,
   "metadata": {},
   "outputs": [],
   "source": [
    "import numpy as np                                     \n",
    "from numpy.linalg import matrix_power                  \n",
    "import matplotlib.pyplot as plt                                                        \n",
    "from iminuit import Minuit                            \n",
    "import sys                                            \n",
    "from scipy import stats\n",
    "from scipy.integrate import quad\n",
    "import sympy as sp\n",
    "from sympy import integrate\n",
    "import pandas as pd\n",
    "\n",
    "plt.style.use('classic')\n",
    "\n",
    "sys.path.append('../External_Functions')\n",
    "from ExternalFunctions import UnbinnedLH, BinnedLH, Chi2Regression\n",
    "from ExternalFunctions import nice_string_output, add_text_to_ax   \n",
    "\n",
    "sys.path.append('../MyExternalFunctions')\n",
    "from MyExternalFunctions import Errorpropagation"
   ]
  },
  {
   "cell_type": "code",
   "execution_count": 205,
   "metadata": {},
   "outputs": [
    {
     "name": "stdout",
     "output_type": "stream",
     "text": [
      "0.005430853458364827\n",
      "9*sigma_x**2*sin(x)**2*cos(x)**4\n"
     ]
    },
    {
     "data": {
      "text/latex": [
       "$\\displaystyle \\sqrt{9 \\sigma_{x}^{2} \\sin^{2}{\\left(x \\right)} \\cos^{4}{\\left(x \\right)} + 4 \\sigma_{y}^{2} y^{2}}$"
      ],
      "text/plain": [
       "sqrt(9*sigma_x**2*sin(x)**2*cos(x)**4 + 4*sigma_y**2*y**2)"
      ]
     },
     "execution_count": 205,
     "metadata": {},
     "output_type": "execute_result"
    }
   ],
   "source": [
    "eq, func , func_err, contrib = Errorpropagation('cos(x)**3+y**2', 'x y')\n",
    "\n",
    "symbols = sp.symbols('x y sigma_x sigma_y')\n",
    "sigmax = sp.lambdify(symbols,contrib[0])\n",
    "sigmay = sp.lambdify(symbols,contrib[1])\n",
    "\n",
    "print(sigmax(1,1,0.1,0.1))\n",
    "print(contrib[0])\n",
    "\n",
    "func_err(2,3,0.1,0.1)\n",
    "eq"
   ]
  },
  {
   "attachments": {},
   "cell_type": "markdown",
   "metadata": {},
   "source": [
    "## I - Distributions and probabilities:"
   ]
  },
  {
   "attachments": {},
   "cell_type": "markdown",
   "metadata": {},
   "source": [
    "### 1.1) Your friend tells you, that a bag contains 3 white, 6 black, and 7 grey marbles."
   ]
  },
  {
   "attachments": {},
   "cell_type": "markdown",
   "metadata": {},
   "source": [
    "#### 1.1.1) If you take two random marbles without putting them back, what is the probability that at least one of them is white?"
   ]
  },
  {
   "cell_type": "code",
   "execution_count": 10,
   "metadata": {},
   "outputs": [
    {
     "name": "stdout",
     "output_type": "stream",
     "text": [
      "Probability of at least one white marble = 0.35\n"
     ]
    }
   ],
   "source": [
    "n_white , n_black , n_grey = 3 , 6 , 7\n",
    "N = n_white + n_black + n_grey\n",
    "\n",
    "#first draw\n",
    "p_white = n_white/N\n",
    "p_other = 1-p_white\n",
    "\n",
    "#second draw\n",
    "p_other_given_other = (n_black+n_grey-1)/(N-1)\n",
    "p_atleast1white = 1 - p_other*p_other_given_other\n",
    "\n",
    "print('Probability of at least one white marble =',p_atleast1white)  "
   ]
  },
  {
   "attachments": {},
   "cell_type": "markdown",
   "metadata": {},
   "source": [
    "#### 1.1.2) If you pick a marble, record its color, and then put it back 25 times independently, what is the probability of getting exactly 18 grey marbles? At least 18 grey marbles?"
   ]
  },
  {
   "cell_type": "code",
   "execution_count": 11,
   "metadata": {},
   "outputs": [
    {
     "name": "stdout",
     "output_type": "stream",
     "text": [
      "Probability of 18 grey marbles out of 25 trials = 0.002953499094615582\n",
      "Probability of at least 18 grey marbles out of 25 trials = 0.004039599792444158\n"
     ]
    }
   ],
   "source": [
    "p_grey = n_grey/N\n",
    "P_18grey_of_25 = stats.binom.pmf(18,25,p_grey)\n",
    "P_atleast_18grey_of_25 = stats.binom.sf(17,25,p_grey)\n",
    "print('Probability of 18 grey marbles out of 25 trials =',P_18grey_of_25)\n",
    "print('Probability of at least 18 grey marbles out of 25 trials =',P_atleast_18grey_of_25)"
   ]
  },
  {
   "attachments": {},
   "cell_type": "markdown",
   "metadata": {},
   "source": [
    "#### 1.1.3) If you got 18 grey marbles out of 25 picks, would you trust your friend’s information?"
   ]
  },
  {
   "cell_type": "code",
   "execution_count": 12,
   "metadata": {},
   "outputs": [
    {
     "name": "stdout",
     "output_type": "stream",
     "text": [
      "z-score = 2.8473323633361787\n",
      "p-value = 0.0022043653491208926\n",
      "Conclusion: I would not trust the information as the p-value based on the z-score show is really low.\n"
     ]
    }
   ],
   "source": [
    "\n",
    "# expected number of grey marbles\n",
    "Expected_grey = 25*p_grey\n",
    "# binomial standard deviation of grey marbles\n",
    "sigma_grey = np.sqrt(25*p_grey*(1-p_grey))    \n",
    "# z-score\n",
    "z = (18-Expected_grey)/sigma_grey\n",
    "# p-value\n",
    "p = stats.norm.sf(z)\n",
    "\n",
    "\n",
    "print('z-score =',z)\n",
    "print('p-value =',p)\n",
    "print('Conclusion: I would not trust the information as the p-value based on the z-score show is really low.')"
   ]
  },
  {
   "attachments": {},
   "cell_type": "markdown",
   "metadata": {},
   "source": [
    "### 1.2) \n",
    "The lifetime L of a certain component is exponentially distributed: L(t) = 1/τ exp(−t/τ ).\n",
    "If there is a 4% chance of this component lasting more than 500 hours, what is the value of τ ?"
   ]
  },
  {
   "cell_type": "code",
   "execution_count": 13,
   "metadata": {},
   "outputs": [
    {
     "name": "stdout",
     "output_type": "stream",
     "text": [
      "The lifetime of the particle is 155.33, hours\n"
     ]
    }
   ],
   "source": [
    "#solving the intgral of L(t) = 1/τ exp(−t/τ ) from 0 to 500 using sympy \n",
    "\n",
    "t, tau = sp.symbols('t tau', real=True)\n",
    "L = 1/tau*sp.exp(-t/tau)\n",
    "P_L500 = integrate(L,(t,500,sp.oo),conds='none')\n",
    "Tau = sp.solve(P_L500-0.04,tau)   #solving for tau and because the integral is from 500 to infinity\n",
    "\n",
    "print(r'The lifetime of the particle is {:.2f}, hours'.format(Tau[0]))"
   ]
  },
  {
   "attachments": {},
   "cell_type": "markdown",
   "metadata": {},
   "source": [
    "### 1.3) A radio telescope detects 241089 signals/day, based on a 9 week observation campaign."
   ]
  },
  {
   "attachments": {},
   "cell_type": "markdown",
   "metadata": {},
   "source": [
    "#### 1.3.1) One hour, it receives 9487 signals. What is the chance of observing exactly this number?"
   ]
  },
  {
   "cell_type": "code",
   "execution_count": 14,
   "metadata": {},
   "outputs": [
    {
     "name": "stdout",
     "output_type": "stream",
     "text": [
      "Probability of detecting the signal in one hour:  5.55e-10\n"
     ]
    }
   ],
   "source": [
    "detection_rate = 241089       #counts per day \n",
    "signal = 9487                 #signal in one hour\n",
    "\n",
    "#probability of detecting the signal in one hour\n",
    "P_signal = stats.poisson.pmf(signal,detection_rate/24)\n",
    "print('Probability of detecting the signal in one hour: ',P_signal.round(12))\n"
   ]
  },
  {
   "attachments": {},
   "cell_type": "markdown",
   "metadata": {},
   "source": [
    "#### 1.3.2) Is this observation extraordinary, based on an estimate of its general probability?"
   ]
  },
  {
   "cell_type": "code",
   "execution_count": 15,
   "metadata": {},
   "outputs": [
    {
     "name": "stdout",
     "output_type": "stream",
     "text": [
      "z-score = 5.571124816057189\n",
      "p-value = 1.2654995762494655e-08\n",
      "Conclusion: Very unlikely observation based on p-value and z-score.\n"
     ]
    }
   ],
   "source": [
    "#expected number of signal in one hour\n",
    "Expected_signal = detection_rate/24\n",
    "\n",
    "#Poissonian standard deviation of signal in one hour\n",
    "sigma_signal = np.sqrt(detection_rate/24)\n",
    "\n",
    "#z-score\n",
    "z = (abs(signal-Expected_signal))/sigma_signal\n",
    "\n",
    "#p-value\n",
    "p = stats.norm.sf(z)\n",
    "\n",
    "print('z-score =',z)\n",
    "print('p-value =',p)\n",
    "print('Conclusion: Very unlikely observation based on p-value and z-score.')"
   ]
  },
  {
   "attachments": {},
   "cell_type": "markdown",
   "metadata": {},
   "source": [
    "### 1.4 )  Shooting with a bow, you have 3% chance of hitting a certain target"
   ]
  },
  {
   "attachments": {},
   "cell_type": "markdown",
   "metadata": {},
   "source": [
    "#### 1.4.1) What distribution is the number of hits going to follow, given N shots?"
   ]
  },
  {
   "cell_type": "code",
   "execution_count": 16,
   "metadata": {},
   "outputs": [],
   "source": [
    "#Binomial distribution with p=0.03 give N shots"
   ]
  },
  {
   "attachments": {},
   "cell_type": "markdown",
   "metadata": {},
   "source": [
    "#### 1.4.2) What is the probability that the first hit will come after 20 shots?"
   ]
  },
  {
   "cell_type": "code",
   "execution_count": 17,
   "metadata": {},
   "outputs": [
    {
     "name": "stdout",
     "output_type": "stream",
     "text": [
      "Probability of getting first hit after 20 shots given N shots: 0.000\n"
     ]
    }
   ],
   "source": [
    "#probability of getting first hit within 20 shots\n",
    "P_firsthit = (1-p)**20 * p\n",
    "print(f'Probability of getting first hit after 20 shots given N shots: {P_firsthit:.3f}')"
   ]
  },
  {
   "attachments": {},
   "cell_type": "markdown",
   "metadata": {},
   "source": [
    "#### 1.4.3) What is the probability that it will take more than 4000 shots to hit the target 100 times?"
   ]
  },
  {
   "cell_type": "code",
   "execution_count": 18,
   "metadata": {},
   "outputs": [
    {
     "name": "stdout",
     "output_type": "stream",
     "text": [
      "Probability of it taking more than 4000 shots to hit 100 times:  0.0\n"
     ]
    }
   ],
   "source": [
    "#probability of it taking more than 4000 shots to hit 100 times \n",
    "P_4000shots = stats.binom.sf(99,4000,p)\n",
    "print('Probability of it taking more than 4000 shots to hit 100 times: ',P_4000shots.round(3))"
   ]
  },
  {
   "attachments": {},
   "cell_type": "markdown",
   "metadata": {},
   "source": [
    "## II - Error Propagation"
   ]
  },
  {
   "attachments": {},
   "cell_type": "markdown",
   "metadata": {},
   "source": [
    "### 2.1)  Let x = 1.92 ± 0.39 and y = 3.1 ± 1.3, and let z1 = y/x, and z2 = cos(x) · x/y"
   ]
  },
  {
   "cell_type": "code",
   "execution_count": 19,
   "metadata": {},
   "outputs": [],
   "source": [
    "X =  1.92 \n",
    "Xerr = 0.39\n",
    "Y = 3.1 \n",
    "Yerr = 0.3\n",
    "\n",
    "def z1(x,y):\n",
    "    return y/x \n",
    "\n",
    "def z2(x,y):\n",
    "    return np.cos(x)*y/x"
   ]
  },
  {
   "attachments": {},
   "cell_type": "markdown",
   "metadata": {},
   "source": [
    "#### 2.1.1)  What are the uncertainties of z1 and z2, if x and y are uncorrelated?"
   ]
  },
  {
   "attachments": {},
   "cell_type": "markdown",
   "metadata": {},
   "source": []
  },
  {
   "attachments": {},
   "cell_type": "markdown",
   "metadata": {},
   "source": [
    "#### 2.1.2) If x and y were highly correlated (ρxy = 0.95), what would be the uncertainty on z1?"
   ]
  },
  {
   "cell_type": "code",
   "execution_count": 20,
   "metadata": {},
   "outputs": [],
   "source": [
    "# '\n",
    "# class ErrorPropagation:\n",
    "#     def __init__(self, func, variables, errors):\n",
    "#         self.func = func\n",
    "#         self.variables = variables\n",
    "#         self.errors = errors\n",
    "\n",
    "#         # Initialize symbols for the variables\n",
    "#         self.symbols = sp.symbols([f'x{i}' for i in range(len(variables))])\n",
    "\n",
    "#         # Define the function using the sympy symbols\n",
    "#         self.symbolic_func = func(*self.symbols)\n",
    "\n",
    "#         # Calculate the partial derivatives of the function with respect to each variable\n",
    "#         self.partial_derivatives = [self.symbolic_func.diff(var) for var in self.symbols]\n",
    "\n",
    "#     def calculate_error(self):\n",
    "#         # Substitute the values of the variables into the partial derivatives\n",
    "#         partial_derivatives = [deriv.subs(zip(self.symbols, self.variables)) for deriv in self.partial_derivatives]\n",
    "\n",
    "#         # Calculate the error using the formula for error propagation\n",
    "#         error = 0\n",
    "#         for i in range(len(self.variables)):\n",
    "#             error += (partial_derivatives[i] * self.errors[i])**2\n",
    "#         return sp.sqrt(error)\n",
    "\n",
    "#     def get_symbolic_formula(self):\n",
    "#         # Substitute the symbols back into the partial derivatives\n",
    "#         partial_derivatives = [deriv.subs(zip(self.symbols, self.symbols)) for deriv in self.partial_derivatives]\n",
    "\n",
    "#         # Calculate the symbolic formula for the propagated error\n",
    "#         error = 0\n",
    "#         for i in range(len(self.variables)):\n",
    "#             error += (partial_derivatives[i] * f'error_{i}')**2\n",
    "#         return sp.sqrt(error)\n",
    "\n",
    "# # Example usage\n",
    "# def my_func(x, y, z):\n",
    "#     return x**2 + y**2 + z**2\n",
    "\n",
    "# ep = ErrorPropagation(my_func, [1, 2, 3], [0.1, 0.2, 0.3])\n",
    "# error = ep.calculate_error()\n",
    "# print(error)  # Outputs: 0.9428090415820634\n",
    "\n",
    "# symbolic_formula = ep.get_symbolic_formula()\n",
    "# print(symbolic_formula)  # Outputs: sqrt((2*x0*error_0)**2 + (2*x1*error_1)**2 + (2*x2*error_2)**2)\n"
   ]
  },
  {
   "attachments": {},
   "cell_type": "markdown",
   "metadata": {},
   "source": [
    "#### 2.1.3) Which of the (uncorrelated) variables x and y contributes most to the uncertainty on z2?"
   ]
  },
  {
   "cell_type": "code",
   "execution_count": null,
   "metadata": {},
   "outputs": [],
   "source": []
  },
  {
   "attachments": {},
   "cell_type": "markdown",
   "metadata": {},
   "source": [
    "### 2.2) Five patients were given a drug to test if they slept longer (in hours). \n",
    "##### Their results were:+3.7, −1.2, −0.2, +0.7, +0.8. A Placebo group got the results: +1.5, −1.0, −0.7, +0.5, +0.1"
   ]
  },
  {
   "cell_type": "code",
   "execution_count": 21,
   "metadata": {},
   "outputs": [],
   "source": [
    "drug_group = np.array([3.7, -1.2, -0.2, 0.7, 0.8])\n",
    "placebo_group = np.array([1.5, -1.0, -0.7, 0.5, 0.1])"
   ]
  },
  {
   "attachments": {},
   "cell_type": "markdown",
   "metadata": {},
   "source": [
    "#### 2.2.1) Estimate the mean, standard deviation, and the uncertainty on the mean for drug group"
   ]
  },
  {
   "cell_type": "code",
   "execution_count": 22,
   "metadata": {},
   "outputs": [
    {
     "name": "stdout",
     "output_type": "stream",
     "text": [
      "Drug group: Mean = 0.76 +/- 0.82, STD of distribution = 1.83\n",
      "Placebo group: Mean = 0.08 +/- 0.45, STD of distribution = 1.00\n"
     ]
    }
   ],
   "source": [
    "#mean , std and error on the mean of drug group\n",
    "mean_drug = np.mean(drug_group)\n",
    "std_drug = np.std(drug_group, ddof=1)\n",
    "err_drug = std_drug/np.sqrt(len(drug_group))\n",
    "\n",
    "#mean , std and error on the mean of placebo group\n",
    "mean_placebo = np.mean(placebo_group)\n",
    "std_placebo = np.std(placebo_group, ddof=1)\n",
    "err_placebo = std_placebo/np.sqrt(len(placebo_group))\n",
    "\n",
    "\n",
    "# print the results\n",
    "print('Drug group: Mean = {:.2f} +/- {:.2f}, STD of distribution = {:.2f}'.format(mean_drug,err_drug,std_drug))\n",
    "print('Placebo group: Mean = {:.2f} +/- {:.2f}, STD of distribution = {:.2f}'.format(mean_placebo,err_placebo,std_placebo))"
   ]
  },
  {
   "attachments": {},
   "cell_type": "markdown",
   "metadata": {},
   "source": [
    "#### 2.2.2) What is the probability that the drug group slept longer than the placebo group?\n",
    "\n",
    "As the means and std's for the two samples are estimated we have to use the students t test in order to test the null hypothesis that the true sample means are equal. "
   ]
  },
  {
   "cell_type": "code",
   "execution_count": 275,
   "metadata": {},
   "outputs": [
    {
     "name": "stdout",
     "output_type": "stream",
     "text": [
      "t-statistic = 0.73\n",
      "p-value = 0.25\n"
     ]
    }
   ],
   "source": [
    "#calculate the student t-test for the means of two independent samples of scores\n",
    "t, p_ttest = stats.ttest_ind(drug_group, placebo_group, equal_var=False, alternative='greater')\n",
    "\n",
    "print(f't-statistic = {t:.2f}')\n",
    "print(f'p-value = {p_ttest:.2f}')"
   ]
  },
  {
   "attachments": {},
   "cell_type": "markdown",
   "metadata": {},
   "source": [
    "## III - Simulation / Monte Carlo:"
   ]
  },
  {
   "attachments": {},
   "cell_type": "markdown",
   "metadata": {},
   "source": [
    "### 3.1) Assume $f(x) = Cx^asin(πx)$ for x ∈ [0, 1] and a = 3 is a theoretical distribution."
   ]
  },
  {
   "attachments": {},
   "cell_type": "markdown",
   "metadata": {},
   "source": [
    "#### 3.1.1) By what method(s) would you generate random numbers according to f (x)?\n",
    "\n",
    "As the function f(x) is not invertable we cannot use the Inverse Transform method. Instead I will use the acceptance-rejection method for generation radom numbers according to f(x).\n"
   ]
  },
  {
   "attachments": {},
   "cell_type": "markdown",
   "metadata": {},
   "source": [
    "#### 3.1.2) Determine (possibly numerically) the value of C for f (x) to be normalised.\n"
   ]
  },
  {
   "cell_type": "code",
   "execution_count": 24,
   "metadata": {},
   "outputs": [
    {
     "data": {
      "text/plain": [
       "[<matplotlib.lines.Line2D at 0x142fa67e0a0>]"
      ]
     },
     "execution_count": 24,
     "metadata": {},
     "output_type": "execute_result"
    },
    {
     "data": {
      "image/png": "[encoded data removed]",
      "text/plain": [
       "<Figure size 400x240 with 1 Axes>"
      ]
     },
     "metadata": {},
     "output_type": "display_data"
    }
   ],
   "source": [
    "xmin, xmax = 0, 1\n",
    "\n",
    "def f(x,a,C):\n",
    "    return x**a*np.sin(np.pi*x) * C\n",
    "\n",
    "xAxis = np.linspace(xmin,xmax,100)\n",
    "fig,ax = plt.subplots(1,1,figsize=(5,3))\n",
    "ax.plot(xAxis,f(xAxis,a=3,C=1))"
   ]
  },
  {
   "cell_type": "code",
   "execution_count": 282,
   "metadata": {},
   "outputs": [
    {
     "name": "stdout",
     "output_type": "stream",
     "text": [
      "Number of tries:  55992\n"
     ]
    }
   ],
   "source": [
    "#Choosing range of y values between 0 and 0.35 according to the plot\n",
    "r = np.random\n",
    "r.seed(1234)\n",
    "\n",
    "ymin, ymax = 0, 0.35\n",
    "\n",
    "N_try = 0\n",
    "N_accepted = 20000\n",
    "x_accepted = []\n",
    "\n",
    "while len(x_accepted) < N_accepted:\n",
    "    x = r.uniform(xmin,xmax)\n",
    "    y = r.uniform(ymin,ymax)\n",
    "    if y < f(x,a=3,C=1):\n",
    "        x_accepted.append(x)\n",
    "    N_try += 1\n",
    "\n",
    "print('Number of tries: ',N_try)\n"
   ]
  },
  {
   "cell_type": "code",
   "execution_count": 283,
   "metadata": {},
   "outputs": [
    {
     "name": "stdout",
     "output_type": "stream",
     "text": [
      "Efficiency = 0.357 +/- 0.002\n",
      "Integral = 0.1250 +/- 0.0007\n",
      "Normalization = 7.999 +/- 0.045\n"
     ]
    }
   ],
   "source": [
    "# Efficiency\n",
    "eff = N_accepted / N_try \n",
    "eff_error = np.sqrt(eff * (1-eff) / N_try)        # binomial error\n",
    "\n",
    "# Integral\n",
    "integral =  eff * (xmax-xmin) * (ymax-ymin)\n",
    "eintegral = eff_error * (xmax-xmin) * (ymax-ymin)  \n",
    "\n",
    "# Normalization is then \n",
    "norm = 1 / integral\n",
    "enorm = eintegral / integral**2\n",
    "\n",
    "print(r'Efficiency = {:.3f} +/- {:.3f}'.format(eff,eff_error))\n",
    "print(r'Integral = {:.4f} +/- {:.4f}'.format(integral,eintegral))\n",
    "print(r'Normalization = {:.3f} +/- {:.3f}'.format(norm,enorm))"
   ]
  },
  {
   "cell_type": "code",
   "execution_count": 284,
   "metadata": {},
   "outputs": [
    {
     "data": {
      "image/png": "[encoded data removed]",
      "text/plain": [
       "<Figure size 640x480 with 1 Axes>"
      ]
     },
     "metadata": {},
     "output_type": "display_data"
    }
   ],
   "source": [
    "Nbins= 100\n",
    "binwidth  = (xmax-xmin)/Nbins\n",
    "\n",
    "xAxis = np.linspace(xmin,xmax,100)\n",
    "y = f(xAxis,a=3,C=1) * norm  * N_accepted * binwidth\n",
    "\n",
    "\n",
    "#plot the histogram of the generated numbers with the function f(x)\n",
    "\n",
    "fig,ax = plt.subplots(1,1,figsize=(8,6))\n",
    "ax.plot(xAxis,y,c='C2',lw=3)\n",
    "ax.hist(x_accepted,bins=int(Nbins),range=(xmin,xmax))\n",
    "\n",
    "\n",
    "# Define the figure text\n",
    "d2 = {'N_try': N_try,\n",
    "      'N_accepted': N_accepted,\n",
    "      'Normalization C': norm,\n",
    "      'Mean': np.mean(x_accepted),\n",
    "      'Std': np.std(x_accepted,ddof=1),\n",
    "    }\n",
    "\n",
    "# Add figure text\n",
    "text2 = nice_string_output(d2, extra_spacing=2, decimals=3)\n",
    "add_text_to_ax(0.02, 0.85, text2, ax, fontsize=14)"
   ]
  },
  {
   "attachments": {},
   "cell_type": "markdown",
   "metadata": {},
   "source": [
    "#### 3.1.3) Fit a histogram with values from f (x) and determine how many measurements (i.e. values of x) you need in an experiment to determine the value of a with 1% precision."
   ]
  },
  {
   "cell_type": "code",
   "execution_count": 285,
   "metadata": {},
   "outputs": [],
   "source": [
    "# test how big N should be to determine a with 1% precision\n",
    "\n",
    "N_test = np.arange(100, N_accepted, 100, dtype=int)\n",
    "a_values = []\n",
    "a_errors = []\n",
    "precisions = []\n",
    "precision_errors = []\n",
    "\n",
    "for i in N_test:\n",
    "    counts, bin_edges = np.histogram(x_accepted[:i], bins=Nbins, range=(xmin,xmax), density=False)\n",
    "    bin_centers = (bin_edges[:-1] + bin_edges[1:]) / 2\n",
    "\n",
    "    #remove empty bins \n",
    "    mask = counts > 0\n",
    "    counts = counts[mask]\n",
    "    bin_centers = bin_centers[mask]\n",
    "    counts_errors = np.sqrt(counts)\n",
    "\n",
    "    #fit the function\n",
    "    chi2 = Chi2Regression(f, bin_centers, counts, counts_errors)\n",
    "    minuit = Minuit(chi2, a=0, C=0)\n",
    "    minuit.migrad()\n",
    "    a, C = minuit.values\n",
    "    a_err, C_err = minuit.errors\n",
    "\n",
    "    precision = a_err / a\n",
    "    precision_err = a_err**2 / a**2\n",
    "    \n",
    "    a_values.append(a)\n",
    "    a_errors.append(a_err)\n",
    "    precisions.append(precision)\n",
    "    precision_errors.append(precision_err)\n",
    "\n"
   ]
  },
  {
   "cell_type": "code",
   "execution_count": 286,
   "metadata": {},
   "outputs": [
    {
     "data": {
      "text/html": [
       "<table>\n",
       "    <tr>\n",
       "        <th colspan=\"5\" style=\"text-align:center\" title=\"Minimizer\"> Migrad </th>\n",
       "    </tr>\n",
       "    <tr>\n",
       "        <td colspan=\"2\" style=\"text-align:left\" title=\"Minimum value of function\"> FCN = 165.5 </td>\n",
       "        <td colspan=\"3\" style=\"text-align:center\" title=\"Total number of function and (optional) gradient evaluations\"> Nfcn = 82 </td>\n",
       "    </tr>\n",
       "    <tr>\n",
       "        <td colspan=\"2\" style=\"text-align:left\" title=\"Estimated distance to minimum and goal\"> EDM = 6.92e-05 (Goal: 0.0002) </td>\n",
       "        <td colspan=\"3\" style=\"text-align:center\" title=\"Total run time of algorithms\">  </td>\n",
       "    </tr>\n",
       "    <tr>\n",
       "        <td colspan=\"2\" style=\"text-align:center;background-color:#92CCA6;color:black\"> Valid Minimum </td>\n",
       "        <td colspan=\"3\" style=\"text-align:center;background-color:#92CCA6;color:black\"> No Parameters at limit </td>\n",
       "    </tr>\n",
       "    <tr>\n",
       "        <td colspan=\"2\" style=\"text-align:center;background-color:#92CCA6;color:black\"> Below EDM threshold (goal x 10) </td>\n",
       "        <td colspan=\"3\" style=\"text-align:center;background-color:#92CCA6;color:black\"> Below call limit </td>\n",
       "    </tr>\n",
       "    <tr>\n",
       "        <td style=\"text-align:center;background-color:#92CCA6;color:black\"> Covariance </td>\n",
       "        <td style=\"text-align:center;background-color:#92CCA6;color:black\"> Hesse ok </td>\n",
       "        <td style=\"text-align:center;background-color:#92CCA6;color:black\" title=\"Is covariance matrix accurate?\"> Accurate </td>\n",
       "        <td style=\"text-align:center;background-color:#92CCA6;color:black\" title=\"Is covariance matrix positive definite?\"> Pos. def. </td>\n",
       "        <td style=\"text-align:center;background-color:#92CCA6;color:black\" title=\"Was positive definiteness enforced by Minuit?\"> Not forced </td>\n",
       "    </tr>\n",
       "</table><table>\n",
       "    <tr>\n",
       "        <td></td>\n",
       "        <th title=\"Variable name\"> Name </th>\n",
       "        <th title=\"Value of parameter\"> Value </th>\n",
       "        <th title=\"Hesse error\"> Hesse Error </th>\n",
       "        <th title=\"Minos lower error\"> Minos Error- </th>\n",
       "        <th title=\"Minos upper error\"> Minos Error+ </th>\n",
       "        <th title=\"Lower limit of the parameter\"> Limit- </th>\n",
       "        <th title=\"Upper limit of the parameter\"> Limit+ </th>\n",
       "        <th title=\"Is the parameter fixed in the fit\"> Fixed </th>\n",
       "    </tr>\n",
       "    <tr>\n",
       "        <th> 0 </th>\n",
       "        <td> p1 </td>\n",
       "        <td> 1.311 </td>\n",
       "        <td> 0.023 </td>\n",
       "        <td>  </td>\n",
       "        <td>  </td>\n",
       "        <td>  </td>\n",
       "        <td>  </td>\n",
       "        <td>  </td>\n",
       "    </tr>\n",
       "    <tr>\n",
       "        <th> 1 </th>\n",
       "        <td> p2 </td>\n",
       "        <td> -0.5049 </td>\n",
       "        <td> 0.0018 </td>\n",
       "        <td>  </td>\n",
       "        <td>  </td>\n",
       "        <td>  </td>\n",
       "        <td>  </td>\n",
       "        <td>  </td>\n",
       "    </tr>\n",
       "</table><table>\n",
       "    <tr>\n",
       "        <td></td>\n",
       "        <th> p1 </th>\n",
       "        <th> p2 </th>\n",
       "    </tr>\n",
       "    <tr>\n",
       "        <th> p1 </th>\n",
       "        <td> 0.000523 </td>\n",
       "        <td style=\"background-color:rgb(120,120,250);color:black\"> -4.23e-05 <strong>(-0.999)</strong> </td>\n",
       "    </tr>\n",
       "    <tr>\n",
       "        <th> p2 </th>\n",
       "        <td style=\"background-color:rgb(120,120,250);color:black\"> -4.23e-05 <strong>(-0.999)</strong> </td>\n",
       "        <td> 3.43e-06 </td>\n",
       "    </tr>\n",
       "</table>"
      ],
      "text/plain": [
       "┌─────────────────────────────────────────────────────────────────────────┐\n",
       "│                                Migrad                                   │\n",
       "├──────────────────────────────────┬──────────────────────────────────────┤\n",
       "│ FCN = 165.5                      │              Nfcn = 82               │\n",
       "│ EDM = 6.92e-05 (Goal: 0.0002)    │                                      │\n",
       "├──────────────────────────────────┼──────────────────────────────────────┤\n",
       "│          Valid Minimum           │        No Parameters at limit        │\n",
       "├──────────────────────────────────┼──────────────────────────────────────┤\n",
       "│ Below EDM threshold (goal x 10)  │           Below call limit           │\n",
       "├───────────────┬──────────────────┼───────────┬─────────────┬────────────┤\n",
       "│  Covariance   │     Hesse ok     │ Accurate  │  Pos. def.  │ Not forced │\n",
       "└───────────────┴──────────────────┴───────────┴─────────────┴────────────┘\n",
       "┌───┬──────┬───────────┬───────────┬────────────┬────────────┬─────────┬─────────┬───────┐\n",
       "│   │ Name │   Value   │ Hesse Err │ Minos Err- │ Minos Err+ │ Limit-  │ Limit+  │ Fixed │\n",
       "├───┼──────┼───────────┼───────────┼────────────┼────────────┼─────────┼─────────┼───────┤\n",
       "│ 0 │ p1   │   1.311   │   0.023   │            │            │         │         │       │\n",
       "│ 1 │ p2   │  -0.5049  │  0.0018   │            │            │         │         │       │\n",
       "└───┴──────┴───────────┴───────────┴────────────┴────────────┴─────────┴─────────┴───────┘\n",
       "┌────┬─────────────────────┐\n",
       "│    │        p1        p2 │\n",
       "├────┼─────────────────────┤\n",
       "│ p1 │  0.000523 -4.23e-05 │\n",
       "│ p2 │ -4.23e-05  3.43e-06 │\n",
       "└────┴─────────────────────┘"
      ]
     },
     "execution_count": 286,
     "metadata": {},
     "output_type": "execute_result"
    }
   ],
   "source": [
    "#fit the precision\n",
    "def precision_of_N(x,p1,p2):\n",
    "    return p1*x**p2\n",
    "\n",
    "chi2 = Chi2Regression(precision_of_N, N_test, precisions, precision_errors)\n",
    "minuit = Minuit(chi2, p1=1, p2=-0.5)\n",
    "minuit.migrad()\n",
    "p1, p2 = minuit.values\n",
    "p1_err, p2_err = minuit.errors\n",
    "minuit"
   ]
  },
  {
   "cell_type": "code",
   "execution_count": 287,
   "metadata": {},
   "outputs": [
    {
     "name": "stderr",
     "output_type": "stream",
     "text": [
      "C:\\Users\\simon\\AppData\\Local\\Temp\\ipykernel_14304\\151751878.py:3: RuntimeWarning: invalid value encountered in power\n",
      "  return p1*x**p2\n"
     ]
    },
    {
     "data": {
      "image/png": "[encoded data removed]",
      "text/plain": [
       "<Figure size 800x560 with 1 Axes>"
      ]
     },
     "metadata": {},
     "output_type": "display_data"
    }
   ],
   "source": [
    "#solve the equation for N to get the precision of 1%\n",
    "x , p1_par, p2_par = sp.symbols('x p1 p2')\n",
    "eq1 = sp.solve(p1_par * x**p2_par-0.01,x)\n",
    "eq1 = eq1[0]\n",
    "\n",
    "eq, func , func_err, contrib = Errorpropagation(str(eq1), 'p1 p2')\n",
    "\n",
    "N_final = func(p1,p2)\n",
    "N_final_err = func_err(p1,p2,p1_err,p2_err)\n",
    "\n",
    "\n",
    "\n",
    "xAxis = np.linspace(-200, N_accepted,1000)\n",
    "fig,ax = plt.subplots(1,1,figsize=(10,7))\n",
    "ax.plot(xAxis,precision_of_N(xAxis,p1,p2),c='C2',lw=2)\n",
    "ax.errorbar(N_test,precisions,yerr=precision_errors,ecolor='k',mec='k',mfc='gold',fmt='.',ms=8,capsize=3,capthick=1)\n",
    "ax.axhline(0.01,ls='--',c='k')\n",
    "ax.axvline(N_final,c='b',lw=3)\n",
    "ax.axvspan(N_final-N_final_err, N_final+N_final_err, alpha=0.2, color='b')\n",
    "ax.grid(), ax.set(xlim=(-200,N_accepted), ylim= (0,0.1),xlabel='N',ylabel='precision',title='precision of a as a function of N')\n",
    "ax.legend(['Fit','1%','N','N error'],fontsize=12)\n",
    "\n",
    "#calculate the p-value of the fit \n",
    "chi2 = minuit.fval\n",
    "ndf = len(N_test) - minuit.nfit\n",
    "p_value = stats.chi2.sf(chi2, ndf)\n",
    "\n",
    "\n",
    "# Define the figure text\n",
    "N_final = int(np.round(N_final,-2))\n",
    "N_final_err = int(np.round(N_final_err,-2))\n",
    "d2 = {'chi2:': chi2,\n",
    "    'ndf:': ndf,\n",
    "    'p-value:': p_value,\n",
    "    'N:': [N_final,N_final_err],\n",
    "\n",
    "    }\n",
    "\n",
    "# Add figure text\n",
    "text2 = nice_string_output(d2, extra_spacing=2, decimals=2)\n",
    "add_text_to_ax(0.1, 0.85, text2, ax, fontsize=14)"
   ]
  },
  {
   "attachments": {},
   "cell_type": "markdown",
   "metadata": {},
   "source": [
    "## IV – Statistical tests:\n"
   ]
  },
  {
   "attachments": {},
   "cell_type": "markdown",
   "metadata": {},
   "source": [
    "#### 4.1 (12 points) You measure the grip strength (G in Newton N ) in the dominant and non-dominanthands (based on writting) of 84 persons, to determine if there is a difference. The data is sum-marised in the file www.nbi.dk/∼petersen/data GripStrength.txt.\n"
   ]
  },
  {
   "cell_type": "code",
   "execution_count": 278,
   "metadata": {},
   "outputs": [
    {
     "data": {
      "text/html": [
       "<div>\n",
       "<style scoped>\n",
       "    .dataframe tbody tr th:only-of-type {\n",
       "        vertical-align: middle;\n",
       "    }\n",
       "\n",
       "    .dataframe tbody tr th {\n",
       "        vertical-align: top;\n",
       "    }\n",
       "\n",
       "    .dataframe thead th {\n",
       "        text-align: right;\n",
       "    }\n",
       "</style>\n",
       "<table border=\"1\" class=\"dataframe\">\n",
       "  <thead>\n",
       "    <tr style=\"text-align: right;\">\n",
       "      <th></th>\n",
       "      <th>DominantHand</th>\n",
       "      <th>DominantGrip(N)</th>\n",
       "      <th>NonDominantGrip(N)</th>\n",
       "    </tr>\n",
       "  </thead>\n",
       "  <tbody>\n",
       "    <tr>\n",
       "      <th>0</th>\n",
       "      <td>1.0</td>\n",
       "      <td>293.24</td>\n",
       "      <td>241.50</td>\n",
       "    </tr>\n",
       "    <tr>\n",
       "      <th>1</th>\n",
       "      <td>1.0</td>\n",
       "      <td>547.39</td>\n",
       "      <td>552.01</td>\n",
       "    </tr>\n",
       "    <tr>\n",
       "      <th>2</th>\n",
       "      <td>0.0</td>\n",
       "      <td>578.85</td>\n",
       "      <td>495.98</td>\n",
       "    </tr>\n",
       "    <tr>\n",
       "      <th>3</th>\n",
       "      <td>1.0</td>\n",
       "      <td>342.30</td>\n",
       "      <td>342.18</td>\n",
       "    </tr>\n",
       "    <tr>\n",
       "      <th>4</th>\n",
       "      <td>1.0</td>\n",
       "      <td>337.79</td>\n",
       "      <td>347.14</td>\n",
       "    </tr>\n",
       "    <tr>\n",
       "      <th>...</th>\n",
       "      <td>...</td>\n",
       "      <td>...</td>\n",
       "      <td>...</td>\n",
       "    </tr>\n",
       "    <tr>\n",
       "      <th>79</th>\n",
       "      <td>1.0</td>\n",
       "      <td>335.67</td>\n",
       "      <td>305.39</td>\n",
       "    </tr>\n",
       "    <tr>\n",
       "      <th>80</th>\n",
       "      <td>1.0</td>\n",
       "      <td>362.91</td>\n",
       "      <td>336.60</td>\n",
       "    </tr>\n",
       "    <tr>\n",
       "      <th>81</th>\n",
       "      <td>1.0</td>\n",
       "      <td>659.39</td>\n",
       "      <td>623.32</td>\n",
       "    </tr>\n",
       "    <tr>\n",
       "      <th>82</th>\n",
       "      <td>1.0</td>\n",
       "      <td>292.84</td>\n",
       "      <td>254.46</td>\n",
       "    </tr>\n",
       "    <tr>\n",
       "      <th>83</th>\n",
       "      <td>1.0</td>\n",
       "      <td>550.36</td>\n",
       "      <td>517.24</td>\n",
       "    </tr>\n",
       "  </tbody>\n",
       "</table>\n",
       "<p>84 rows × 3 columns</p>\n",
       "</div>"
      ],
      "text/plain": [
       "    DominantHand   DominantGrip(N)   NonDominantGrip(N)\n",
       "0            1.0            293.24               241.50\n",
       "1            1.0            547.39               552.01\n",
       "2            0.0            578.85               495.98\n",
       "3            1.0            342.30               342.18\n",
       "4            1.0            337.79               347.14\n",
       "..           ...               ...                  ...\n",
       "79           1.0            335.67               305.39\n",
       "80           1.0            362.91               336.60\n",
       "81           1.0            659.39               623.32\n",
       "82           1.0            292.84               254.46\n",
       "83           1.0            550.36               517.24\n",
       "\n",
       "[84 rows x 3 columns]"
      ]
     },
     "execution_count": 278,
     "metadata": {},
     "output_type": "execute_result"
    }
   ],
   "source": [
    "dataframe = pd.read_csv('data_GripStrength.csv', header=0, index_col=None)\n",
    "domhand, dom_grip, ndom_grip = dataframe.values.T\n",
    "dataframe"
   ]
  },
  {
   "attachments": {},
   "cell_type": "markdown",
   "metadata": {},
   "source": [
    "##### 4.1.1) From this sample, What fraction of persons are right (dominant hand = 1) handed?"
   ]
  },
  {
   "cell_type": "code",
   "execution_count": 296,
   "metadata": {},
   "outputs": [
    {
     "name": "stdout",
     "output_type": "stream",
     "text": [
      "Fraction of right handed people: 0.81 +- 0.04\n",
      "Fraction of left handed people: 0.19 +- 0.04\n"
     ]
    }
   ],
   "source": [
    "frac_right_handed = np.sum(domhand)/len(domhand)\n",
    "frac_right_handed_err = np.sqrt(frac_right_handed*(1-frac_right_handed)/len(domhand))       # binomial error \n",
    "\n",
    "frac_left_handed = 1-frac_right_handed\n",
    "frac_left_handed_err = np.sqrt(frac_left_handed*(1-frac_left_handed)/len(domhand))          \n",
    "\n",
    "print('Fraction of right handed people: {:.2f} +- {:.2f}'.format(frac_right_handed,frac_right_handed_err))\n",
    "print('Fraction of left handed people: {:.2f} +- {:.2f}'.format(frac_left_handed,frac_left_handed_err))"
   ]
  },
  {
   "attachments": {},
   "cell_type": "markdown",
   "metadata": {},
   "source": [
    "##### 4.1.2) What is the mean and standard deviation of the dominant and non-dominant grip strengths?"
   ]
  },
  {
   "cell_type": "code",
   "execution_count": 294,
   "metadata": {},
   "outputs": [
    {
     "name": "stdout",
     "output_type": "stream",
     "text": [
      "Mean grip strength of dominant hand: 444.93 +- 15.82\n",
      "Mean grip strength of non-dominant hand: 418.48 +- 15.08\n"
     ]
    }
   ],
   "source": [
    "dom_grip_mean = np.mean(dom_grip)\n",
    "dom_grip_meanstd = np.std(dom_grip,ddof=1)/np.sqrt(len(dom_grip))\n",
    "ndom_grip_mean = np.mean(ndom_grip)\n",
    "ndom_grip_meanstd = np.std(ndom_grip,ddof=1)/np.sqrt(len(ndom_grip))\n",
    "\n",
    "print('Mean grip strength of dominant hand: {:.2f} +- {:.2f}'.format(dom_grip_mean,dom_grip_meanstd))\n",
    "print('Mean grip strength of non-dominant hand: {:.2f} +- {:.2f}'.format(ndom_grip_mean,ndom_grip_meanstd))\n"
   ]
  },
  {
   "attachments": {},
   "cell_type": "markdown",
   "metadata": {},
   "source": [
    "##### 4.1.3) Are the means of the two distributions compatible or different?"
   ]
  },
  {
   "cell_type": "code",
   "execution_count": 299,
   "metadata": {},
   "outputs": [
    {
     "name": "stdout",
     "output_type": "stream",
     "text": [
      "t-statistic: 1.21\n",
      "p-value: 0.23\n"
     ]
    }
   ],
   "source": [
    "# the null hypothesis is that the distributions means are equal. It is rejected if p-value is smaller than 0.05 significance level\n",
    "\n",
    "# student t-test\n",
    "t, p = stats.ttest_ind(dom_grip, ndom_grip, equal_var=True)\n",
    "print('t-statistic: {:.2f}'.format(t))\n",
    "print('p-value: {:.2f}'.format(p))\n",
    "\n",
    "# the null hypothesis cannot be rejected at 95% confidence level\n"
   ]
  },
  {
   "attachments": {},
   "cell_type": "markdown",
   "metadata": {},
   "source": [
    "##### 4.1.4) What is the mean and standard deviation of the individual differences in grip strengths?"
   ]
  },
  {
   "cell_type": "code",
   "execution_count": 306,
   "metadata": {},
   "outputs": [
    {
     "name": "stdout",
     "output_type": "stream",
     "text": [
      "Mean difference in grip strength: 26.45 +- 3.19\n"
     ]
    },
    {
     "data": {
      "image/png": "[encoded data removed]",
      "text/plain": [
       "<Figure size 640x480 with 1 Axes>"
      ]
     },
     "metadata": {},
     "output_type": "display_data"
    }
   ],
   "source": [
    "diff_grip = dom_grip - ndom_grip\n",
    "diff_grip_mean = np.mean(diff_grip)\n",
    "diff_grip_meanstd = np.std(diff_grip,ddof=1)/np.sqrt(len(diff_grip))\n",
    "\n",
    "print('Mean difference in grip strength: {:.2f} +- {:.2f}'.format(diff_grip_mean,diff_grip_meanstd))\n",
    "\n",
    "Nbins = 15\n",
    "plt.hist(diff_grip,bins=Nbins, range=(min(diff_grip),max(diff_grip)));"
   ]
  },
  {
   "attachments": {},
   "cell_type": "markdown",
   "metadata": {},
   "source": [
    "##### 4.1.5) Is there a statistically significant difference in grip strengths between hands?"
   ]
  },
  {
   "cell_type": "code",
   "execution_count": 308,
   "metadata": {},
   "outputs": [],
   "source": [
    " #Is there a statistically significant difference in grip strengths between hands?\n",
    "\n",
    "# the null hypothesis is that the dominant hand has a higher grip strength than the non-dominant hand. \n",
    "\n"
   ]
  },
  {
   "cell_type": "code",
   "execution_count": null,
   "metadata": {},
   "outputs": [],
   "source": []
  }
 ],
 "metadata": {
  "kernelspec": {
   "display_name": "base",
   "language": "python",
   "name": "python3"
  },
  "language_info": {
   "codemirror_mode": {
    "name": "ipython",
    "version": 3
   },
   "file_extension": ".py",
   "mimetype": "text/x-python",
   "name": "python",
   "nbconvert_exporter": "python",
   "pygments_lexer": "ipython3",
   "version": "3.9.12"
  },
  "orig_nbformat": 4,
  "vscode": {
   "interpreter": {
    "hash": "d12e26f72a40d5c48233c54861fca038d6a92135fc0e5e920944e69c69b6b29d"
   }
  }
 },
 "nbformat": 4,
 "nbformat_minor": 2
}
