{
 "cells": [
  {
   "cell_type": "markdown",
   "metadata": {},
   "source": [
    "# Random Digits Exercice\n",
    "\n",
    "### Description:\n",
    "This is an exercise in hypothesis testing, specifically determining if a series of digits [0,9] is random or not, and if the origin is human (i.e. yourself!). In order to determine this, one has to design and apply statistical tests, from which the degree of consistency of being random can be calculated.\n",
    "\n",
    "### Your task:\n",
    "Using tests of your choice/design, determine which of the seven data sets are consistent with being random, and which aren't. One is based on the digits you entered in the course questionaire, while the others range from obviously non-random over poor/quasi random to truly random. See if you among these can determine your (human) dataset.\n",
    "\n",
    "###  Author: \n",
    " - Troels Petersen ([petersen@nbi.dk](mailto:petersen@nbi.dk))\n",
    "\n",
    "###  Date:\n",
    " - 7th of December 2022\n",
    "\n",
    "---"
   ]
  },
  {
   "cell_type": "code",
   "execution_count": 193,
   "metadata": {},
   "outputs": [],
   "source": [
    "import numpy as np\n",
    "import matplotlib as mpl\n",
    "import matplotlib.pyplot as plt\n",
    "from iminuit import Minuit\n",
    "from scipy import stats\n",
    "import os, sys                                         # Modules to see files and folders in directories\n",
    "from os.path import dirname as parent_folder"
   ]
  },
  {
   "cell_type": "code",
   "execution_count": 194,
   "metadata": {},
   "outputs": [],
   "source": [
    "sys.path.append('../../External_Functions')\n",
    "from ExternalFunctions import Chi2Regression, BinnedLH, UnbinnedLH\n",
    "from ExternalFunctions import nice_string_output, add_text_to_ax    # Useful functions to print fit results on figure"
   ]
  },
  {
   "cell_type": "code",
   "execution_count": 195,
   "metadata": {
    "lines_to_next_cell": 2
   },
   "outputs": [],
   "source": [
    "# Set som plotting standards:\n",
    "font = {'family' : 'serif',\n",
    "        'weight' : 'normal',\n",
    "        'size'   : 12}\n",
    "mpl.rc('font', **font)"
   ]
  },
  {
   "cell_type": "markdown",
   "metadata": {},
   "source": [
    "---\n",
    "## Import random numbers from text file:"
   ]
  },
  {
   "cell_type": "code",
   "execution_count": 253,
   "metadata": {},
   "outputs": [],
   "source": [
    "# Define list of input files:\n",
    "dataset_letter='A' # between A and G\n",
    "infiles = [\"data_RandomDigits2022_\" + dataset_letter + \".txt\" ]"
   ]
  },
  {
   "cell_type": "code",
   "execution_count": 254,
   "metadata": {},
   "outputs": [],
   "source": [
    "# List containing all numbers:\n",
    "numbers = []\n",
    "\n",
    "# Loop over input files open them in read mode\n",
    "for ifile in infiles : \n",
    "    with open( ifile, \"r\" ) as current_file : \n",
    "        # Extract current file info : Loop through each line in the file, loop through each character\n",
    "        # in the line, demand character is not empty (\"\") and convert the result to an integer\n",
    "        # Finally add result to the numbers list\n",
    "        numbers += [int(char) for line in current_file for char in line.strip() if char != \"\"]"
   ]
  },
  {
   "cell_type": "code",
   "execution_count": 260,
   "metadata": {
    "lines_to_next_cell": 2
   },
   "outputs": [
    {
     "name": "stdout",
     "output_type": "stream",
     "text": [
      "#: 5000\n",
      "[3 8 5 0 1 2 2 1 4 8 3 4 2 2 6 8 2 7 7 0 5 5 6 3 2 0 1 7 9 6 5 5 4 2 8 8 6\n",
      " 2 1 9 1 7 8 0 2 3 8 7 5 3 7 8 0 7 3 4 2 5 2 2 9 6 2 7 9 5 3 8 9 1 6 2 7 5\n",
      " 7 5 1 9 7 3 7 9 8 2 9 1 4 4 7 9 7 0 8 8 9 8 6 0 6 4 9 2 5 1 3 2 7 3 7 1 8\n",
      " 4 9 0 5 2 5 8 2 8 9 0 9 7 2 2 0 8 6 6 7 5 8 5 8 0 5 1 8 6 1 1 3 5 7 0 3 4\n",
      " 4 4 2 9 4 2 8 6 7 9 1 1 5 2 8 5 7 7 6 0 3 4 0 3 6 9 7 1 1 5 5 3 2 3 4 9 2\n",
      " 3 0 4 6 1 1 5 5 5 7 6 0 3 1 1]\n"
     ]
    }
   ],
   "source": [
    "# Always take a look at the data:\n",
    "\n",
    "numbers = np.array(numbers)\n",
    "#generate 5000 random numbers\n",
    "numbers = np.random.randint(0, 10, 5000)\n",
    "\n",
    "print(\"#:\", len(numbers))\n",
    "print(numbers[:200])"
   ]
  },
  {
   "cell_type": "markdown",
   "metadata": {},
   "source": [
    "---\n",
    "## Define your tests:\n",
    "\n",
    "Here is an example plot from the data, just for convenience. It is all up to you from here..."
   ]
  },
  {
   "cell_type": "code",
   "execution_count": 261,
   "metadata": {},
   "outputs": [],
   "source": [
    "def is_uniform(data):\n",
    "    # Find the number of bins that we need\n",
    "    # For a uniform distribution, we expect each bin to contain approximately the same number of data points\n",
    "    \n",
    "\n",
    "    # Calculate the minimum and range of the data\n",
    "    data_min = np.min(data)\n",
    "    data_max = np.max(data)\n",
    "    data_range = data_max - data_min\n",
    "\n",
    "    num_bins = int(data_range)\n",
    "\n",
    "    # Create the bins using numpy.histogram\n",
    "    bins, _ = np.histogram(data, range = (data_min, data_max), bins=num_bins)\n",
    "    print(bins)\n",
    "    # Calculate the expected number of data points per bin for a uniform distribution\n",
    "    expected_bin_size = len(data) / num_bins\n",
    "    print(expected_bin_size)\n",
    "\n",
    "    # Calculate percentage of data points in each bin compared to the expected value\n",
    "    percentage = bins.all() / expected_bin_size\n",
    "    print(bins.all())\n",
    "\n",
    "    # Check if the actual number of data points in each bin is within a certain tolerance of the expected value\n",
    "    tolerance = 0.5  # You can adjust this tolerance as needed\n",
    "    if np.isclose(bins, expected_bin_size, rtol=tolerance).all():\n",
    "        return True, 'within tolerance:', tolerance, 'percentage:', percentage\n",
    "    else:\n",
    "        return False, 'within tolerance:', tolerance, 'percentage:', percentage\n"
   ]
  },
  {
   "cell_type": "code",
   "execution_count": 262,
   "metadata": {},
   "outputs": [
    {
     "name": "stdout",
     "output_type": "stream",
     "text": [
      "[488 460 516 505 505 511 534 505 976]\n",
      "555.5555555555555\n",
      "True\n"
     ]
    },
    {
     "data": {
      "text/plain": [
       "(False, 'within tolerance:', 0.5, 'percentage:', 0.0018)"
      ]
     },
     "execution_count": 262,
     "metadata": {},
     "output_type": "execute_result"
    }
   ],
   "source": [
    "is_uniform(numbers)"
   ]
  },
  {
   "cell_type": "code",
   "execution_count": 263,
   "metadata": {},
   "outputs": [
    {
     "name": "stdout",
     "output_type": "stream",
     "text": [
      "mean: 4.529 std: 2.848\n",
      "[3 8 5 0 1 2 2 1 4 8 3 4 2 2 6 8 2 7 7 0 5 5 6 3 2 0 1 7 9 6 5 5 4 2 8 8 6\n",
      " 2 1 9 1 7 8 0 2 3 8 7 5 3]\n",
      "dist: [ 5 -3 -5  1  1  0 -1  3  4 -5  1 -2  0  4  2 -6  5  0 -7  5  0  1 -3 -1\n",
      " -2  1  6  2 -3 -1  0 -1 -2  6  0 -2 -4 -1  8 -8  6  1 -8  2  1  5 -1 -2\n",
      " -2  4]\n",
      "rep_dist: [10, 8, 18, 16, 3, 1, 6, 19, 3, 6, 13, 21, 1, 3, 8, 19, 8, 1, 9, 6, 1, 9, 7, 22, 9, 18, 12, 14, 11, 7, 1, 17, 23, 4, 1, 7, 25, 7, 2, 21, 29, 6, 4, 9, 12, 4, 5, 3, 9, 5]\n",
      "run_test: [ 1. -1. -1.  1.  1.  0. -1.  1.  1. -1.  1. -1.  0.  1.  1. -1.  1.  0.\n",
      " -1.  1.  0.  1. -1. -1. -1.  1.  1.  1. -1. -1.  0. -1. -1.  1.  0. -1.\n",
      " -1. -1.  1. -1.  1.  1. -1.  1.  1.  1. -1. -1. -1.  1.]\n",
      "x_in_row: [442.  36.   4.   0.   0.   0.   0.   0.   0.   0.]\n"
     ]
    }
   ],
   "source": [
    "# mean and standard deviation of the data:\n",
    "mean = np.mean(numbers)\n",
    "std = np.std(numbers)\n",
    "print(\"mean:\", mean.round(3), \"std:\", std.round(3))\n",
    "\n",
    "print(numbers[:50])\n",
    "\n",
    "#distance between i and i+1\n",
    "dist = np.diff(numbers)\n",
    "print(\"dist:\", dist[:50])\n",
    "\n",
    "\n",
    "rep_dist = []\n",
    "run_test = np.zeros(len(numbers))\n",
    "x_in_row = np.zeros(10)\n",
    "for i in range(len(numbers)):\n",
    "\n",
    "    #calculate the number of digits between repetitions\n",
    "    for j in range(i+1, len(numbers)):\n",
    "        if numbers[i] == numbers[j] and i != j:\n",
    "            rep_dist.append(j-i)\n",
    "            break\n",
    "\n",
    "    #calculate a runs test\n",
    "    if i == len(numbers)-1: break\n",
    "    if numbers[i] < numbers[i+1]:\n",
    "        run_test[i] = 1\n",
    "    elif numbers[i] == numbers[i+1]:\n",
    "        run_test[i] = 0\n",
    "    else:\n",
    "        run_test[i] = -1\n",
    "\n",
    "    #Calculate the number of 2 and 3 repetitions\n",
    "    if numbers[i] == numbers[i+1] == numbers[i+2] == numbers[i+3] == numbers[i+4] == numbers[i+5] == numbers[i+6] == numbers[i+7] == numbers[i+8] == numbers[i+9]:\n",
    "        x_in_row[8] += 1\n",
    "    elif numbers[i] == numbers[i+1] == numbers[i+2] == numbers[i+3] == numbers[i+4] == numbers[i+5] == numbers[i+6] == numbers[i+7] == numbers[i+8]:\n",
    "        x_in_row[7] += 1\n",
    "    elif numbers[i] == numbers[i+1] == numbers[i+2] == numbers[i+3] == numbers[i+4] == numbers[i+5] == numbers[i+6] == numbers[i+7]:\n",
    "        x_in_row[6] += 1\n",
    "    elif numbers[i] == numbers[i+1] == numbers[i+2] == numbers[i+3] == numbers[i+4] == numbers[i+5] == numbers[i+6]:\n",
    "        x_in_row[5] += 1\n",
    "    elif numbers[i] == numbers[i+1] == numbers[i+2] == numbers[i+3] == numbers[i+4] == numbers[i+5]:\n",
    "        x_in_row[4] += 1\n",
    "    elif numbers[i] == numbers[i+1] == numbers[i+2] == numbers[i+3] == numbers[i+4]:\n",
    "        x_in_row[3] += 1\n",
    "    elif numbers[i] == numbers[i+1] == numbers[i+2] == numbers[i+3]:\n",
    "        x_in_row[2] += 1\n",
    "    elif numbers[i] == numbers[i+1] == numbers[i+2]:\n",
    "        x_in_row[1] += 1\n",
    "    elif numbers[i] == numbers[i+1]:\n",
    "        x_in_row[0] += 1\n",
    "\n",
    "   \n",
    "\n",
    "\n",
    "        \n",
    "    \n",
    "print(\"rep_dist:\", rep_dist[:50])\n",
    "print(\"run_test:\", run_test[:50])\n",
    "print(\"x_in_row:\", x_in_row)\n",
    "\n",
    "\n",
    "\n",
    "\n",
    "\n",
    "\n",
    "\n",
    "\n"
   ]
  },
  {
   "cell_type": "code",
   "execution_count": 264,
   "metadata": {},
   "outputs": [
    {
     "data": {
      "image/png": "[encoded data removed]",
      "text/plain": [
       "<Figure size 1080x576 with 6 Axes>"
      ]
     },
     "metadata": {
      "needs_background": "light"
     },
     "output_type": "display_data"
    }
   ],
   "source": [
    "fig, ax = plt.subplots(nrows=2, ncols=3, figsize=(15, 8))\n",
    "\n",
    "\n",
    "ax[0,0].hist(numbers, bins=10, range=(-0.5, 9.5), histtype='bar', facecolor = 'gold',ec='k',density=False, lw=2)\n",
    "ax[0,0].set(xlabel=\"Numbers\", ylabel=\"Frequency\", title=\"Raw data\")\n",
    "\n",
    "ax[0,1].hist(numbers%2, bins=2, range=(-0.5, 1.5), histtype='bar', facecolor = 'gold',ec='k',density=False, lw=2)         \n",
    "ax[0,1].set(xlabel=\"Even (0) or Odd (1)\", ylabel=\"Frequency\", title=\"Even and odd digit test\")\n",
    "\n",
    "ax[0,2].hist(dist, bins=19, range=(-9.5, 9.5), histtype='bar', facecolor = 'gold',ec='k', density=False, lw=2)\n",
    "ax[0,2].set(xlabel=\"Distance between two digits\", ylabel=\"Frequency\", title=\"Distance between two digits\")\n",
    "\n",
    "ax[1,0].hist(rep_dist, bins=10, range=(0, 20), histtype='bar', facecolor = 'gold', ec='k',density=False, lw=2)\n",
    "ax[1,0].set(xlabel=\"Distance between two repetitions\", ylabel=\"Frequency\", title=\"Distance between two repetitions\")\n",
    "\n",
    "ax[1,1].hist(run_test, bins=3, range=(-1.5, 1.5), histtype='bar', facecolor = 'gold',ec='k',density=False, lw=2)\n",
    "ax[1,1].set(xlabel=\"Run test\", ylabel=\"Frequency\", title=\"Test if [i+1] greater than [i]\", xticks=([-1,0,1]),xticklabels=['[i]<[i+1]','[i]=[i+1]','[i]>[i+1]'])\n",
    "\n",
    "ax[1,2].hist(x_in_row, bins=7, range=(-0.5, 6.5), histtype='bar', facecolor = 'gold',ec='k',density=False, lw=2)\n",
    "ax[1,2].set(xlabel=\"Number of repetitions\", ylabel=\"Frequency\", title=\"Number of x_in_a_row sequences\",xticks=([0,1,2,3,4,5,6]),xticklabels=['2','3','4','5','6','7','8'])\n",
    "\n",
    "\n",
    "\n",
    "\n",
    "\n",
    "\n",
    "\n",
    "fig.tight_layout()"
   ]
  },
  {
   "cell_type": "markdown",
   "metadata": {},
   "source": [
    "### Comments on even/odd histogram:\n",
    "\n",
    "What would you expect this distribution to be? Think about it, and then ask, if the distribution observed in data truly follows your expectation. Afterwards, think about the many other tests, that you can perform."
   ]
  },
  {
   "cell_type": "markdown",
   "metadata": {},
   "source": [
    "### Note on general goal of hypothesis tests:\n",
    "Given the outcome of some test, you should try to convert it to a probability or number of sigmas (same thing). Thus determine what you expect, and then see what you observe and what uncertainty your observation has... and determine if this is consistent with the (null) hypothesis, that the data is truly random digits."
   ]
  },
  {
   "cell_type": "markdown",
   "metadata": {},
   "source": [
    "Questions:\n",
    "---\n",
    " 1. Discuss with your peers, what criteria truly random numbers should satisfy, and how these criteria can be tested.\n",
    "    Based on this and on the discussion in class, write up such tests, and run all the datasets through your tests to\n",
    "    see if some do not seem to be truly random.\n",
    "\n",
    " 2. While one dataset is truly random, another consists of decimals from $\\pi$. Apart from your own data, the other\n",
    "    data sets are the result of using random numbers, but applying shifting, copying, and using biased selections.\n",
    "    The non-human data sets are thus supposedly more regular (in some sense) than the humanly generated one. See if\n",
    "    you can determine which one is \"your\" (humanly generated) data."
   ]
  },
  {
   "cell_type": "markdown",
   "metadata": {},
   "source": [
    "# Learning points:\n",
    "\n",
    "This exercise should generally make you capable of:\n",
    "1. Designing (simple) hypothesis tests\n",
    "2. Coding them up\n",
    "3. Applying them to data\n",
    "4. Interpreting the results\n",
    "\n",
    "You should be highly aware, that a fully correct test may not \"discover\" anything, even if there is an effect. For example, testing if two samples are alike, and checking if the means are consistent is a test. And they may be consistent, even if the two samples are _very_ different.\n",
    "\n",
    "However, if just **one** test shows a significant deviation from a hypothesis, then this hypothesis fails."
   ]
  }
 ],
 "metadata": {
  "executable": "/usr/bin/env python",
  "kernelspec": {
   "display_name": "base",
   "language": "python",
   "name": "python3"
  },
  "language_info": {
   "codemirror_mode": {
    "name": "ipython",
    "version": 3
   },
   "file_extension": ".py",
   "mimetype": "text/x-python",
   "name": "python",
   "nbconvert_exporter": "python",
   "pygments_lexer": "ipython3",
   "version": "3.9.12"
  },
  "main_language": "python",
  "vscode": {
   "interpreter": {
    "hash": "d12e26f72a40d5c48233c54861fca038d6a92135fc0e5e920944e69c69b6b29d"
   }
  }
 },
 "nbformat": 4,
 "nbformat_minor": 2
}
