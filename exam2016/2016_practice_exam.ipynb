{
 "cells": [
  {
   "attachments": {},
   "cell_type": "markdown",
   "metadata": {},
   "source": [
    "App Stat 2016 exam:\n",
    "\n",
    "## Import functions"
   ]
  },
  {
   "cell_type": "code",
   "execution_count": 1,
   "metadata": {},
   "outputs": [],
   "source": [
    "import numpy as np                                     \n",
    "from numpy.linalg import matrix_power                  \n",
    "import matplotlib.pyplot as plt                                                        \n",
    "from iminuit import Minuit                            \n",
    "import sys                                            \n",
    "from scipy import stats\n",
    "from scipy.integrate import quad\n",
    "import sympy as sp\n",
    "from sympy import integrate , print_latex\n",
    "import pandas as pd\n",
    "from IPython.display import display\n",
    "\n",
    "plt.style.use('classic')\n",
    "\n",
    "sys.path.append('../External_Functions')\n",
    "from ExternalFunctions import UnbinnedLH, BinnedLH, Chi2Regression\n",
    "from ExternalFunctions import nice_string_output, add_text_to_ax   \n",
    "\n",
    "sys.path.append('../MyExternalFunctions')\n",
    "from MyExternalFunctions import Errorpropagation"
   ]
  },
  {
   "attachments": {},
   "cell_type": "markdown",
   "metadata": {},
   "source": [
    "## 1) \n"
   ]
  },
  {
   "attachments": {},
   "cell_type": "markdown",
   "metadata": {},
   "source": [
    "### 1.1) "
   ]
  },
  {
   "cell_type": "code",
   "execution_count": 13,
   "metadata": {},
   "outputs": [
    {
     "name": "stdout",
     "output_type": "stream",
     "text": [
      "Probability of winning game1: 0.52\n",
      "Probability of winning game2: 0.14\n"
     ]
    }
   ],
   "source": [
    "# Two games of dice, each giving the player equal odds are played. In the first game played \n",
    "# with one dice, the player wins if getting one six in 4 rolls, while in the second game played with\n",
    "# two die, the player wins if getting two sixes (at the same time) in 24 rolls (with two die).\n",
    "# Calculate the odds of winning in both games. Which game would you play, if either?\n",
    "\n",
    "p_dice = 1/6\n",
    "\n",
    "probability_game1 = stats.binom.sf(0, 4, p_dice)\n",
    "probability_game2 = stats.binom.pmf(2, 24, p_dice)\n",
    "\n",
    "print(f'Probability of winning game1: {probability_game1:.2f}')\n",
    "print(f'Probability of winning game2: {probability_game2:.2f}')"
   ]
  },
  {
   "attachments": {},
   "cell_type": "markdown",
   "metadata": {},
   "source": [
    "### 1.2) "
   ]
  },
  {
   "cell_type": "code",
   "execution_count": 29,
   "metadata": {},
   "outputs": [
    {
     "name": "stdout",
     "output_type": "stream",
     "text": [
      "It should be poisson distributed\n",
      "Probability of seeing 42 events in a single day: 0.0000014\n",
      "Probability of seeing 42 events during the 1730 days: 0.0023705\n"
     ]
    }
   ],
   "source": [
    "# The IceCube experiment has been running for 1730 days, and has for a particular\n",
    "# analysis found an average random background rate of 18.9 event per day.\n",
    "# 1.2.1) What distribution should the daily number of (background) events follow?\n",
    "print('It should be poisson distributed')\n",
    "\n",
    "\n",
    "\n",
    "# 1.2.2) If the experiment in a single day saw 42 events, would that signify a statistically significant excess\n",
    "lambda_icecube = 18.9\n",
    "p_local_icecube = stats.poisson.sf(42, lambda_icecube)\n",
    "print(f'Probability of seeing 42 events in a single day: {p_local_icecube:.7f}')\n",
    "\n",
    "p_global_icecube = 1-(1-p_local_icecube)**(1730)\n",
    "print(f'Probability of seeing 42 events during the 1730 days: {p_global_icecube:.7f}')"
   ]
  },
  {
   "attachments": {},
   "cell_type": "markdown",
   "metadata": {},
   "source": [
    "### 1.3)"
   ]
  },
  {
   "cell_type": "code",
   "execution_count": 30,
   "metadata": {},
   "outputs": [
    {
     "name": "stdout",
     "output_type": "stream",
     "text": [
      "Fraction taller than 1.85 m: 0.002\n",
      "Average height of the 20% tallest is 1.730 m\n"
     ]
    }
   ],
   "source": [
    "# Assume that the height of Danish women follows a Gaussian distribution with a mean of 1.68 m and a standard deviation of 0.06 m.\n",
    "\n",
    "# 1.3.1) What fraction of women are taller than 1.85 m?\n",
    "\n",
    "mu = 1.68\n",
    "sigma = 0.06\n",
    "p_taller_than_185 = stats.norm.sf(1.85, mu, sigma)\n",
    "print(f'Fraction taller than 1.85 m: {p_taller_than_185:.3f}')\n",
    "\n",
    "\n",
    "\n",
    "\n",
    "# 1.2.2) Find (possibly numerically) the average height of the 20% tallest women?\n",
    "\n",
    "height_20_tallest = stats.norm.ppf(1-0.2, mu, sigma)                                        #ppf gives the value of the distribution at a given probability\n",
    "print(f'Average height of the 20% tallest is {height_20_tallest:.3f} m')\n"
   ]
  },
  {
   "attachments": {},
   "cell_type": "markdown",
   "metadata": {},
   "source": [
    "## 2) "
   ]
  },
  {
   "attachments": {},
   "cell_type": "markdown",
   "metadata": {},
   "source": [
    "### 2.1) "
   ]
  },
  {
   "cell_type": "code",
   "execution_count": 55,
   "metadata": {},
   "outputs": [
    {
     "data": {
      "text/latex": [
       "$\\displaystyle \\frac{\\sqrt{\\frac{4 L^{2} \\sigma_{r}^{2} + r^{2} \\sigma_{L}^{2}}{r^{6}}}}{\\pi}$"
      ],
      "text/plain": [
       "sqrt((4*L**2*sigma_r**2 + r**2*sigma_L**2)/r**6)/pi"
      ]
     },
     "metadata": {},
     "output_type": "display_data"
    },
    {
     "data": {
      "text/latex": [
       "$\\displaystyle \\frac{\\sigma_{L}^{2}}{\\pi^{2} r^{4}}$"
      ],
      "text/plain": [
       "sigma_L**2/(pi**2*r**4)"
      ]
     },
     "metadata": {},
     "output_type": "display_data"
    },
    {
     "data": {
      "text/latex": [
       "$\\displaystyle \\frac{4 L^{2} \\sigma_{r}^{2}}{\\pi^{2} r^{6}}$"
      ],
      "text/plain": [
       "4*L**2*sigma_r**2/(pi**2*r**6)"
      ]
     },
     "metadata": {},
     "output_type": "display_data"
    }
   ],
   "source": [
    "# The resistance of a cylindrical resistor is proportional to the length L, and inversel proportional to the cross sectional area A = πr2.\n",
    "# 2.1.1) What should the relation between the relative uncertainties on L and r be for them to contribute equally to the uncertainty on the resistance?\n",
    "\n",
    "resistance_eq, resistance_func , resistance_func_err, resistance_contrib = Errorpropagation('L/(pi*r**2)', 'L r')\n",
    "\n",
    "sig_L = resistance_contrib[0]\n",
    "sig_r = resistance_contrib[1]\n",
    "\n",
    "display(resistance_eq)\n",
    "display(sig_L)\n",
    "display(sig_r)\n",
    "\n"
   ]
  },
  {
   "attachments": {},
   "cell_type": "markdown",
   "metadata": {},
   "source": [
    "$\\frac{sig_L/L}{sig_r/r} = \\frac{\\frac{\\sigma_{L}^{2}}{\\pi^{2} r^{4}}/L}{\\frac{4 L^{2} \\sigma_{r}^{2}}{\\pi^{2} r^{6}}/r} = \\frac{\\sigma_{L}^{2}}{r^{3} 4 L^{3} \\sigma_{r}^{2}}$\n",
    "\n",
    "$\\implies 4 L^3 r^3 \\cdot \\sigma_L = \\sigma_r$"
   ]
  },
  {
   "attachments": {},
   "cell_type": "markdown",
   "metadata": {},
   "source": [
    "### 2.2) "
   ]
  },
  {
   "cell_type": "code",
   "execution_count": 64,
   "metadata": {},
   "outputs": [
    {
     "name": "stdout",
     "output_type": "stream",
     "text": [
      "Average speed: 310.4 +/- 28.1 m/s\n",
      "Average kinetic energy: 404.7 +/- 77.2 J\n"
     ]
    },
    {
     "ename": "TypeError",
     "evalue": "'Mul' object is not callable",
     "output_type": "error",
     "traceback": [
      "\u001b[1;31m---------------------------------------------------------------------------\u001b[0m",
      "\u001b[1;31mTypeError\u001b[0m                                 Traceback (most recent call last)",
      "\u001b[1;32mc:\\Users\\simon\\OneDrive\\Andet\\Sikkerhedskopiering\\GitHub\\AppStat2022\\exam2016\\2016_practice_exam.ipynb Cell 15\u001b[0m in \u001b[0;36m<cell line: 28>\u001b[1;34m()\u001b[0m\n\u001b[0;32m     <a href='vscode-notebook-cell:/c%3A/Users/simon/OneDrive/Andet/Sikkerhedskopiering/GitHub/AppStat2022/exam2016/2016_practice_exam.ipynb#X31sZmlsZQ%3D%3D?line=24'>25</a>\u001b[0m v_contrib \u001b[39m=\u001b[39m ekin_contrib[\u001b[39m0\u001b[39m]\n\u001b[0;32m     <a href='vscode-notebook-cell:/c%3A/Users/simon/OneDrive/Andet/Sikkerhedskopiering/GitHub/AppStat2022/exam2016/2016_practice_exam.ipynb#X31sZmlsZQ%3D%3D?line=25'>26</a>\u001b[0m m_contrib \u001b[39m=\u001b[39m ekin_contrib[\u001b[39m1\u001b[39m]\n\u001b[1;32m---> <a href='vscode-notebook-cell:/c%3A/Users/simon/OneDrive/Andet/Sikkerhedskopiering/GitHub/AppStat2022/exam2016/2016_practice_exam.ipynb#X31sZmlsZQ%3D%3D?line=27'>28</a>\u001b[0m \u001b[39mprint\u001b[39m(v_contrib(m_bullet))\n",
      "\u001b[1;31mTypeError\u001b[0m: 'Mul' object is not callable"
     ]
    }
   ],
   "source": [
    "# A group of ten students have each measured the speed of a bullet, with results as follows:\n",
    "v_bullet = [361, 200, 390, 223, 232, 248, 243, 386, 443, 378]\n",
    "\n",
    "# 2.2.1) Assuming independent measurements, what is the average speed and its uncertainty?\n",
    "v_bullet_mean = np.mean(v_bullet)\n",
    "v_bullet_std = np.std(v_bullet, ddof=1)\n",
    "v_bullet_mean_err = v_bullet_std/np.sqrt(len(v_bullet))\n",
    "print(f'Average speed: {v_bullet_mean:.1f} +/- {v_bullet_mean_err:.1f} m/s')\n",
    "\n",
    "\n",
    "# 2.2.2) Given mbullet = 8.4 ± 0.5 g, what is the average kinetic energy, Ekin and its uncertainty?\n",
    "m_bullet = 0.0084\n",
    "m_bullet_err = 0.0005\n",
    "\n",
    "ekin_eq, ekin_func , ekin_func_err, ekin_contrib = Errorpropagation('0.5*m*v**2', 'v m')\n",
    "\n",
    "Ekin = ekin_func(v_bullet_mean, m_bullet)\n",
    "Ekin_err = ekin_func_err(v_bullet_mean, m_bullet, v_bullet_mean_err, m_bullet_err)\n",
    "\n",
    "print(f'Average kinetic energy: {Ekin:.1f} +/- {Ekin_err:.1f} J')\n",
    "\n",
    "\n",
    "# 2.2.3) Which uncertainty dominates in determining Ekin? And if speed and mass uncertainties are to contribute evenly, what “suitable” number of speed measurements is needed in total?\n",
    "\n",
    "v_contrib = ekin_contrib[0]\n",
    "m_contrib = ekin_contrib[1]\n",
    "\n",
    "\n"
   ]
  },
  {
   "cell_type": "code",
   "execution_count": 57,
   "metadata": {},
   "outputs": [
    {
     "name": "stdout",
     "output_type": "stream",
     "text": [
      "Average speed: 310.4 +/- 28.1 m/s\n"
     ]
    }
   ],
   "source": []
  },
  {
   "cell_type": "code",
   "execution_count": null,
   "metadata": {},
   "outputs": [],
   "source": []
  }
 ],
 "metadata": {
  "kernelspec": {
   "display_name": "base",
   "language": "python",
   "name": "python3"
  },
  "language_info": {
   "codemirror_mode": {
    "name": "ipython",
    "version": 3
   },
   "file_extension": ".py",
   "mimetype": "text/x-python",
   "name": "python",
   "nbconvert_exporter": "python",
   "pygments_lexer": "ipython3",
   "version": "3.9.12 (main, Apr  4 2022, 05:22:27) [MSC v.1916 64 bit (AMD64)]"
  },
  "orig_nbformat": 4,
  "vscode": {
   "interpreter": {
    "hash": "d12e26f72a40d5c48233c54861fca038d6a92135fc0e5e920944e69c69b6b29d"
   }
  }
 },
 "nbformat": 4,
 "nbformat_minor": 2
}
