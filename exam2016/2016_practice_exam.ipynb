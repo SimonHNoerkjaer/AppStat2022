{
 "cells": [
  {
   "attachments": {},
   "cell_type": "markdown",
   "metadata": {},
   "source": [
    "App Stat 2016 exam:\n",
    "\n",
    "## Import functions"
   ]
  },
  {
   "cell_type": "code",
   "execution_count": 1,
   "metadata": {},
   "outputs": [],
   "source": [
    "#Other good imports                        \n",
    "from numpy.linalg import matrix_power                                                                       \n",
    "from iminuit import Minuit                                                                 \n",
    "from scipy.integrate import quad\n",
    "import sympy as sp\n",
    "from sympy import integrate , print_latex\n",
    "import pandas as pd\n",
    "from IPython.display import display\n",
    "\n",
    "\n",
    "#Packages needed for the external functions\n",
    "import numpy as np\n",
    "import sympy as sp\n",
    "import matplotlib.pyplot as plt\n",
    "import scipy.stats as stats\n",
    "from sklearn.metrics import roc_curve, auc\n",
    "from iminuit.util import make_func_code\n",
    "from iminuit import describe \n",
    "\n",
    "\n",
    "# import sequence of functions from external file\n",
    "import sys \n",
    "sys.path.append('../External_Functions')\n",
    "from MyExternalFunctions import *\n",
    "\n",
    "Matplotlib_settings()"
   ]
  },
  {
   "attachments": {},
   "cell_type": "markdown",
   "metadata": {},
   "source": [
    "## 1) \n"
   ]
  },
  {
   "attachments": {},
   "cell_type": "markdown",
   "metadata": {},
   "source": [
    "### 1.1) "
   ]
  },
  {
   "cell_type": "code",
   "execution_count": 2,
   "metadata": {},
   "outputs": [
    {
     "name": "stdout",
     "output_type": "stream",
     "text": [
      "Probability of winning game1: 0.518\n",
      "Probability of winning game2: 0.491\n",
      "Probability of winning game1: 0.518\n",
      "Probability of winning game2: 0.491\n",
      "Probability of winning game1: 0.518\n",
      "Probability of winning game2: 0.491\n",
      "Probability of winning game1: 0.518\n",
      "Probability of winning game2: 0.491\n"
     ]
    }
   ],
   "source": [
    "# Two games of dice, each giving the player equal odds are played. In the first game played \n",
    "# with one dice, the player wins if getting one six in 4 rolls, while in the second game played with\n",
    "# two die, the player wins if getting two sixes (at the same time) in 24 rolls (with two die).\n",
    "# Calculate the odds of winning in both games. Which game would you play, if either?\n",
    "\n",
    "# we are here talking about the probability of 1 six or more in 4 rolls and 2 sixes or more in 24 rolls\n",
    "\n",
    "p_1dice_fail = 5/6              # 6 possible outcomes, 5 of them are not 6\n",
    "p_2dice_fail = 35/36            # 36 possible outcomes, 35 of them are not 2 sixes\n",
    "\n",
    "\n",
    "# calculated directly: \n",
    "\n",
    "probability_game1 = 1 - (p_1dice_fail)**4\n",
    "probability_game2 = 1 - (p_2dice_fail)**24\n",
    "\n",
    "print(f'Probability of winning game1: {probability_game1:.3f}')\n",
    "print(f'Probability of winning game2: {probability_game2:.3f}')\n",
    "\n",
    "# calculated with survival function:\n",
    "\n",
    "probability_game1 = stats.binom.sf(3, 4, p_1dice_fail)             # sf gives the probability of getting 3 or less non-sixes\n",
    "probability_game2 = stats.binom.sf(23, 24, p_2dice_fail)           # sf gives the probability of getting 23 or less non-sixes\n",
    "\n",
    "print(f'Probability of winning game1: {1-probability_game1:.3f}')\n",
    "print(f'Probability of winning game2: {1-probability_game2:.3f}')\n",
    "\n",
    "# calculated with probability mass function:\n",
    "\n",
    "probability_game1 = stats.binom.pmf(4, 4, p_1dice_fail)           # pmf gives the probability of getting exactly 4 non-sixes\n",
    "probability_game2 = stats.binom.pmf(24, 24,p_2dice_fail)          # pmf gives the probability of getting exactly 24 non-sixes\n",
    "\n",
    "print(f'Probability of winning game1: {1-probability_game1:.3f}')\n",
    "print(f'Probability of winning game2: {1-probability_game2:.3f}')\n",
    "\n",
    "\n",
    "\n",
    "probability_game1 = stats.binom.cdf(0, 4, 1/6)                  # cdf gives the probability of getting 0 sixes\n",
    "probability_game2 = stats.binom.cdf(0, 24,1/36)                 # cdf gives the probability of getting 0 pairs of sixes\n",
    "\n",
    "print(f'Probability of winning game1: {1-probability_game1:.3f}')\n",
    "print(f'Probability of winning game2: {1-probability_game2:.3f}')\n",
    "\n"
   ]
  },
  {
   "attachments": {},
   "cell_type": "markdown",
   "metadata": {},
   "source": [
    "### 1.2) "
   ]
  },
  {
   "cell_type": "code",
   "execution_count": 3,
   "metadata": {},
   "outputs": [
    {
     "name": "stdout",
     "output_type": "stream",
     "text": [
      "It should be poisson distributed, since the number of events is discrete but lives in a countinous time-domain. lambda is average background rate pr. day: 18.9\n",
      "Probability of seeing 42 events in a single day: 0.0000032\n",
      "Probability of seeing 42 events during the 1730 days: 0.0054743\n"
     ]
    }
   ],
   "source": [
    "# The IceCube experiment has been running for 1730 days, and has for a particular\n",
    "# analysis found an average random background rate of 18.9 events per day.\n",
    "# 1.2.1) What distribution should the daily number of (background) events follow?\n",
    "print('It should be poisson distributed, since the number of events is discrete but lives in a countinous time-domain. lambda is average background rate pr. day: 18.9')\n",
    "\n",
    "\n",
    "\n",
    "# 1.2.2) If the experiment in a single day saw 42 events, would that signify a statistically significant excess\n",
    "lambda_icecube = 18.9\n",
    "p_local_icecube = stats.poisson.sf(41, lambda_icecube)                              # sf gives the probability of getting 42 or more events\n",
    "print(f'Probability of seeing 42 events in a single day: {p_local_icecube:.7f}')\n",
    "\n",
    "p_global_icecube = 1-(1-p_local_icecube)**(1730)\n",
    "print(f'Probability of seeing 42 events during the 1730 days: {p_global_icecube:.7f}')"
   ]
  },
  {
   "attachments": {},
   "cell_type": "markdown",
   "metadata": {},
   "source": [
    "### 1.3)"
   ]
  },
  {
   "cell_type": "code",
   "execution_count": 4,
   "metadata": {},
   "outputs": [
    {
     "name": "stdout",
     "output_type": "stream",
     "text": [
      "Fraction taller than 1.85 m: 0.002\n",
      "Average height of the 20% tallest is 1.730 m\n"
     ]
    }
   ],
   "source": [
    "# Assume that the height of Danish women follows a Gaussian distribution with a mean of 1.68 m and a standard deviation of 0.06 m.\n",
    "\n",
    "# 1.3.1) What fraction of women are taller than 1.85 m?\n",
    "\n",
    "mu = 1.68\n",
    "sigma = 0.06\n",
    "p_taller_than_185 = stats.norm.sf(1.85, mu, sigma)\n",
    "print(f'Fraction taller than 1.85 m: {p_taller_than_185:.3f}')\n",
    "\n",
    "\n",
    "\n",
    "\n",
    "# 1.2.2) Find (possibly numerically) the average height of the 20% tallest women?\n",
    "\n",
    "height_20_tallest = stats.norm.ppf(1-0.2, mu, sigma)                                        #ppf gives the value of the distribution at a given probability\n",
    "print(f'Average height of the 20% tallest is {height_20_tallest:.3f} m')\n"
   ]
  },
  {
   "attachments": {},
   "cell_type": "markdown",
   "metadata": {},
   "source": [
    "## 2) "
   ]
  },
  {
   "attachments": {},
   "cell_type": "markdown",
   "metadata": {},
   "source": [
    "### 2.1) "
   ]
  },
  {
   "cell_type": "code",
   "execution_count": 5,
   "metadata": {},
   "outputs": [
    {
     "data": {
      "text/latex": [
       "$\\displaystyle \\frac{\\sigma_{L}^{2}}{\\pi^{2} r^{4}}$"
      ],
      "text/plain": [
       "sigma_L**2/(pi**2*r**4)"
      ]
     },
     "metadata": {},
     "output_type": "display_data"
    },
    {
     "data": {
      "text/latex": [
       "$\\displaystyle \\frac{4 L^{2} \\sigma_{r}^{2}}{\\pi^{2} r^{6}}$"
      ],
      "text/plain": [
       "4*L**2*sigma_r**2/(pi**2*r**6)"
      ]
     },
     "metadata": {},
     "output_type": "display_data"
    },
    {
     "name": "stdout",
     "output_type": "stream",
     "text": [
      "[-sigma_L/(2*L), sigma_L/(2*L)]\n",
      "The relative uncertainty on L should be 1/2 of the relative uncertainty on r\n"
     ]
    }
   ],
   "source": [
    "# The resistance of a cylindrical resistor is proportional to the length L, and inversel proportional to the cross sectional area A = πr2.\n",
    "# 2.1.1) What should the relation between the relative uncertainties on L and r be for them to contribute equally to the uncertainty on the resistance?\n",
    "\n",
    "resistance_eq, resistance_func , resistance_func_err, resistance_contrib = Errorpropagation('L/(pi*r**2)', 'L r')\n",
    "\n",
    "sig_L = resistance_contrib[0]\n",
    "sig_r = resistance_contrib[1]\n",
    "\n",
    "display(sig_L)\n",
    "display(sig_r)\n",
    "\n",
    "print(sp.solve(sig_L - sig_r, 'sigma_r / r'))\n",
    "\n",
    "print('The relative uncertainty on L should be 1/2 of the relative uncertainty on r')\n"
   ]
  },
  {
   "attachments": {},
   "cell_type": "markdown",
   "metadata": {},
   "source": [
    "### 2.2) "
   ]
  },
  {
   "cell_type": "code",
   "execution_count": 6,
   "metadata": {},
   "outputs": [
    {
     "name": "stdout",
     "output_type": "stream",
     "text": [
      "2.2.1) Average speed: (310.4 +/- 28.1) m/s\n",
      "2.2.2) Average kinetic energy: (404.7 +/- 77.2) J\n",
      "2.2.3)\n"
     ]
    },
    {
     "data": {
      "text/latex": [
       "$\\displaystyle 1.0 m^{2} \\sigma_{v}^{2} v^{2}$"
      ],
      "text/plain": [
       "1.0*m**2*sigma_v**2*v**2"
      ]
     },
     "metadata": {},
     "output_type": "display_data"
    },
    {
     "data": {
      "text/latex": [
       "$\\displaystyle 0.25 \\sigma_{m}^{2} v^{4}$"
      ],
      "text/plain": [
       "0.25*sigma_m**2*v**4"
      ]
     },
     "metadata": {},
     "output_type": "display_data"
    },
    {
     "name": "stdout",
     "output_type": "stream",
     "text": [
      "v_contribution = 5376.29762361753\n",
      "m_contribution = 580.185495961600\n",
      "Number of v measurements needed in order for m and v to contribute equally: [85.8683009641701]\n"
     ]
    }
   ],
   "source": [
    "# A group of ten students have each measured the speed of a bullet, with results as follows:\n",
    "v_bullet = [361, 200, 390, 223, 232, 248, 243, 386, 443, 378]           # m/s\n",
    "\n",
    "# 2.2.1) Assuming independent measurements, what is the average speed and its uncertainty?\n",
    "v_bullet_mean = np.mean(v_bullet)\n",
    "v_bullet_std = np.std(v_bullet, ddof=1)\n",
    "v_bullet_mean_err = v_bullet_std/np.sqrt(len(v_bullet))\n",
    "print(f'2.2.1) Average speed: ({v_bullet_mean:.1f} +/- {v_bullet_mean_err:.1f}) m/s')\n",
    "\n",
    "\n",
    "# 2.2.2) Given mbullet = 8.4 ± 0.5 g, what is the average kinetic energy, Ekin and its uncertainty?\n",
    "m_bullet = 0.0084\n",
    "m_bullet_err = 0.0005\n",
    "\n",
    "ekin_eq, ekin_func , ekin_func_err, ekin_contrib = Errorpropagation('0.5*m*v**2', 'v m')\n",
    "\n",
    "\n",
    "Ekin = ekin_func(v_bullet_mean, m_bullet)\n",
    "Ekin_err = ekin_func_err(v_bullet_mean, m_bullet, v_bullet_mean_err, m_bullet_err)\n",
    "\n",
    "print(f'2.2.2) Average kinetic energy: ({Ekin:.1f} +/- {Ekin_err:.1f}) J')\n",
    "\n",
    "\n",
    "# 2.2.3) Which uncertainty dominates in determining Ekin? And if speed and mass uncertainties are to contribute evenly, what “suitable” number of speed measurements is needed in total?\n",
    "print('2.2.3)')\n",
    "v_contrib = ekin_contrib[0]\n",
    "m_contrib = ekin_contrib[1]\n",
    "\n",
    "display(v_contrib)\n",
    "display(m_contrib)\n",
    "\n",
    "v_contribution = v_contrib.subs({'v':v_bullet_mean, 'm':m_bullet, 'sigma_v':v_bullet_mean_err, 'sigma_m':m_bullet_err})\n",
    "m_contribution = m_contrib.subs({'v':v_bullet_mean, 'm':m_bullet,   'sigma_v':v_bullet_mean_err,'sigma_m':m_bullet_err})\n",
    "\n",
    "print('v_contribution =',v_contribution)\n",
    "print('m_contribution =',m_contribution)\n",
    "\n",
    "#how mane\n",
    "N = sp.symbols('N')\n",
    "N_measurements = sp.solve((1/sp.sqrt(N))*v_contribution - m_contribution)\n",
    "\n",
    "print('Number of v measurements needed in order for m and v to contribute equally:',N_measurements)\n",
    "\n",
    "\n"
   ]
  },
  {
   "attachments": {},
   "cell_type": "markdown",
   "metadata": {},
   "source": [
    "## 3) "
   ]
  },
  {
   "attachments": {},
   "cell_type": "markdown",
   "metadata": {},
   "source": [
    "### 3.1)"
   ]
  },
  {
   "cell_type": "code",
   "execution_count": 23,
   "metadata": {},
   "outputs": [
    {
     "name": "stdout",
     "output_type": "stream",
     "text": [
      "3.1.1) Normalization constant C = 0.243\n",
      "3.1.2) Inverse transformation method, since the function is invertable. However, on the domain [0.005,1] the acceptance-rejection method would also work, since the the function is bound. \n",
      "3.1.3) If the domain was expanded to either 0 or infinity, the inverse transformation method would be the only option, as the function would diverge in the limits.\n"
     ]
    },
    {
     "data": {
      "image/png": "[encoded data removed]",
      "text/plain": [
       "<Figure size 560x320 with 1 Axes>"
      ]
     },
     "metadata": {},
     "output_type": "display_data"
    },
    {
     "data": {
      "image/png": "[encoded data removed]",
      "text/plain": [
       "<Figure size 560x400 with 1 Axes>"
      ]
     },
     "metadata": {},
     "output_type": "display_data"
    },
    {
     "data": {
      "text/plain": [
       "Text(0.5, 22.0, 't')"
      ]
     },
     "execution_count": 23,
     "metadata": {},
     "output_type": "execute_result"
    }
   ],
   "source": [
    "# Let f(x) = C*x**(−0.9) be proportional to a PDF for x ∈ [0.005, 1].\n",
    "\n",
    "# 3.1.1) In order to fulfill the normalization criteria of a PDF, what value should C have?\n",
    "\n",
    "#using my own function for the invers transformation method, as the function is invertable. \n",
    "\n",
    "f = 'x**(-0.9)'\n",
    "x_min = 0.005\n",
    "x_max = 1\n",
    "N =10000\n",
    "\n",
    "x_val , Normalization , f_inverse = inverse_transform(f,N, x_min, x_max)\n",
    "\n",
    "#Normalization constant C\n",
    "print(f'3.1.1) Normalization constant C = {Normalization:.3f}')\n",
    "\n",
    "\n",
    "# 3.1.2) What method would you use to produce random numbers according to f(x)? Why?\n",
    "\n",
    "print('3.1.2) Inverse transformation method, since the function is invertable. However, on the domain [0.005,1] the acceptance-rejection method would also work, since the the function is bound. ')\n",
    "\n",
    "# 3.1.3) What would your answer be, if the allowed range was x ∈ [0, 1]?\n",
    "print('3.1.3) If the domain was expanded to either 0 or infinity, the inverse transformation method would be the only option, as the function would diverge in the limits.')\n",
    "\n",
    "\n",
    "# 3.1.4) Produce 10000 random numbers distributed according to f(x) and plot these.\n",
    "easy_hist(x_val, xrange=(x_min,x_max),Nbins=100,Figsize=(7,4),title='3.1.4) Random numbers distributed according to f(x)');\n",
    "\n",
    "\n",
    "# 3.1.5) Let t be a sum of 50 random values from f(x), and generate 1000 values of t. Do they follow a Gaussian distribution? And does their mean match the analytical expectation?\n",
    "r = np.random.RandomState(42)\n",
    "t = np.zeros(1000)\n",
    "for i in range(1000):\n",
    "    t[i] = np.sum(r.choice(x_val, 50))\n",
    "\n",
    "\n",
    "fig, ax, counts = easy_hist(t, xrange=(min(t),max(t)),Nbins=30,Figsize=(7,5),title='3.1.5) t values from f(x)');\n",
    "plt.close()\n",
    "ax.set_xlabel('t')\n",
    "\n",
    "\n",
    "\n"
   ]
  },
  {
   "cell_type": "code",
   "execution_count": null,
   "metadata": {},
   "outputs": [],
   "source": []
  }
 ],
 "metadata": {
  "kernelspec": {
   "display_name": "base",
   "language": "python",
   "name": "python3"
  },
  "language_info": {
   "codemirror_mode": {
    "name": "ipython",
    "version": 3
   },
   "file_extension": ".py",
   "mimetype": "text/x-python",
   "name": "python",
   "nbconvert_exporter": "python",
   "pygments_lexer": "ipython3",
   "version": "3.9.12"
  },
  "orig_nbformat": 4,
  "vscode": {
   "interpreter": {
    "hash": "d12e26f72a40d5c48233c54861fca038d6a92135fc0e5e920944e69c69b6b29d"
   }
  }
 },
 "nbformat": 4,
 "nbformat_minor": 2
}
